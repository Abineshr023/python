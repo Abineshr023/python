{
 "cells": [
  {
   "cell_type": "code",
   "execution_count": 17,
   "id": "f5af9f1a-09a0-4368-ac2f-2257af24c66b",
   "metadata": {},
   "outputs": [
    {
     "name": "stdout",
     "output_type": "stream",
     "text": [
      "['hi', 'how']\n",
      "<class 'tuple'>\n"
     ]
    }
   ],
   "source": [
    "#TUPLE-its a non homogeneous,stores single & multiple data\n",
    "#it is immutable\n",
    "#allow duplicates\n",
    "'''remove hello in tuple'''\n",
    "k1=('hi','hello','how')       #if do any changes in tuple to change one type to other(immute->mutable) like this below \n",
    "l=list(k1)                    #the tuple is changed to list because to update changes\n",
    "l.remove('hello')\n",
    "print(l)\n",
    "t=tuple(l)\n",
    "t                             #if want to tuple finally that the same procedure to change type\n",
    "print(type(t))"
   ]
  },
  {
   "cell_type": "code",
   "execution_count": 50,
   "id": "d863fd8f-7a98-4fdf-9b0f-14862a3d47db",
   "metadata": {},
   "outputs": [
    {
     "name": "stdout",
     "output_type": "stream",
     "text": [
      "thar\n",
      "('fortuner', 'XUV', 'thar', 'creta')\n",
      "('fortuner', 'XUV', 'thar', 'creta')\n"
     ]
    },
    {
     "data": {
      "text/plain": [
       "['fortuner', 'lampo', 'thar', 'creta']"
      ]
     },
     "execution_count": 50,
     "metadata": {},
     "output_type": "execute_result"
    }
   ],
   "source": [
    "mt =(\"fortuner\", \"XUV\", \"thar\",\"creta\")\n",
    "print(mt[2])\n",
    "print(mt[0:])\n",
    "print(mt[-4:])\n",
    "mtl=list(mt)\n",
    "mtl[1]='lampo'\n",
    "mtl"
   ]
  },
  {
   "cell_type": "code",
   "execution_count": 64,
   "id": "b70aca0c-9bec-4098-8e0c-17d134422ef4",
   "metadata": {},
   "outputs": [
    {
     "name": "stdout",
     "output_type": "stream",
     "text": [
      "fortuner\n",
      "fortuner\n",
      "XUV\n",
      "thar\n",
      "creta\n"
     ]
    }
   ],
   "source": [
    "mt =(\"fortuner\", \"XUV\", \"thar\",\"creta\")\n",
    "(gd,gd1,gd2,nb)=mt\n",
    "print(mt[0])\n",
    "print(gd)\n",
    "print(gd1)\n",
    "print(gd2)\n",
    "print(nb)"
   ]
  },
  {
   "cell_type": "code",
   "execution_count": 66,
   "id": "20af122e-f63c-4c08-8c54-876d592f7af6",
   "metadata": {},
   "outputs": [
    {
     "ename": "ValueError",
     "evalue": "too many values to unpack (expected 3)",
     "output_type": "error",
     "traceback": [
      "\u001b[1;31m---------------------------------------------------------------------------\u001b[0m",
      "\u001b[1;31mValueError\u001b[0m                                Traceback (most recent call last)",
      "Cell \u001b[1;32mIn[66], line 3\u001b[0m\n\u001b[0;32m      1\u001b[0m veg \u001b[38;5;241m=\u001b[39m (\u001b[38;5;124m\"\u001b[39m\u001b[38;5;124mapple\u001b[39m\u001b[38;5;124m\"\u001b[39m, \u001b[38;5;124m\"\u001b[39m\u001b[38;5;124mbanana\u001b[39m\u001b[38;5;124m\"\u001b[39m, \u001b[38;5;124m\"\u001b[39m\u001b[38;5;124mcherry\u001b[39m\u001b[38;5;124m\"\u001b[39m, \u001b[38;5;124m\"\u001b[39m\u001b[38;5;124mstrawberry\u001b[39m\u001b[38;5;124m\"\u001b[39m, \u001b[38;5;124m\"\u001b[39m\u001b[38;5;124mraspberry\u001b[39m\u001b[38;5;124m\"\u001b[39m)\n\u001b[1;32m----> 3\u001b[0m (green, yellow,red) \u001b[38;5;241m=\u001b[39m veg\n\u001b[0;32m      5\u001b[0m \u001b[38;5;28mprint\u001b[39m(green)\n\u001b[0;32m      6\u001b[0m \u001b[38;5;28mprint\u001b[39m(yellow)\n",
      "\u001b[1;31mValueError\u001b[0m: too many values to unpack (expected 3)"
     ]
    }
   ],
   "source": [
    "veg = (\"apple\", \"banana\", \"cherry\", \"strawberry\", \"raspberry\")\n",
    "\n",
    "(green, yellow,red) = veg\n",
    "\n",
    "print(green)\n",
    "print(yellow)\n",
    "print(red)                # because they dont have value for each element"
   ]
  },
  {
   "cell_type": "code",
   "execution_count": 71,
   "id": "df3414a7-6c7b-46fc-b04b-245753c1bf44",
   "metadata": {},
   "outputs": [
    {
     "name": "stdout",
     "output_type": "stream",
     "text": [
      "['fortuner', 'XUV', 'thar', 'creta']\n"
     ]
    }
   ],
   "source": [
    "a=(\"fortuner\", \"XUV\", \"thar\",\"creta\")\n",
    "(*car,)=a\n",
    "print(car)   #Without the comma, (*car) not unpacking."
   ]
  },
  {
   "cell_type": "code",
   "execution_count": 73,
   "id": "50228827-36ab-4b73-bd45-879529d97514",
   "metadata": {},
   "outputs": [
    {
     "name": "stdout",
     "output_type": "stream",
     "text": [
      "['fortuner', 'XUV', 'thar', 'creta']\n",
      "rx\n"
     ]
    }
   ],
   "source": [
    "a=(\"fortuner\", \"XUV\", \"thar\",\"creta\",\"rx\")\n",
    "(*car,bike)=a\n",
    "print(car)\n",
    "print(bike)"
   ]
  },
  {
   "cell_type": "code",
   "execution_count": null,
   "id": "00d61148-6380-49bd-8ace-e521794036f2",
   "metadata": {},
   "outputs": [],
   "source": [
    "mytuple1 = (\"a\", \"b\" , \"c\")\n",
    "mytuple2 = (1, 2, 3)\n",
    "\n",
    "mytuple3 = mytuple1 + mytuple2\n",
    "print(mytuple3)                        # + in the sence it be concat the two elements"
   ]
  },
  {
   "cell_type": "code",
   "execution_count": 74,
   "id": "86636225-5432-4e92-98ab-7936d76d23a6",
   "metadata": {},
   "outputs": [
    {
     "name": "stdout",
     "output_type": "stream",
     "text": [
      "2\n"
     ]
    }
   ],
   "source": [
    "mytuple = (1, 3, 7, 8, 7, 5, 4, 6, 8, 5)\n",
    "\n",
    "x = mytuple.count(7)          #count the element\n",
    "\n",
    "print(x)"
   ]
  },
  {
   "cell_type": "code",
   "execution_count": 75,
   "id": "2bf84ae1-c1c5-4aa2-9a65-69d5b2ab3ae4",
   "metadata": {},
   "outputs": [
    {
     "data": {
      "text/plain": [
       "(1, 32, 5, 870, 90, 67, 349)"
      ]
     },
     "execution_count": 75,
     "metadata": {},
     "output_type": "execute_result"
    }
   ],
   "source": [
    "#input\n",
    "k=(1,32,5,870,90)\n",
    "k1=(67,349)\n",
    "k=list(k)\n",
    "k1=list(k1)\n",
    "k.extend(k1)\n",
    "tuple(k)\n",
    "# output\n",
    "#k=(1,32,5,870,90,67,349)"
   ]
  },
  {
   "cell_type": "code",
   "execution_count": 76,
   "id": "7adc9b18-4c78-4e0c-a954-aaf18ce16cf2",
   "metadata": {},
   "outputs": [
    {
     "data": {
      "text/plain": [
       "(1, 32, 5, 870, 90, 67, 349, 67, 349)"
      ]
     },
     "execution_count": 76,
     "metadata": {},
     "output_type": "execute_result"
    }
   ],
   "source": [
    "#other one\n",
    "tuple(list(k)+list(k1))"
   ]
  },
  {
   "cell_type": "code",
   "execution_count": null,
   "id": "27b03f21-8657-44ca-9727-674569ee1a98",
   "metadata": {},
   "outputs": [],
   "source": []
  }
 ],
 "metadata": {
  "kernelspec": {
   "display_name": "Python [conda env:base] *",
   "language": "python",
   "name": "conda-base-py"
  },
  "language_info": {
   "codemirror_mode": {
    "name": "ipython",
    "version": 3
   },
   "file_extension": ".py",
   "mimetype": "text/x-python",
   "name": "python",
   "nbconvert_exporter": "python",
   "pygments_lexer": "ipython3",
   "version": "3.13.5"
  }
 },
 "nbformat": 4,
 "nbformat_minor": 5
}
