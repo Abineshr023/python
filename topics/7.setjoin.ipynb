{
 "cells": [
  {
   "cell_type": "code",
   "execution_count": 1,
   "id": "713c3142-8963-474a-9954-8258c9a346ed",
   "metadata": {},
   "outputs": [
    {
     "data": {
      "text/plain": [
       "{1, 2, 3, 'apple', 'banana', 'cherry', 'dred', 'red', 'yellow'}"
      ]
     },
     "execution_count": 1,
     "metadata": {},
     "output_type": "execute_result"
    }
   ],
   "source": [
    "#UNION-to concat two set ,to use | instead of using union \n",
    "c={\"apple\", \"banana\", \"cherry\"}\n",
    "c1={\"red\",\"yellow\",\"dred\"}\n",
    "c2={1,2,3}\n",
    "\n",
    "c.union(c1,c2)\n",
    "#to set a variable to store\n",
    "d=c.union(c1,c2)\n",
    "d\n",
    "type(d)\n",
    "d\n",
    "c3=d|c\n",
    "c3"
   ]
  },
  {
   "cell_type": "code",
   "execution_count": 3,
   "id": "529dd4b3-9103-4b27-83cf-7cb3f19b29ff",
   "metadata": {},
   "outputs": [
    {
     "data": {
      "text/plain": [
       "{1, 2, 3, 4, 5, 6, 'apple', 'banana', 'cherry', 'dred', 'red', 'yellow'}"
      ]
     },
     "execution_count": 3,
     "metadata": {},
     "output_type": "execute_result"
    }
   ],
   "source": [
    "c={\"apple\", \"banana\", \"cherry\"}\n",
    "c1={\"red\",\"yellow\",\"dred\"}\n",
    "c2={1,2,3}\n",
    "c3={1,2,3,4,5,6}\n",
    "c4=c.union(c1,c2,c3)\n",
    "c4"
   ]
  },
  {
   "cell_type": "code",
   "execution_count": 5,
   "id": "f7323195-5562-482d-bc9a-248d60caf00a",
   "metadata": {},
   "outputs": [
    {
     "data": {
      "text/plain": [
       "{1, 2, 3, 4, 5, 6, 'apple', 'banana', 'cherry', 'dred', 'red', 'yellow'}"
      ]
     },
     "execution_count": 5,
     "metadata": {},
     "output_type": "execute_result"
    }
   ],
   "source": [
    "#(|)\n",
    "c={\"apple\", \"banana\", \"cherry\"}\n",
    "c1={\"red\",\"yellow\",\"dred\"}\n",
    "c2={1,2,3}\n",
    "c3={1,2,3,4,5,6}\n",
    "c5=c|c1|c2|c3\n",
    "c5"
   ]
  },
  {
   "cell_type": "code",
   "execution_count": 11,
   "id": "633bb3c6-357d-4bf3-9a41-e6627b66256b",
   "metadata": {},
   "outputs": [
    {
     "data": {
      "text/plain": [
       "{1, 2, 3, 4, 5, 6, 'apple', 'banana', 'cherry', 'dred', 'red', 'yellow'}"
      ]
     },
     "execution_count": 11,
     "metadata": {},
     "output_type": "execute_result"
    }
   ],
   "source": [
    "c4={1, 2, 3, 4, 5, 6, 'apple', 'banana', 'cherry', 'dred', 'red', 'yellow'}\n",
    "c5={1, 2, 3, 4, 5, 6, 'apple', 'banana', 'cherry', 'dred', 'red', 'yellow'}\n",
    "\n",
    "c4.update(c5)\n",
    "c4"
   ]
  },
  {
   "cell_type": "code",
   "execution_count": 26,
   "id": "984fd2bf-d520-4e5b-8fca-bc1c18190ffd",
   "metadata": {},
   "outputs": [
    {
     "name": "stdout",
     "output_type": "stream",
     "text": [
      "{2}\n"
     ]
    },
    {
     "data": {
      "text/plain": [
       "{2, 3, 'abi'}"
      ]
     },
     "execution_count": 26,
     "metadata": {},
     "output_type": "execute_result"
    }
   ],
   "source": [
    "#INTERSECTION -to get the common element of both set,to use & instead of intersection\n",
    "i={1,2,3,4,\"abi\"}\n",
    "i1={\"abi\",2,3,6}\n",
    "i2={\"abinesh\",\"python\",2}\n",
    "s=i.intersection(i1)\n",
    "s1=i.intersection(i1,i2)            #to get intersection part of three set\n",
    "print(s1)\n",
    "s"
   ]
  },
  {
   "cell_type": "code",
   "execution_count": 16,
   "id": "2078517c-0ac5-452a-aa2b-118270368907",
   "metadata": {},
   "outputs": [
    {
     "data": {
      "text/plain": [
       "{2}"
      ]
     },
     "execution_count": 16,
     "metadata": {},
     "output_type": "execute_result"
    }
   ],
   "source": [
    "#(&)\n",
    "s2=i&i1&i2\n",
    "s2"
   ]
  },
  {
   "cell_type": "code",
   "execution_count": 29,
   "id": "57fd67e7-0062-4df3-b22b-ba987a2cdcdd",
   "metadata": {},
   "outputs": [
    {
     "data": {
      "text/plain": [
       "{2, 3, 'abi'}"
      ]
     },
     "execution_count": 29,
     "metadata": {},
     "output_type": "execute_result"
    }
   ],
   "source": [
    "#intersection_update\n",
    "#original set changed\n",
    "i1={1,2,3,4,\"abi\"}\n",
    "i2={\"abi\",2,3,6}\n",
    "i1.intersection_update(i2)   #to update the i1 set by intersect of i2\n",
    "i1             #i1 updated to intersect of both element"
   ]
  },
  {
   "cell_type": "code",
   "execution_count": 35,
   "id": "21df83c7-d934-42f7-b618-d13bfddc00d6",
   "metadata": {},
   "outputs": [
    {
     "name": "stdout",
     "output_type": "stream",
     "text": [
      "{1, 4}\n"
     ]
    },
    {
     "data": {
      "text/plain": [
       "{6}"
      ]
     },
     "execution_count": 35,
     "metadata": {},
     "output_type": "execute_result"
    }
   ],
   "source": [
    "#DIFFERENCES -to get the difference of both set,to use (-) instead of difference\n",
    "#it gives the 1set value of difference at a time\n",
    "i1={1,2,3,4,\"abi\"}\n",
    "i2={\"abi\",2,3,6}\n",
    "i=i1.difference(i2)      #its to find the i1 diff\n",
    "i3=i2.difference(i1)     #its to find the i2 diff\n",
    "print(i)\n",
    "i3"
   ]
  },
  {
   "cell_type": "code",
   "execution_count": 23,
   "id": "625f08ae-dc62-4d9e-90e5-53806dabda9c",
   "metadata": {},
   "outputs": [
    {
     "name": "stdout",
     "output_type": "stream",
     "text": [
      "{6}\n"
     ]
    },
    {
     "data": {
      "text/plain": [
       "{1, 4}"
      ]
     },
     "execution_count": 23,
     "metadata": {},
     "output_type": "execute_result"
    }
   ],
   "source": [
    "#(-)\n",
    "i1={1,2,3,4,\"abi\"}\n",
    "i2={\"abi\",2,3,6}\n",
    "i=i1-i2\n",
    "i3=i2-i1\n",
    "print(i3)\n",
    "i"
   ]
  },
  {
   "cell_type": "code",
   "execution_count": 1,
   "id": "87bd8970-2648-45e8-a39a-ef0eb98fc865",
   "metadata": {},
   "outputs": [
    {
     "data": {
      "text/plain": [
       "{6}"
      ]
     },
     "execution_count": 1,
     "metadata": {},
     "output_type": "execute_result"
    }
   ],
   "source": [
    "#difference_update\n",
    "#original set changed\n",
    "i1={1,2,3,4,\"abi\"}\n",
    "i2={\"abi\",2,3,6}\n",
    "i2.difference_update(i1)             # doubt (1,4) why not update in i2 because they are different (compare intersection)\n",
    "i2"
   ]
  },
  {
   "cell_type": "code",
   "execution_count": 28,
   "id": "43489bdc-3167-4c34-afb0-9273c61e6944",
   "metadata": {},
   "outputs": [
    {
     "name": "stdout",
     "output_type": "stream",
     "text": [
      "{1, 4, 6}\n"
     ]
    },
    {
     "data": {
      "text/plain": [
       "{1, 4, 6}"
      ]
     },
     "execution_count": 28,
     "metadata": {},
     "output_type": "execute_result"
    }
   ],
   "source": [
    "#symmetric_difference\n",
    "# to get the difference from both like difference but it gives the diff of both set\n",
    "#to use(^) instead of symmetric_difference\n",
    "#the original set unchanged\n",
    "\n",
    "i1={1,2,3,4,\"abi\"}\n",
    "i2={\"abi\",2,3,6}\n",
    "i3=i1.symmetric_difference(i2)\n",
    "i=i2.symmetric_difference(i1)\n",
    "print(i3)\n",
    "i"
   ]
  },
  {
   "cell_type": "code",
   "execution_count": 30,
   "id": "9d1caad9-f90f-43ea-83cd-be9121445646",
   "metadata": {},
   "outputs": [
    {
     "name": "stdout",
     "output_type": "stream",
     "text": [
      "{1, 4, 6}\n"
     ]
    },
    {
     "data": {
      "text/plain": [
       "{1, 4, 6}"
      ]
     },
     "execution_count": 30,
     "metadata": {},
     "output_type": "execute_result"
    }
   ],
   "source": [
    "#(^)\n",
    "\n",
    "i1={1,2,3,4,\"abi\"}\n",
    "i2={\"abi\",2,3,6}\n",
    "i3=i1^i2\n",
    "i=i2^i1\n",
    "print(i3)\n",
    "i"
   ]
  },
  {
   "cell_type": "code",
   "execution_count": 38,
   "id": "58a7955c-4430-45f6-a4ad-9ac50dafba45",
   "metadata": {},
   "outputs": [
    {
     "data": {
      "text/plain": [
       "{1, 4, 6}"
      ]
     },
     "execution_count": 38,
     "metadata": {},
     "output_type": "execute_result"
    }
   ],
   "source": [
    "#symmetric_difference_update\n",
    "#the original set is changed\n",
    "\n",
    "i1={1,2,3,4,\"abi\"}\n",
    "i2={\"abi\",2,3,6,}\n",
    "i1.symmetric_difference_update(i2)\n",
    "i1"
   ]
  },
  {
   "cell_type": "code",
   "execution_count": null,
   "id": "3b2f8821-331c-4c35-8b77-4343099077e6",
   "metadata": {},
   "outputs": [],
   "source": []
  }
 ],
 "metadata": {
  "kernelspec": {
   "display_name": "Python [conda env:base] *",
   "language": "python",
   "name": "conda-base-py"
  },
  "language_info": {
   "codemirror_mode": {
    "name": "ipython",
    "version": 3
   },
   "file_extension": ".py",
   "mimetype": "text/x-python",
   "name": "python",
   "nbconvert_exporter": "python",
   "pygments_lexer": "ipython3",
   "version": "3.13.5"
  }
 },
 "nbformat": 4,
 "nbformat_minor": 5
}
