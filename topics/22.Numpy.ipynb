{
 "cells": [
  {
   "cell_type": "markdown",
   "id": "bead4a40-7aa0-409a-8949-f20750d3e62d",
   "metadata": {},
   "source": [
    "# NUMPY:\n",
    "* NumPy is a Python library.  \n",
    "* NumPy is used for working with arrays.  \n",
    "* NumPy is short for \"Numerical Python\".\n",
    "* import numpy as np -this the formate to import"
   ]
  },
  {
   "cell_type": "code",
   "execution_count": 2,
   "id": "6aa74daa-058f-4302-aa0e-c3f8f4fd564b",
   "metadata": {},
   "outputs": [],
   "source": [
    "import numpy as np"
   ]
  },
  {
   "cell_type": "code",
   "execution_count": 4,
   "id": "bc01775b-7327-41c6-b034-5923010a7239",
   "metadata": {},
   "outputs": [
    {
     "name": "stdout",
     "output_type": "stream",
     "text": [
      "2\n"
     ]
    }
   ],
   "source": [
    "a=np.array(2)\n",
    "print(a)"
   ]
  },
  {
   "cell_type": "code",
   "execution_count": 7,
   "id": "2a8d81ff-736b-403a-baf0-8d756766a877",
   "metadata": {},
   "outputs": [
    {
     "name": "stdout",
     "output_type": "stream",
     "text": [
      "<class 'numpy.ndarray'>\n",
      "int64\n"
     ]
    }
   ],
   "source": [
    "print(type(a))\n",
    "print(a.dtype)"
   ]
  },
  {
   "cell_type": "code",
   "execution_count": 8,
   "id": "f09fdd4f-b830-4296-8fb3-b1efbc54fcf3",
   "metadata": {},
   "outputs": [
    {
     "name": "stdout",
     "output_type": "stream",
     "text": [
      "[1 2 3 4 5]\n"
     ]
    }
   ],
   "source": [
    "a=np.array([1,2,3,4,5])\n",
    "print(a)"
   ]
  },
  {
   "cell_type": "code",
   "execution_count": 10,
   "id": "de85ded3-8e33-4642-8152-f4012897ba9c",
   "metadata": {},
   "outputs": [
    {
     "name": "stdout",
     "output_type": "stream",
     "text": [
      "2.1.3\n"
     ]
    }
   ],
   "source": [
    "print(np.__version__)                 #to findout a version of numpy"
   ]
  },
  {
   "cell_type": "markdown",
   "id": "41e67337-82ee-4020-9c25-c8022bac12fa",
   "metadata": {},
   "source": [
    "\n",
    "**types of arrays**\n",
    "\n",
    "* 0-D Arrays\n",
    "* 1-D Arrays\n",
    "* 2-D Arrays-its perform row & column\n",
    "* 3-D arrays -it follows layer,row,coloumn"
   ]
  },
  {
   "cell_type": "code",
   "execution_count": 13,
   "id": "c6036a17-0c40-4a99-ac33-b9c8634c5e86",
   "metadata": {},
   "outputs": [
    {
     "name": "stdout",
     "output_type": "stream",
     "text": [
      "90\n",
      "0\n",
      "()\n"
     ]
    }
   ],
   "source": [
    "# 0 dimens\n",
    "\n",
    "import numpy as np\n",
    "a = np.array(90)\n",
    "print(a)\n",
    "print(a.ndim)         #finding dimension\n",
    "print(a.shape)"
   ]
  },
  {
   "cell_type": "code",
   "execution_count": 15,
   "id": "2f0165b2-114d-41db-b83f-23fe51981925",
   "metadata": {},
   "outputs": [
    {
     "name": "stdout",
     "output_type": "stream",
     "text": [
      "[1 2 3 4 5]\n",
      "<class 'numpy.ndarray'>\n",
      "1\n",
      "(5,)\n",
      "[1 2 3 4 5]\n"
     ]
    }
   ],
   "source": [
    "#1 dimension\n",
    "import numpy as np\n",
    "a=np.array([1,2,3,4,5])\n",
    "print(a)\n",
    "print(type(a))\n",
    "print(a.ndim)\n",
    "print(a.shape)\n",
    "print(a)"
   ]
  },
  {
   "cell_type": "code",
   "execution_count": 16,
   "id": "d4b3e884-bb03-443d-ba70-aa6c64912997",
   "metadata": {},
   "outputs": [
    {
     "name": "stdout",
     "output_type": "stream",
     "text": [
      "2\n",
      "[[1 2 3]\n",
      " [4 5 6]\n",
      " [6 7 8]]\n"
     ]
    }
   ],
   "source": [
    "#2 dimension\n",
    "import numpy as np\n",
    "b=np.array([[1,2,3],[4,5,6],[6,7,8]])\n",
    "print(b.ndim)\n",
    "print(b)"
   ]
  },
  {
   "cell_type": "code",
   "execution_count": 17,
   "id": "9080a7a1-1898-49ad-9ce3-6f2730c2a3e3",
   "metadata": {},
   "outputs": [
    {
     "name": "stdout",
     "output_type": "stream",
     "text": [
      "3\n",
      "[[[1 2 3]\n",
      "  [4 5 6]\n",
      "  [7 8 9]\n",
      "  [0 2 1]]]\n"
     ]
    }
   ],
   "source": [
    "#3 dimension\n",
    "import numpy as np\n",
    "a=np.array([[[1,2,3],[4,5,6],[7,8,9],[0,2,1]]])\n",
    "print(a.ndim)\n",
    "print(a)"
   ]
  },
  {
   "cell_type": "markdown",
   "id": "947f7be9-5104-44c4-80db-b62907b8ca7c",
   "metadata": {},
   "source": [
    "# indexing"
   ]
  },
  {
   "cell_type": "code",
   "execution_count": 19,
   "id": "bef3ca54-fe06-4a54-b335-9f66c97fe6f0",
   "metadata": {},
   "outputs": [
    {
     "name": "stdout",
     "output_type": "stream",
     "text": [
      "3\n"
     ]
    }
   ],
   "source": [
    "import numpy as np\n",
    "a=np.array([1,2,3,5])\n",
    "print(a[2])"
   ]
  },
  {
   "cell_type": "code",
   "execution_count": 20,
   "id": "30bc19c9-65e3-4583-a8fd-93ae62bd99ed",
   "metadata": {},
   "outputs": [
    {
     "data": {
      "text/plain": [
       "4"
      ]
     },
     "execution_count": 20,
     "metadata": {},
     "output_type": "execute_result"
    }
   ],
   "source": [
    "#normal list\n",
    "a=[1,2,3],[3,4,5],[6,9,8]\n",
    "a[1][1]"
   ]
  },
  {
   "cell_type": "code",
   "execution_count": 58,
   "id": "af25ee9a-1e39-4217-8408-1b72adb1723a",
   "metadata": {},
   "outputs": [
    {
     "name": "stdout",
     "output_type": "stream",
     "text": [
      "5\n",
      "2\n"
     ]
    }
   ],
   "source": [
    "#in numpy\n",
    "n = np.array([[1,8],[5,9]])\n",
    "print(n[1,0])\n",
    "print(n.ndim)"
   ]
  },
  {
   "cell_type": "code",
   "execution_count": 5,
   "id": "a410667d-b355-47f1-a8a7-a16e8cb50691",
   "metadata": {},
   "outputs": [
    {
     "name": "stdout",
     "output_type": "stream",
     "text": [
      "7\n",
      "2\n"
     ]
    }
   ],
   "source": [
    "b=np.array([[1,2,3],[4,5,6],[6,7,8]])\n",
    "print(b[2,1])\n",
    "print(b.ndim)"
   ]
  },
  {
   "cell_type": "code",
   "execution_count": 6,
   "id": "eec6fc77-3828-4dd1-bed8-5ea3afd77b57",
   "metadata": {
    "scrolled": true
   },
   "outputs": [
    {
     "name": "stdout",
     "output_type": "stream",
     "text": [
      "1\n",
      "[[[1 2 3]\n",
      "  [4 5 6]]\n",
      "\n",
      " [[7 8 9]\n",
      "  [0 2 1]]]\n",
      "3\n"
     ]
    }
   ],
   "source": [
    "i=np.array([[[1,2,3],[4,5,6]],[[7,8,9],[0,2,1]]])         #[1 to 6] is= 0 na d next 7 to 1 is =1\n",
    "print(i[1,1,2]) \n",
    "print(i[:])                  #[:] means full\n",
    "print(i.ndim)"
   ]
  },
  {
   "cell_type": "code",
   "execution_count": 7,
   "id": "c4d485c3-ab0f-4608-b97e-9376f5f3dab5",
   "metadata": {},
   "outputs": [
    {
     "name": "stdout",
     "output_type": "stream",
     "text": [
      "11\n",
      "3\n"
     ]
    }
   ],
   "source": [
    "arr = np.array([\n",
    "                [[1,2,3],[4,5,6]],     \n",
    "                [[7,8,9],[10,11,12]] \n",
    "              ])\n",
    "print(arr[1,1,1])\n",
    "#print(arr.shape)\n",
    "print(arr.ndim)"
   ]
  },
  {
   "cell_type": "markdown",
   "id": "89cde30b-e9e0-4326-8e30-d4848063809b",
   "metadata": {},
   "source": [
    "# slicing:\n",
    "*  We pass slice instead of index like this: [start:end].  \n",
    "* We can also define the step, like this: [start:end:step]."
   ]
  },
  {
   "cell_type": "code",
   "execution_count": 77,
   "id": "64d581d1-b26e-4803-8351-52416ebe90af",
   "metadata": {},
   "outputs": [
    {
     "name": "stdout",
     "output_type": "stream",
     "text": [
      "[1 2 3 4]\n",
      "[1 2 3 4 5 6 7]\n"
     ]
    }
   ],
   "source": [
    "import numpy as mp\n",
    "s=np.array([1,2,3,4,5,6,7])\n",
    "print(s[0:4])\n",
    "print(s[:])"
   ]
  },
  {
   "cell_type": "code",
   "execution_count": 9,
   "id": "dee90c07-9e3d-4f68-8d2e-2974ef6aaad2",
   "metadata": {},
   "outputs": [
    {
     "name": "stdout",
     "output_type": "stream",
     "text": [
      "[6 7]\n"
     ]
    }
   ],
   "source": [
    "s1=np.array([1,2,3,4,5,6,7,8])\n",
    "print(s1[-3:-1])"
   ]
  },
  {
   "cell_type": "code",
   "execution_count": 10,
   "id": "2ee29b42-f226-4ef6-b284-747d24bbfaa7",
   "metadata": {},
   "outputs": [
    {
     "name": "stdout",
     "output_type": "stream",
     "text": [
      "[1 2 3 4 5 6 7]\n",
      "[8 7 6 5 4 3 2 1]\n"
     ]
    }
   ],
   "source": [
    "s1=np.array([1,2,3,4,5,6,7,8])\n",
    "print(s1[:-1])\n",
    "print(s1[::-1])      #1.:start   2.:end   3.: step"
   ]
  },
  {
   "cell_type": "code",
   "execution_count": 87,
   "id": "b7beb07d-9c79-442e-a1ee-95dcbe984287",
   "metadata": {},
   "outputs": [
    {
     "name": "stdout",
     "output_type": "stream",
     "text": [
      "[1 3 5]\n"
     ]
    }
   ],
   "source": [
    "import numpy as np\n",
    "arr = np.array([1, 2, 3, 4, 5, 6, 7])\n",
    "print(arr[:-1:2])"
   ]
  },
  {
   "cell_type": "code",
   "execution_count": 27,
   "id": "dfb42f47-dc42-44d0-b718-436b1f863b15",
   "metadata": {},
   "outputs": [
    {
     "name": "stdout",
     "output_type": "stream",
     "text": [
      "3\n",
      "[ 6  7  8  9 10]\n"
     ]
    }
   ],
   "source": [
    "import numpy as np\n",
    "d = np.array([[[1, 2, 3, 4, 5],[6,7,8,9,10]],[[11, 12, 13, 14, 15],[16,17,18,19,20]]])\n",
    "print(d.ndim)\n",
    "print(d[0,1,:]) # it gets 0th layer and 1st row of full column\n"
   ]
  },
  {
   "cell_type": "code",
   "execution_count": 22,
   "id": "0c918b6d-cef1-402e-a06c-5154f569d3a1",
   "metadata": {},
   "outputs": [
    {
     "name": "stdout",
     "output_type": "stream",
     "text": [
      "[7]\n",
      "2\n"
     ]
    }
   ],
   "source": [
    "b=np.array([[1,2,3],[4,5,6],[6,7,8]])\n",
    "print(b[2,1:2])\n",
    "print(b.ndim)"
   ]
  },
  {
   "cell_type": "code",
   "execution_count": 25,
   "id": "ec1d6082-869a-4838-a944-32ae3e192c6d",
   "metadata": {},
   "outputs": [],
   "source": []
  },
  {
   "cell_type": "code",
   "execution_count": 25,
   "id": "ac871cf6-e011-47a2-bac7-c175abb0da7f",
   "metadata": {},
   "outputs": [
    {
     "name": "stdout",
     "output_type": "stream",
     "text": [
      "[1, 2, 3, 4]\n"
     ]
    }
   ],
   "source": [
    "a=[1,2,3,4]\n",
    "print(str(a))"
   ]
  },
  {
   "cell_type": "code",
   "execution_count": 50,
   "id": "99ad50f7-2096-4b2d-9720-94b62fbae7a6",
   "metadata": {},
   "outputs": [
    {
     "name": "stdout",
     "output_type": "stream",
     "text": [
      "[b'1' b'2' b'3' b'4']\n",
      "|S1\n"
     ]
    }
   ],
   "source": [
    "#casting\n",
    "a=np.array([1,2,3,4],dtype='S')\n",
    "print(a)\n",
    "print(a.dtype)"
   ]
  },
  {
   "cell_type": "code",
   "execution_count": 54,
   "id": "7dbc7f33-993f-4969-ae51-b7bc6d6393b7",
   "metadata": {},
   "outputs": [
    {
     "name": "stdout",
     "output_type": "stream",
     "text": [
      "<U1\n",
      "['a' 'b' 'c']\n"
     ]
    }
   ],
   "source": [
    "a=np.array([\"a\",\"b\",\"c\"])\n",
    "print(a.dtype)\n",
    "print(a)"
   ]
  },
  {
   "cell_type": "code",
   "execution_count": null,
   "id": "366ad44a-7f72-42ac-a24b-9e2cc96e8b51",
   "metadata": {},
   "outputs": [],
   "source": []
  },
  {
   "cell_type": "code",
   "execution_count": 8,
   "id": "b3179772-88d4-41b6-9017-d5ebb314bf7e",
   "metadata": {},
   "outputs": [
    {
     "name": "stdout",
     "output_type": "stream",
     "text": [
      "[[[5]]]\n",
      "(1, 1, 1)\n"
     ]
    }
   ],
   "source": [
    "a = np.array(5)        # 0D\n",
    "b = a.reshape(1,1,1)   # make it 3D\n",
    "print(b)\n",
    "print(b.shape)        # (1, 1, 1)\n"
   ]
  },
  {
   "cell_type": "code",
   "execution_count": 20,
   "id": "4152103e-5152-497f-8a29-3414fa4338f7",
   "metadata": {},
   "outputs": [
    {
     "name": "stdout",
     "output_type": "stream",
     "text": [
      "[[1 2 3 5]]\n",
      "2\n",
      "1\n"
     ]
    }
   ],
   "source": [
    "a=np.array([1,2,3,5])\n",
    "b=a.reshape(1,4)\n",
    "print(b)\n",
    "print(b.ndim)\n",
    "print(a.ndim)"
   ]
  },
  {
   "cell_type": "code",
   "execution_count": 29,
   "id": "a4c96acf-4644-4639-b0be-3909cee86515",
   "metadata": {},
   "outputs": [
    {
     "name": "stdout",
     "output_type": "stream",
     "text": [
      "[[[1]\n",
      "  [2]\n",
      "  [3]]\n",
      "\n",
      " [[4]\n",
      "  [5]\n",
      "  [6]]\n",
      "\n",
      " [[6]\n",
      "  [7]\n",
      "  [8]]]\n",
      "3\n"
     ]
    }
   ],
   "source": [
    "b=np.array([[1,2,3],[4,5,6],[6,7,8]])\n",
    "c=b.reshape(3,3,1)\n",
    "print(c)\n",
    "print(c.ndim)"
   ]
  },
  {
   "cell_type": "code",
   "execution_count": 55,
   "id": "1530a334-e05b-4615-a0dd-fe4da73b2b67",
   "metadata": {},
   "outputs": [],
   "source": [
    "#1-2d\n",
    "#2-3d\n",
    "#2,3-1\n",
    "a=np.array([1,2,3,4,5,6,7,8,9])\n"
   ]
  },
  {
   "cell_type": "code",
   "execution_count": 30,
   "id": "6b1b9b33-d798-4633-ae13-f27256d77809",
   "metadata": {},
   "outputs": [
    {
     "name": "stdout",
     "output_type": "stream",
     "text": [
      "[[1]]\n",
      "1\n"
     ]
    }
   ],
   "source": [
    "import numpy as np\n",
    "a=np.array([[1],[2]])\n",
    "print(a[[0]])\n",
    "print(a[0][0])"
   ]
  },
  {
   "cell_type": "code",
   "execution_count": 21,
   "id": "964d5a60-eabe-4fd2-aa9c-15c118a2aa64",
   "metadata": {},
   "outputs": [
    {
     "name": "stdout",
     "output_type": "stream",
     "text": [
      "[[[1 2 3]\n",
      "  [4 5 6]]\n",
      "\n",
      " [[7 8 9]\n",
      "  [3 2 1]]]\n",
      "3\n"
     ]
    }
   ],
   "source": [
    "n=np.array([[1,2,3],[4,5,6],[7,8,9],[3,2,1]])\n",
    "b=n.reshape(2,2,3)\n",
    "print(b)             \n",
    "print(b.ndim)            #2 = 3   "
   ]
  },
  {
   "cell_type": "code",
   "execution_count": 26,
   "id": "80a0fffc-84af-42a8-801a-09187cf1f4c7",
   "metadata": {},
   "outputs": [
    {
     "name": "stdout",
     "output_type": "stream",
     "text": [
      "[1 2 3 4 5 6 7 8 9 3 2 1]\n",
      "1\n"
     ]
    }
   ],
   "source": [
    "n=np.array([[1,2,3],[4,5,6],[7,8,9],[3,2,1]])\n",
    "b=n.reshape([12])\n",
    "print(b)\n",
    "print(b.ndim)           #2==1"
   ]
  },
  {
   "cell_type": "code",
   "execution_count": 30,
   "id": "0e4b454d-7bae-49d5-b15a-3a26a692fc3b",
   "metadata": {},
   "outputs": [
    {
     "name": "stdout",
     "output_type": "stream",
     "text": [
      "1\n"
     ]
    }
   ],
   "source": [
    "d = np.array([[[1, 2, 3, 4, 5],[6,7,8,9,10]],[[11, 12, 13, 14, 15],[16,17,18,19,20]]])\n",
    "d1=d.reshape([20])\n",
    "print(d1.ndim)           # 3 to 1"
   ]
  },
  {
   "cell_type": "code",
   "execution_count": 32,
   "id": "82451d73-7a45-48bc-b602-b055126cca7d",
   "metadata": {},
   "outputs": [
    {
     "data": {
      "text/plain": [
       "array([ 1,  2,  3,  4,  5,  6,  7,  8,  9, 10, 11, 12, 13, 14, 15, 16, 17,\n",
       "       18, 19, 20])"
      ]
     },
     "execution_count": 32,
     "metadata": {},
     "output_type": "execute_result"
    }
   ],
   "source": [
    "d2=d.flatten()\n",
    "d2"
   ]
  },
  {
   "cell_type": "code",
   "execution_count": null,
   "id": "fae90850-0d64-4d50-b7cf-de2251685d22",
   "metadata": {},
   "outputs": [],
   "source": []
  }
 ],
 "metadata": {
  "kernelspec": {
   "display_name": "Python [conda env:base] *",
   "language": "python",
   "name": "conda-base-py"
  },
  "language_info": {
   "codemirror_mode": {
    "name": "ipython",
    "version": 3
   },
   "file_extension": ".py",
   "mimetype": "text/x-python",
   "name": "python",
   "nbconvert_exporter": "python",
   "pygments_lexer": "ipython3",
   "version": "3.13.5"
  }
 },
 "nbformat": 4,
 "nbformat_minor": 5
}
