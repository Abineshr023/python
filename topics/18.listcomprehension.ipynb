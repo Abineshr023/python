{
 "cells": [
  {
   "cell_type": "code",
   "execution_count": 2,
   "id": "6c64105a-33cc-4a11-bc06-05d46d1ee9f9",
   "metadata": {},
   "outputs": [
    {
     "data": {
      "text/plain": [
       "[0, 1, 2, 3, 4, 5, 6, 7]"
      ]
     },
     "execution_count": 2,
     "metadata": {},
     "output_type": "execute_result"
    }
   ],
   "source": [
    "#list comprehension\n",
    "#in 1 condition you declare loop then apply a condition\n",
    "#if you get one or more condition to apply condition then declare loop\n",
    "l=[]\n",
    "n=8\n",
    "for i in  range(n):\n",
    "    l.append(i)\n",
    "l           #normal meth"
   ]
  },
  {
   "cell_type": "code",
   "execution_count": 3,
   "id": "db1bd1ee-c842-4bd7-a3ea-5f2e85700560",
   "metadata": {},
   "outputs": [
    {
     "data": {
      "text/plain": [
       "[0, 1, 2, 3, 4, 5, 6, 7, 8, 9]"
      ]
     },
     "execution_count": 3,
     "metadata": {},
     "output_type": "execute_result"
    }
   ],
   "source": [
    "l=[i for i in range(10)]\n",
    "l #access on that list"
   ]
  },
  {
   "cell_type": "code",
   "execution_count": null,
   "id": "a3368aa0-ee6b-4bfd-8734-2f800f79660a",
   "metadata": {},
   "outputs": [],
   "source": [
    "f i l\n",
    "str i =str i[::-1]"
   ]
  },
  {
   "cell_type": "code",
   "execution_count": 6,
   "id": "d5a9268a-35cf-4828-a797-2076c4df1b04",
   "metadata": {},
   "outputs": [
    {
     "data": {
      "text/plain": [
       "[2, 4, 6]"
      ]
     },
     "execution_count": 6,
     "metadata": {},
     "output_type": "execute_result"
    }
   ],
   "source": [
    "#1 condition\n",
    "l=[ 1, 2, 3, 4, 5, 6, 7]\n",
    "a=[i for i in l if i%2==0 ]\n",
    "a"
   ]
  },
  {
   "cell_type": "code",
   "execution_count": 12,
   "id": "17908dfa-d1bc-4872-8d11-aceb036a94fd",
   "metadata": {},
   "outputs": [
    {
     "name": "stdout",
     "output_type": "stream",
     "text": [
      "['odd', 'even', 'odd', 'even', 'odd', 'even', 'odd']\n"
     ]
    }
   ],
   "source": [
    "#2 condition\n",
    "l=[ 1, 2, 3, 4, 5, 6, 7]\n",
    "a=[\"even\" if i%2==0 else \"odd\"  for i in l]\n",
    "print(a)"
   ]
  },
  {
   "cell_type": "code",
   "execution_count": 2,
   "id": "a1da5f63-7f26-4321-8623-30f7cffd69b2",
   "metadata": {},
   "outputs": [
    {
     "data": {
      "text/plain": [
       "[0, 1, 2, 3, 4, 5, 6, 7, 8, 9]"
      ]
     },
     "execution_count": 2,
     "metadata": {},
     "output_type": "execute_result"
    }
   ],
   "source": [
    "l=[i for i in range(10)]\n",
    "l"
   ]
  },
  {
   "cell_type": "code",
   "execution_count": 6,
   "id": "7dabc4ea-f2b6-4211-8191-f3bc75cc2d74",
   "metadata": {},
   "outputs": [
    {
     "data": {
      "text/plain": [
       "[2, 4, 6, 8]"
      ]
     },
     "execution_count": 6,
     "metadata": {},
     "output_type": "execute_result"
    }
   ],
   "source": [
    "l=[i for i in range(1,10) if i%2==0 ]\n",
    "l"
   ]
  },
  {
   "cell_type": "code",
   "execution_count": 7,
   "id": "2028b86a-a2f4-488c-b19a-8ad63b1681f9",
   "metadata": {},
   "outputs": [
    {
     "data": {
      "text/plain": [
       "['odd', 'even', 'odd', 'even', 'odd', 'even', 'even']"
      ]
     },
     "execution_count": 7,
     "metadata": {},
     "output_type": "execute_result"
    }
   ],
   "source": [
    "n=[1,2,3,4,5,6,6]\n",
    "l=[\"even\" if i%2==0 else \"odd\" for i in n ]\n",
    "l"
   ]
  },
  {
   "cell_type": "code",
   "execution_count": 7,
   "id": "f8f3f595-8c33-4d68-8236-33e0c9cea01a",
   "metadata": {},
   "outputs": [
    {
     "name": "stdout",
     "output_type": "stream",
     "text": [
      "[111, 212]\n"
     ]
    }
   ],
   "source": [
    "n=[111,212,345,412,506,689,700]\n",
    "l=[i for i in n if str(i)==str(i)[::-1]  ]\n",
    "print(l)"
   ]
  },
  {
   "cell_type": "code",
   "execution_count": 13,
   "id": "66467380-25f4-4709-ad64-a201b7cd0f20",
   "metadata": {},
   "outputs": [
    {
     "name": "stdin",
     "output_type": "stream",
     "text": [
      " 5\n",
      " 1\n",
      " 2\n",
      " 3\n",
      " 4\n",
      " 5\n"
     ]
    },
    {
     "name": "stdout",
     "output_type": "stream",
     "text": [
      "[1, 2, 3, 4, 5]\n"
     ]
    }
   ],
   "source": [
    "#get input for variable in list\n",
    "a=int(input())\n",
    "l=[]\n",
    "for i in range(a):\n",
    "    b=int(input())\n",
    "    l.append(b)\n",
    "print(l)"
   ]
  },
  {
   "cell_type": "code",
   "execution_count": 14,
   "id": "144ffee2-adf2-4442-8056-f959b8a578f2",
   "metadata": {},
   "outputs": [
    {
     "name": "stdin",
     "output_type": "stream",
     "text": [
      " 3\n",
      " abi\n",
      " abir\n",
      " kalai\n"
     ]
    },
    {
     "name": "stdout",
     "output_type": "stream",
     "text": [
      "['abi', 'abir', 'kalai']\n"
     ]
    }
   ],
   "source": [
    "a=int(input())\n",
    "l=[]\n",
    "for i in range(a):\n",
    "    b=input()\n",
    "    l.append(b)\n",
    "print(l)"
   ]
  },
  {
   "cell_type": "code",
   "execution_count": 32,
   "id": "9e54a088-f076-45c6-85ed-11acc3479f5c",
   "metadata": {},
   "outputs": [
    {
     "name": "stdin",
     "output_type": "stream",
     "text": [
      "Enter numbers separated by spaces:  1 2 3 4 5\n"
     ]
    },
    {
     "name": "stdout",
     "output_type": "stream",
     "text": [
      "[1, 2, 3, 4, 5]\n"
     ]
    }
   ],
   "source": [
    "# Example: enter \"10 20 30 40\"\n",
    "nums = list(map(int,input(\"Enter numbers separated by spaces: \").split()))\n",
    "print(nums)\n",
    "\n"
   ]
  },
  {
   "cell_type": "code",
   "execution_count": 35,
   "id": "27eb9809-d433-45c4-a5ce-975acfebba5a",
   "metadata": {},
   "outputs": [
    {
     "name": "stdin",
     "output_type": "stream",
     "text": [
      "Enter numbers separated by spaces:  1,2,3,4,5\n"
     ]
    },
    {
     "name": "stdout",
     "output_type": "stream",
     "text": [
      "[1, 2, 3, 4, 5]\n"
     ]
    }
   ],
   "source": [
    "nums = list(map(int,input(\"Enter numbers separated by spaces: \").split(\",\")))\n",
    "print(nums)"
   ]
  },
  {
   "cell_type": "code",
   "execution_count": 34,
   "id": "c08114f4-05fd-4a85-8367-21acfa2f8ad6",
   "metadata": {},
   "outputs": [
    {
     "name": "stdin",
     "output_type": "stream",
     "text": [
      "Enter numbers separated by spaces:  abi abii\n"
     ]
    },
    {
     "name": "stdout",
     "output_type": "stream",
     "text": [
      "['abi', 'abii']\n"
     ]
    }
   ],
   "source": [
    "nums = list(input(\"Enter numbers separated by spaces: \").split())\n",
    "print(nums)"
   ]
  },
  {
   "cell_type": "code",
   "execution_count": 38,
   "id": "8da702a7-60dd-4172-9e06-ee3058fff40b",
   "metadata": {},
   "outputs": [
    {
     "name": "stdin",
     "output_type": "stream",
     "text": [
      "enter :  1 2 3 4\n"
     ]
    },
    {
     "data": {
      "text/plain": [
       "[1, 2, 3, 4]"
      ]
     },
     "execution_count": 38,
     "metadata": {},
     "output_type": "execute_result"
    }
   ],
   "source": [
    "a=list(map(int,input(\"enter :\").split()))\n",
    "a"
   ]
  },
  {
   "cell_type": "code",
   "execution_count": null,
   "id": "96615b74-874b-42b0-9a90-249ec2898c91",
   "metadata": {},
   "outputs": [],
   "source": []
  }
 ],
 "metadata": {
  "kernelspec": {
   "display_name": "Python [conda env:base] *",
   "language": "python",
   "name": "conda-base-py"
  },
  "language_info": {
   "codemirror_mode": {
    "name": "ipython",
    "version": 3
   },
   "file_extension": ".py",
   "mimetype": "text/x-python",
   "name": "python",
   "nbconvert_exporter": "python",
   "pygments_lexer": "ipython3",
   "version": "3.13.5"
  }
 },
 "nbformat": 4,
 "nbformat_minor": 5
}
