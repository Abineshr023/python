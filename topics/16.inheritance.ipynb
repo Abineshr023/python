{
 "cells": [
  {
   "cell_type": "code",
   "execution_count": null,
   "id": "132f1633-1b6e-4b39-bfac-6fb1b8520426",
   "metadata": {},
   "outputs": [],
   "source": [
    "#INHERITANCE-connect to one class to another class\n",
    "#single 1 and 1\n",
    "#multiple-multiple class and all give to 1\n",
    "#multilevel-to conect 1 to 1\n",
    "#heirarichal 1 parent to all\n",
    "#hybrid-to define a parent at 1 one time "
   ]
  },
  {
   "cell_type": "code",
   "execution_count": 1,
   "id": "ac677555-3d05-4219-b83c-66368b832689",
   "metadata": {},
   "outputs": [
    {
     "name": "stdout",
     "output_type": "stream",
     "text": [
      "cbe\n"
     ]
    }
   ],
   "source": [
    "#single\n",
    "class clg:\n",
    "    def place(self):\n",
    "        print(\"cbe\")\n",
    "class depart(clg):\n",
    "    def branch1(self):\n",
    "        print(\"kit\")\n",
    "a=depart()\n",
    "a.place()"
   ]
  },
  {
   "cell_type": "code",
   "execution_count": 4,
   "id": "b4c9a146-97ae-4266-a442-781bdf9bf836",
   "metadata": {},
   "outputs": [
    {
     "name": "stdout",
     "output_type": "stream",
     "text": [
      "AI\n"
     ]
    }
   ],
   "source": [
    "class parent1:\n",
    "    def __init__(self,name,age,dept):\n",
    "        self.name=name\n",
    "        self.age=age\n",
    "        self.dept=dept\n",
    "    def details(self):\n",
    "        print(self.name)\n",
    "\n",
    "class cls(parent1):\n",
    "    def hi(self):\n",
    "        print(self.dept)\n",
    "\n",
    "p1=cls(\"abi\",22,\"AI\")\n",
    "p1.hi()\n"
   ]
  },
  {
   "cell_type": "code",
   "execution_count": 4,
   "id": "035f0d99-20d8-4ceb-8f79-db4097486529",
   "metadata": {},
   "outputs": [
    {
     "name": "stdout",
     "output_type": "stream",
     "text": [
      "cbe\n",
      "kit\n"
     ]
    }
   ],
   "source": [
    "#multiple\n",
    "class clg:\n",
    "    def place(self):\n",
    "        print(\"cbe\")\n",
    "class depart():\n",
    "    def branch1(self):\n",
    "        print(\"kit\")\n",
    "class degree(clg,depart):\n",
    "    def tpe(self):\n",
    "        print(\"btech\")\n",
    "b=degree()\n",
    "b.place()\n",
    "b.branch1()"
   ]
  },
  {
   "cell_type": "code",
   "execution_count": 5,
   "id": "fbc2d882-3354-4d46-ad6d-65f1df1d4b82",
   "metadata": {},
   "outputs": [
    {
     "name": "stdout",
     "output_type": "stream",
     "text": [
      "cbe\n"
     ]
    }
   ],
   "source": [
    "#multilevel\n",
    "class clg:\n",
    "    def place(self):\n",
    "        print(\"cbe\")\n",
    "class depart(clg):\n",
    "    def branch1(self):\n",
    "        print(\"kit\")\n",
    "class degree(depart):\n",
    "    def tpe(self):\n",
    "        print(\"btech\")\n",
    "a=degree()\n",
    "a.place()"
   ]
  },
  {
   "cell_type": "code",
   "execution_count": 8,
   "id": "544518c4-e762-463a-ad3d-9207f48c5eba",
   "metadata": {},
   "outputs": [
    {
     "name": "stdout",
     "output_type": "stream",
     "text": [
      "cbe\n"
     ]
    }
   ],
   "source": [
    "#heirarichal\n",
    "class clg:\n",
    "    def place(self):\n",
    "        print(\"cbe\")\n",
    "class depart(clg):\n",
    "    def name(self):\n",
    "        print(\"kit\")\n",
    "class degree(clg):\n",
    "    def tpe(self):\n",
    "        print(\"btech\")\n",
    "b=degree()\n",
    "b.place()"
   ]
  },
  {
   "cell_type": "code",
   "execution_count": 12,
   "id": "2294a3d6-bd24-4a28-9609-79e625c5a603",
   "metadata": {},
   "outputs": [
    {
     "name": "stdout",
     "output_type": "stream",
     "text": [
      "4\n",
      "btech\n"
     ]
    }
   ],
   "source": [
    "#hybrid\n",
    "class clg:\n",
    "    def place(self):\n",
    "        print(\"cbe\")\n",
    "class depart(clg):\n",
    "    def name(self):\n",
    "        print(\"kit\")\n",
    "class degree():\n",
    "    def tpe(self):\n",
    "        print(\"btech\")\n",
    "class time(clg,degree):\n",
    "    def durat(self):\n",
    "        print(4)\n",
    "a=time()\n",
    "a.durat()\n",
    "a.tpe()"
   ]
  },
  {
   "cell_type": "code",
   "execution_count": null,
   "id": "8605df04-e396-4fc2-8914-6686a79bffe1",
   "metadata": {},
   "outputs": [],
   "source": []
  }
 ],
 "metadata": {
  "kernelspec": {
   "display_name": "Python [conda env:base] *",
   "language": "python",
   "name": "conda-base-py"
  },
  "language_info": {
   "codemirror_mode": {
    "name": "ipython",
    "version": 3
   },
   "file_extension": ".py",
   "mimetype": "text/x-python",
   "name": "python",
   "nbconvert_exporter": "python",
   "pygments_lexer": "ipython3",
   "version": "3.13.5"
  }
 },
 "nbformat": 4,
 "nbformat_minor": 5
}
