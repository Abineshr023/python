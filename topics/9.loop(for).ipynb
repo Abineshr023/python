{
 "cells": [
  {
   "cell_type": "code",
   "execution_count": 1,
   "id": "5d3c6d19-4176-44de-bb9a-be7a520ca53a",
   "metadata": {},
   "outputs": [
    {
     "name": "stdout",
     "output_type": "stream",
     "text": [
      "0\n",
      "1\n",
      "2\n",
      "3\n",
      "4\n"
     ]
    }
   ],
   "source": [
    "#for -its work based on range\n",
    "for i in range(5):\n",
    "    print(i)\n"
   ]
  },
  {
   "cell_type": "code",
   "execution_count": 3,
   "id": "0163a258-e38e-4d4f-ad49-648f3bea1be8",
   "metadata": {},
   "outputs": [
    {
     "name": "stdout",
     "output_type": "stream",
     "text": [
      "1\n",
      "3\n",
      "5\n",
      "7\n",
      "9\n"
     ]
    }
   ],
   "source": [
    "for i in range(1,10,2):\n",
    "    print(i)\n",
    "#(1,10,2)->1=starting,10=ending,2=step of execution\n",
    "\n"
   ]
  },
  {
   "cell_type": "code",
   "execution_count": 19,
   "id": "36475f30-5bc7-4c6c-9844-0111fe2d0c7d",
   "metadata": {},
   "outputs": [
    {
     "name": "stdout",
     "output_type": "stream",
     "text": [
      "odd- 1\n",
      "odd- 3\n",
      "odd- 5\n"
     ]
    }
   ],
   "source": [
    "l=[1,2,3,4,5]\n",
    "for i in l:                #odd value\n",
    "    if i %2!=0:\n",
    "        print(\"odd-\",i)\n"
   ]
  },
  {
   "cell_type": "code",
   "execution_count": 24,
   "id": "1e3a110f-daef-47dc-b9c5-7cc00c3409fa",
   "metadata": {},
   "outputs": [
    {
     "name": "stdout",
     "output_type": "stream",
     "text": [
      "odd- 1 index- 2\n",
      "odd- 3 index- 4\n"
     ]
    }
   ],
   "source": [
    "#enumerate-gives value and index(requires two range like i and j)\n",
    "l=[1,2,3,4,5]\n",
    "for i,j in enumerate(l):\n",
    "    if i%2!=0:\n",
    "        print(\"odd-\",i,\"index-\",j)      #x"
   ]
  },
  {
   "cell_type": "code",
   "execution_count": 28,
   "id": "d9f864fa-06b0-4730-9841-5b627cc6deb3",
   "metadata": {},
   "outputs": [
    {
     "data": {
      "text/plain": [
       "[4, 5, 6, 7, 8, 11, 23]"
      ]
     },
     "execution_count": 28,
     "metadata": {},
     "output_type": "execute_result"
    }
   ],
   "source": [
    "a=[4,5,6,7,8,11,23]\n",
    "a.sort()\n",
    "list(set(a))\n",
    "type(a)\n",
    "a"
   ]
  },
  {
   "cell_type": "code",
   "execution_count": 18,
   "id": "f0526dc0-bfe5-4799-9058-f002224cc356",
   "metadata": {},
   "outputs": [
    {
     "name": "stdout",
     "output_type": "stream",
     "text": [
      "4\n",
      "5\n",
      "6\n",
      "7\n",
      "8\n",
      "11\n"
     ]
    }
   ],
   "source": [
    "#continue=skip the element in iteration\n",
    "a=[4,5,6,7,8,11,23]\n",
    "for i in a:\n",
    "    if i==23:\n",
    "        continue\n",
    "    print(i)        "
   ]
  },
  {
   "cell_type": "code",
   "execution_count": 21,
   "id": "e839fcf7-a680-452b-9334-20b32be6aa3c",
   "metadata": {},
   "outputs": [],
   "source": [
    "#pass =its just pass the line to other\n",
    "#if i define a loop then use pass it wont occurs error\n",
    "a=[4,5,6,7,8,11,23]\n",
    "for i in a:\n",
    "    pass\n",
    "   "
   ]
  },
  {
   "cell_type": "code",
   "execution_count": 26,
   "id": "0cbd24d6-063e-4b27-b0b0-dd6c855df0ac",
   "metadata": {},
   "outputs": [
    {
     "name": "stdout",
     "output_type": "stream",
     "text": [
      "4\n",
      "5\n"
     ]
    }
   ],
   "source": [
    "#break=its break the iteration whenthe value occur\n",
    "a=[4,5,6,7,8,11,23]\n",
    "for i in a:\n",
    "    if i==6:\n",
    "        break\n",
    "    print(i)    "
   ]
  },
  {
   "cell_type": "code",
   "execution_count": null,
   "id": "44cc0130-d313-4cfb-82a8-e1be84e3b692",
   "metadata": {},
   "outputs": [],
   "source": []
  }
 ],
 "metadata": {
  "kernelspec": {
   "display_name": "Python [conda env:base] *",
   "language": "python",
   "name": "conda-base-py"
  },
  "language_info": {
   "codemirror_mode": {
    "name": "ipython",
    "version": 3
   },
   "file_extension": ".py",
   "mimetype": "text/x-python",
   "name": "python",
   "nbconvert_exporter": "python",
   "pygments_lexer": "ipython3",
   "version": "3.13.5"
  }
 },
 "nbformat": 4,
 "nbformat_minor": 5
}
