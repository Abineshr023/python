{
 "cells": [
  {
   "cell_type": "code",
   "execution_count": null,
   "id": "99a65837-c7f6-4052-910a-22934f8aa149",
   "metadata": {},
   "outputs": [],
   "source": [
    "#hiding values\n",
    "#abc=abstract base class"
   ]
  },
  {
   "cell_type": "code",
   "execution_count": 6,
   "id": "4fe3e831-1b8e-4705-8b61-c26aea66cb42",
   "metadata": {},
   "outputs": [
    {
     "name": "stdout",
     "output_type": "stream",
     "text": [
      "geeee\n",
      "geeee\n",
      "varies sound\n"
     ]
    }
   ],
   "source": [
    "from abc import ABC,abstractmethod\n",
    "class animal(ABC):\n",
    "    def birds(self):\n",
    "        print(\"its flies\")\n",
    "    @abstractmethod\n",
    "    def sound(self):\n",
    "        print(\"varies sound\")\n",
    "    @abstractmethod\n",
    "    def bees(self):\n",
    "        print(\"geeee\")\n",
    "class sounds(animal):\n",
    "    def sound(self):\n",
    "        print(\"varies sound\")\n",
    "    def bees(self):\n",
    "        print(\"geeee\")\n",
    "class sounds1(animal):\n",
    "    def sound(self):\n",
    "        print(\"varies sound\")\n",
    "    def bees(self):\n",
    "        print(\"geeee\")\n",
    "s=sounds()\n",
    "s1=sounds1()\n",
    "s1.bees()\n",
    "s.bees()\n",
    "s.sound()"
   ]
  },
  {
   "cell_type": "code",
   "execution_count": null,
   "id": "ccc53bd4-5063-444d-861b-7ade0c22b897",
   "metadata": {},
   "outputs": [],
   "source": []
  }
 ],
 "metadata": {
  "kernelspec": {
   "display_name": "Python [conda env:base] *",
   "language": "python",
   "name": "conda-base-py"
  },
  "language_info": {
   "codemirror_mode": {
    "name": "ipython",
    "version": 3
   },
   "file_extension": ".py",
   "mimetype": "text/x-python",
   "name": "python",
   "nbconvert_exporter": "python",
   "pygments_lexer": "ipython3",
   "version": "3.13.5"
  }
 },
 "nbformat": 4,
 "nbformat_minor": 5
}
