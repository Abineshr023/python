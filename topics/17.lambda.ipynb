{
 "cells": [
  {
   "cell_type": "code",
   "execution_count": 2,
   "id": "88d7cf85-1670-45e6-80aa-f9cae6797858",
   "metadata": {},
   "outputs": [],
   "source": [
    "#lambda is same formation of def function\n",
    "#its in form of arguments:expression(what it will perform)\n",
    "\n",
    "#A lambda is a way to create a small, anonymous (nameless) function in Python.\n",
    "#It is often used when you need a function only once or for short/simple tasks, instead of writing a full def function"
   ]
  },
  {
   "cell_type": "code",
   "execution_count": 4,
   "id": "6c5f4a01-106d-4d34-8e84-5d26fce92c78",
   "metadata": {},
   "outputs": [
    {
     "data": {
      "text/plain": [
       "11"
      ]
     },
     "execution_count": 4,
     "metadata": {},
     "output_type": "execute_result"
    }
   ],
   "source": [
    "n=lambda a:a+10#(expression), lambda a is argument\n",
    "n(1)         #single "
   ]
  },
  {
   "cell_type": "code",
   "execution_count": 6,
   "id": "af2db5b6-2d52-4fe9-bdcc-6fb6caaef189",
   "metadata": {},
   "outputs": [
    {
     "data": {
      "text/plain": [
       "15"
      ]
     },
     "execution_count": 6,
     "metadata": {},
     "output_type": "execute_result"
    }
   ],
   "source": [
    "#multiple arg:exp\n",
    "n=lambda a,b,c:a+b+c\n",
    "n(4,5,6)"
   ]
  },
  {
   "cell_type": "code",
   "execution_count": 10,
   "id": "0e208b5e-f9e0-49b5-851f-218a8d1107b3",
   "metadata": {},
   "outputs": [
    {
     "data": {
      "text/plain": [
       "'odd'"
      ]
     },
     "execution_count": 10,
     "metadata": {},
     "output_type": "execute_result"
    }
   ],
   "source": [
    "l=lambda a:\"even\" if a%2==0 else \"odd\"\n",
    "l(13)"
   ]
  },
  {
   "cell_type": "code",
   "execution_count": 23,
   "id": "a9dd24cd-c2ca-45cc-af9e-f2b1175f818b",
   "metadata": {},
   "outputs": [
    {
     "name": "stdout",
     "output_type": "stream",
     "text": [
      "10\n"
     ]
    },
    {
     "data": {
      "text/plain": [
       "<function __main__.add.<locals>.<lambda>(b)>"
      ]
     },
     "execution_count": 23,
     "metadata": {},
     "output_type": "execute_result"
    }
   ],
   "source": [
    "def add(a):\n",
    "     return lambda b:a+b\n",
    "k=add(6) # its to pass value to a\n",
    "print(k(4)) # its pass value to lambda\n",
    "k #in this k form of add().lambda()"
   ]
  },
  {
   "cell_type": "code",
   "execution_count": 24,
   "id": "2b52f8ae-27f3-448c-acbe-210469fc8473",
   "metadata": {},
   "outputs": [
    {
     "name": "stdout",
     "output_type": "stream",
     "text": [
      "[1, 4, 9, 16, 25]\n"
     ]
    }
   ],
   "source": [
    "#map used to transform its with (function and iteration)\n",
    "#to change in list and tuple is must\n",
    "def square(x):\n",
    "    return x * x\n",
    "\n",
    "numbers = [1, 2, 3, 4, 5]\n",
    "\n",
    "result = map(square, numbers)   #square =function(return),    number =iteration of number \n",
    "print(list(result))          \n"
   ]
  },
  {
   "cell_type": "code",
   "execution_count": 27,
   "id": "04f76a2b-e605-4d07-bf34-8760ee28051a",
   "metadata": {},
   "outputs": [
    {
     "name": "stdout",
     "output_type": "stream",
     "text": [
      "[1, 4, 9, 16, 25]\n"
     ]
    }
   ],
   "source": [
    "#using lambda(map)\n",
    "numbers = [1, 2, 3, 4, 5]\n",
    "a=list(map(lambda b:b*b,numbers))\n",
    "print(a)\n"
   ]
  },
  {
   "cell_type": "code",
   "execution_count": 30,
   "id": "342b1265-5f25-4660-9f1d-1044ca071b15",
   "metadata": {},
   "outputs": [
    {
     "name": "stdout",
     "output_type": "stream",
     "text": [
      "[2, 4]\n"
     ]
    }
   ],
   "source": [
    "#filter used to filter the element based on the condition\n",
    "#its also (function with iteration)\n",
    "#to change in list and tuple is must\n",
    "\n",
    "def e(x):\n",
    "    return x%2==0\n",
    "        \n",
    "\n",
    "numbers = [1, 2, 3, 4, 5]\n",
    "\n",
    "result =filter(e, numbers)   \n",
    "print(list(result))  "
   ]
  },
  {
   "cell_type": "code",
   "execution_count": 5,
   "id": "7a98c497-a710-434c-aa11-2c828178ec0c",
   "metadata": {},
   "outputs": [
    {
     "data": {
      "text/plain": [
       "[1, 3, 5]"
      ]
     },
     "execution_count": 5,
     "metadata": {},
     "output_type": "execute_result"
    }
   ],
   "source": [
    "#using lambda(filter)\n",
    "n=[1,2,3,4,5]\n",
    "a=filter(lambda a:a%2!=0,n)\n",
    "list(a)"
   ]
  },
  {
   "cell_type": "code",
   "execution_count": null,
   "id": "2a289184-21ea-4a80-a71b-57922ca71f6a",
   "metadata": {},
   "outputs": [],
   "source": []
  },
  {
   "cell_type": "code",
   "execution_count": 1,
   "id": "5c7462a5-bf7b-4089-b920-e3b12a8a27ce",
   "metadata": {},
   "outputs": [
    {
     "data": {
      "text/plain": [
       "7"
      ]
     },
     "execution_count": 1,
     "metadata": {},
     "output_type": "execute_result"
    }
   ],
   "source": [
    "a=lambda b:b+5\n",
    "a(2)"
   ]
  },
  {
   "cell_type": "code",
   "execution_count": 4,
   "id": "e8ca80f8-fa39-4ecf-99f3-393279afc2d8",
   "metadata": {},
   "outputs": [
    {
     "name": "stdout",
     "output_type": "stream",
     "text": [
      "20\n"
     ]
    }
   ],
   "source": [
    "def l(a):\n",
    "    return lambda b:a*b\n",
    "k=l(2)\n",
    "print(k(10))"
   ]
  },
  {
   "cell_type": "code",
   "execution_count": 15,
   "id": "43babbb9-5c25-48b5-ae09-128fdf424da6",
   "metadata": {},
   "outputs": [
    {
     "name": "stdout",
     "output_type": "stream",
     "text": [
      "[1, 4, 9, 16, 36]\n"
     ]
    }
   ],
   "source": [
    "n=[1,2,3,4,6]\n",
    "a=list(map(lambda b:b*b ,n))\n",
    "print(a)"
   ]
  },
  {
   "cell_type": "code",
   "execution_count": 16,
   "id": "41374260-f91e-43bf-944b-393d2e505f92",
   "metadata": {},
   "outputs": [
    {
     "name": "stdout",
     "output_type": "stream",
     "text": [
      "[1, 8, 27, 64, 125]\n"
     ]
    }
   ],
   "source": [
    "def cube(a):\n",
    "    return a*a*a\n",
    "n=[1,2,3,4,5]\n",
    "b=map(cube,n)\n",
    "print(list(b))"
   ]
  },
  {
   "cell_type": "code",
   "execution_count": 17,
   "id": "49cc9ade-2513-4ae2-b108-9a2e7c4970fe",
   "metadata": {},
   "outputs": [
    {
     "data": {
      "text/plain": [
       "[1, 8, 27, 64, 125]"
      ]
     },
     "execution_count": 17,
     "metadata": {},
     "output_type": "execute_result"
    }
   ],
   "source": [
    "n=[1,2,3,4,5]\n",
    "a=map(lambda b:b*b*b,n)\n",
    "list(a)"
   ]
  },
  {
   "cell_type": "code",
   "execution_count": 4,
   "id": "b755c90b-f2e2-4f62-80d7-7d1d2e36402e",
   "metadata": {},
   "outputs": [
    {
     "data": {
      "text/plain": [
       "[45]"
      ]
     },
     "execution_count": 4,
     "metadata": {},
     "output_type": "execute_result"
    }
   ],
   "source": [
    "#filter\n",
    "a=[1,2,3,45]\n",
    "b=filter(lambda c:c%5==0,a)\n",
    "list(b)"
   ]
  },
  {
   "cell_type": "code",
   "execution_count": 20,
   "id": "eca66c19-052e-42ad-b514-3c7dc1d8c86e",
   "metadata": {},
   "outputs": [
    {
     "data": {
      "text/plain": [
       "[4, 8]"
      ]
     },
     "execution_count": 20,
     "metadata": {},
     "output_type": "execute_result"
    }
   ],
   "source": [
    "def divi(a):\n",
    "    return a%4==0\n",
    "b=[1,2,4,6,7,9,8,10]\n",
    "c=filter(divi,b)\n",
    "list(c)"
   ]
  },
  {
   "cell_type": "code",
   "execution_count": null,
   "id": "53302db2-dd31-4609-af0c-e6934d5b851b",
   "metadata": {},
   "outputs": [],
   "source": []
  },
  {
   "cell_type": "code",
   "execution_count": 19,
   "id": "4856f640-260b-458a-a0a3-191ba58277e2",
   "metadata": {},
   "outputs": [
    {
     "data": {
      "text/plain": [
       "'nohtyp'"
      ]
     },
     "execution_count": 19,
     "metadata": {},
     "output_type": "execute_result"
    }
   ],
   "source": [
    "#Write a lambda to reverse a string\n",
    "n=lambda a:\"\".join([a[i] for i in range(len(a)-1,-1,-1)])\n",
    "n(\"python\")"
   ]
  },
  {
   "cell_type": "code",
   "execution_count": 1,
   "id": "37f153e1-25da-471e-9854-38ffad6b695c",
   "metadata": {},
   "outputs": [
    {
     "data": {
      "text/plain": [
       "True"
      ]
     },
     "execution_count": 1,
     "metadata": {},
     "output_type": "execute_result"
    }
   ],
   "source": [
    "#Write a lambda to check if a number is a multiple of both 3 and 5.\n",
    "n=lambda a: True if a%3==0 and a%5==0 else False\n",
    "n(30)"
   ]
  },
  {
   "cell_type": "code",
   "execution_count": 29,
   "id": "801906d4-b557-4137-93bf-a115a9835cbb",
   "metadata": {},
   "outputs": [
    {
     "data": {
      "text/plain": [
       "'n'"
      ]
     },
     "execution_count": 29,
     "metadata": {},
     "output_type": "execute_result"
    }
   ],
   "source": [
    "#Use a lambda to get the last character of a string.\n",
    "n=lambda a:a[len(a)-1]\n",
    "n(\"python\")"
   ]
  },
  {
   "cell_type": "code",
   "execution_count": 32,
   "id": "5c018048-2c9d-4e4d-8aed-2af8ba0b552c",
   "metadata": {},
   "outputs": [
    {
     "data": {
      "text/plain": [
       "20"
      ]
     },
     "execution_count": 32,
     "metadata": {},
     "output_type": "execute_result"
    }
   ],
   "source": [
    "#Write a lambda function to add 10 to a given number.\n",
    "n=lambda a:a+10\n",
    "n(10)"
   ]
  },
  {
   "cell_type": "code",
   "execution_count": 33,
   "id": "d17a73be-d4a7-497d-b1e5-20ca5b27bb21",
   "metadata": {},
   "outputs": [
    {
     "data": {
      "text/plain": [
       "'even'"
      ]
     },
     "execution_count": 33,
     "metadata": {},
     "output_type": "execute_result"
    }
   ],
   "source": [
    "#Use a lambda function to check if a number is even.\n",
    "n=lambda a:\"even\" if a%2==0 else \"odd\"\n",
    "n(6)"
   ]
  },
  {
   "cell_type": "code",
   "execution_count": 2,
   "id": "e01f2cb6-1f8c-40b0-ab1f-110be5607b32",
   "metadata": {},
   "outputs": [
    {
     "name": "stdout",
     "output_type": "stream",
     "text": [
      "12\n"
     ]
    }
   ],
   "source": [
    "#Create a lambda function to return the maximum of two numbers\n",
    "def maxi(a):\n",
    "    return lambda b: a if a>b else b\n",
    "c=maxi(10)\n",
    "print(c(12))"
   ]
  },
  {
   "cell_type": "code",
   "execution_count": 39,
   "id": "254ee56a-940b-4fbb-a052-1c5227f60aea",
   "metadata": {},
   "outputs": [
    {
     "name": "stdout",
     "output_type": "stream",
     "text": [
      "[1, 4, 9, 16]\n"
     ]
    }
   ],
   "source": [
    "#Use map() with a lambda to square all numbers in a list.\n",
    "a=[1,2,3,4]\n",
    "n=list(map(lambda b:b*b,a))\n",
    "print(n)"
   ]
  },
  {
   "cell_type": "code",
   "execution_count": 10,
   "id": "b6d7c919-c0b4-4278-a9a5-ef1e9e256ab3",
   "metadata": {},
   "outputs": [
    {
     "name": "stdout",
     "output_type": "stream",
     "text": [
      "[1, 3]\n"
     ]
    }
   ],
   "source": [
    "#Use filter() with a lambda to get only odd numbers from a list.\n",
    "a=[1,2,3,4]\n",
    "n=list(filter(lambda b:b%2!=0,a))\n",
    "print(n)"
   ]
  },
  {
   "cell_type": "code",
   "execution_count": 6,
   "id": "c722b811-e2b9-4dfd-9ded-7a60cc1f700d",
   "metadata": {},
   "outputs": [
    {
     "name": "stdout",
     "output_type": "stream",
     "text": [
      "5\n"
     ]
    }
   ],
   "source": [
    "from functools import reduce\n",
    "a=[1,2,3,4,5]\n",
    "n=reduce(lambda b,c: b if b>c else c,a)\n",
    "print(n)"
   ]
  },
  {
   "cell_type": "code",
   "execution_count": 10,
   "id": "513caa10-f4aa-4795-b000-14160bb57e6e",
   "metadata": {},
   "outputs": [
    {
     "ename": "SyntaxError",
     "evalue": "invalid syntax (1551750075.py, line 2)",
     "output_type": "error",
     "traceback": [
      "\u001b[1;36m  Cell \u001b[1;32mIn[10], line 2\u001b[1;36m\u001b[0m\n\u001b[1;33m    return lambda b:\"pali\" if a[i] == b[a[::-1]] else \"not\" for i in range(len(a)) for i in b\u001b[0m\n\u001b[1;37m                                                            ^\u001b[0m\n\u001b[1;31mSyntaxError\u001b[0m\u001b[1;31m:\u001b[0m invalid syntax\n"
     ]
    }
   ],
   "source": [
    "def pali(a):\n",
    "    return lambda b:\"pali\" if a[i] == b[a[::-1]] else \"not\" for i in range(len(a)) for i in b\n",
    "d=pali(121)\n",
    "print(d(88))"
   ]
  },
  {
   "cell_type": "code",
   "execution_count": null,
   "id": "228b6f7b-9253-483f-814f-e6c7c90c7f40",
   "metadata": {},
   "outputs": [],
   "source": []
  }
 ],
 "metadata": {
  "kernelspec": {
   "display_name": "Python [conda env:base] *",
   "language": "python",
   "name": "conda-base-py"
  },
  "language_info": {
   "codemirror_mode": {
    "name": "ipython",
    "version": 3
   },
   "file_extension": ".py",
   "mimetype": "text/x-python",
   "name": "python",
   "nbconvert_exporter": "python",
   "pygments_lexer": "ipython3",
   "version": "3.13.5"
  }
 },
 "nbformat": 4,
 "nbformat_minor": 5
}
