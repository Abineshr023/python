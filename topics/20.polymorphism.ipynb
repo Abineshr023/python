{
 "cells": [
  {
   "cell_type": "code",
   "execution_count": 6,
   "id": "e0cedb2b-63d1-4e73-9464-e7fe7c09bc9c",
   "metadata": {},
   "outputs": [
    {
     "name": "stdout",
     "output_type": "stream",
     "text": [
      "meow\n",
      "woof\n"
     ]
    }
   ],
   "source": [
    "class dog:\n",
    "    def sound(self):\n",
    "        print(\"woof\")\n",
    "class cat:\n",
    "    def sound(self):\n",
    "        print(\"meow\")\n",
    "c=cat()\n",
    "c.sound()\n",
    "d=dog()\n",
    "d.sound()"
   ]
  },
  {
   "cell_type": "code",
   "execution_count": 9,
   "id": "b9d222e6-3b04-438d-b780-673d2c9bb02f",
   "metadata": {},
   "outputs": [
    {
     "name": "stdout",
     "output_type": "stream",
     "text": [
      "wild sound\n",
      "meow\n"
     ]
    }
   ],
   "source": [
    "class animal:\n",
    "    def sound1(self):\n",
    "        print(\"wild sound\")\n",
    "\n",
    "\n",
    "class dog(animal):\n",
    "    def sound(self):\n",
    "        print(\"woof\")\n",
    "class cat(animal):\n",
    "    def sound(self):\n",
    "        print(\"meow\")\n",
    "\n",
    "c=cat()\n",
    "c.sound1()\n",
    "c.sound()"
   ]
  },
  {
   "cell_type": "code",
   "execution_count": 2,
   "id": "35e3b152-0fe0-456c-acf7-fe9425bb59b2",
   "metadata": {},
   "outputs": [
    {
     "name": "stdout",
     "output_type": "stream",
     "text": [
      "meow\n",
      "woof\n",
      "wild sound\n"
     ]
    }
   ],
   "source": [
    "class animal:\n",
    "    def sound(self):\n",
    "        print(\"wild sound\")\n",
    "\n",
    "\n",
    "class dog(animal):\n",
    "    def sound(self):\n",
    "        print(\"woof\")\n",
    "class cat(dog):\n",
    "    def sound(self):\n",
    "        print(\"meow\")\n",
    "\n",
    "c=cat()\n",
    "c.sound()\n",
    "dog.sound(c)\n",
    "animal.sound(c)"
   ]
  },
  {
   "cell_type": "code",
   "execution_count": null,
   "id": "30b358bf-6914-4766-b737-f4fa185b5912",
   "metadata": {},
   "outputs": [],
   "source": []
  }
 ],
 "metadata": {
  "kernelspec": {
   "display_name": "Python [conda env:base] *",
   "language": "python",
   "name": "conda-base-py"
  },
  "language_info": {
   "codemirror_mode": {
    "name": "ipython",
    "version": 3
   },
   "file_extension": ".py",
   "mimetype": "text/x-python",
   "name": "python",
   "nbconvert_exporter": "python",
   "pygments_lexer": "ipython3",
   "version": "3.13.5"
  }
 },
 "nbformat": 4,
 "nbformat_minor": 5
}
