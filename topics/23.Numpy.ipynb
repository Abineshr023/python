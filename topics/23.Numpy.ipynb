{
 "cells": [
  {
   "cell_type": "markdown",
   "id": "1b36dd1e-b35b-4e47-a7f1-f4f0e7f5e8b6",
   "metadata": {},
   "source": [
    "# data types\n",
    "*  i - integer\n",
    "* b - boolean\n",
    "* u - unsigned integer\n",
    "* f - float\n",
    "* c - complex float\n",
    "* S - string"
   ]
  },
  {
   "cell_type": "code",
   "execution_count": 2,
   "id": "6c6ad130-4374-4054-857b-1595a46ec953",
   "metadata": {},
   "outputs": [],
   "source": [
    "import numpy as np\n",
    "#a.dtype its a finding type of data in numpy"
   ]
  },
  {
   "cell_type": "code",
   "execution_count": 5,
   "id": "b3bb7400-dbc9-4a34-bb80-876b7d483253",
   "metadata": {},
   "outputs": [
    {
     "name": "stdout",
     "output_type": "stream",
     "text": [
      "<class 'numpy.ndarray'>\n",
      "int64\n"
     ]
    },
    {
     "data": {
      "text/plain": [
       "array([1, 2, 3, 4])"
      ]
     },
     "execution_count": 5,
     "metadata": {},
     "output_type": "execute_result"
    }
   ],
   "source": [
    "# integer\n",
    "a = np.array([1, 2, 3, 4])\n",
    "print(type(a))\n",
    "print(a.dtype)\n",
    "a"
   ]
  },
  {
   "cell_type": "code",
   "execution_count": 3,
   "id": "7a743466-7f65-43b4-aca5-84026b75fe5d",
   "metadata": {},
   "outputs": [
    {
     "name": "stdout",
     "output_type": "stream",
     "text": [
      "<U11\n"
     ]
    }
   ],
   "source": [
    "#unsigned\n",
    "a = np.array([\"ab\",\"ju8\",\"979kjui8yhi\"])\n",
    "\n",
    "print(a.dtype)\n",
    "#U: Represents a Unicode string data type in NumPy.\n",
    "#11: Indicates the maximum length of each string in the array, in terms of Unicode characters."
   ]
  },
  {
   "cell_type": "code",
   "execution_count": 7,
   "id": "66c42a78-4236-4904-9ba5-b7c7e68b77c2",
   "metadata": {},
   "outputs": [
    {
     "name": "stdout",
     "output_type": "stream",
     "text": [
      "float64\n"
     ]
    }
   ],
   "source": [
    "#float\n",
    "a = np.array([2.7,9.0])\n",
    "print(a.dtype)"
   ]
  },
  {
   "cell_type": "code",
   "execution_count": 8,
   "id": "44c97822-4e69-4119-9197-b4d30da008de",
   "metadata": {},
   "outputs": [
    {
     "name": "stdout",
     "output_type": "stream",
     "text": [
      "complex128\n"
     ]
    }
   ],
   "source": [
    "#complex\n",
    "a=np.array([1+4j,2+2j])\n",
    "print(a.dtype)"
   ]
  },
  {
   "cell_type": "code",
   "execution_count": 4,
   "id": "3b8d9edb-73bc-40d8-8a3e-db871db78840",
   "metadata": {},
   "outputs": [
    {
     "name": "stdout",
     "output_type": "stream",
     "text": [
      "<U7\n"
     ]
    }
   ],
   "source": [
    "#string\n",
    "s=np.array([\"abi\",\"abinesh\"])\n",
    "print(s.dtype)"
   ]
  },
  {
   "cell_type": "code",
   "execution_count": 27,
   "id": "1eb4899d-524b-42a0-a792-70ea443b5cf5",
   "metadata": {},
   "outputs": [
    {
     "name": "stdout",
     "output_type": "stream",
     "text": [
      "[b'1' b'2' b'3' b'4' b'5']\n",
      "|S1\n"
     ]
    }
   ],
   "source": [
    "#convert type\n",
    "c=np.array([1,2,3,4,5],dtype='S')\n",
    "print(c)\n",
    "print(c.dtype)"
   ]
  },
  {
   "cell_type": "code",
   "execution_count": 15,
   "id": "895b2715-f1bd-48fd-a089-6c4286e6f98b",
   "metadata": {},
   "outputs": [
    {
     "name": "stdout",
     "output_type": "stream",
     "text": [
      "int64\n",
      "[1 2 3 4 6 7]\n"
     ]
    }
   ],
   "source": [
    "i=np.array([1,2,3,4,6,7],dtype='i8')         #i8 means mentioning the size of bit\n",
    "print(i.dtype)                            \n",
    "print(i)"
   ]
  },
  {
   "cell_type": "code",
   "execution_count": 18,
   "id": "f185dfa8-19cf-477f-9d7b-236bdeb13c65",
   "metadata": {},
   "outputs": [
    {
     "name": "stdout",
     "output_type": "stream",
     "text": [
      "int32\n",
      "[1 2 3 4 6 7]\n"
     ]
    }
   ],
   "source": [
    "i=np.array([1,2,3,4,6,7],dtype='i4')         #i4 means mentioning the size of bit\n",
    "print(i.dtype)                            \n",
    "print(i)"
   ]
  },
  {
   "cell_type": "code",
   "execution_count": 17,
   "id": "f97b54e3-94c2-4dc9-a3f2-59602c0f38f9",
   "metadata": {},
   "outputs": [
    {
     "name": "stdout",
     "output_type": "stream",
     "text": [
      "int16\n",
      "[1 2 3 4 6 7]\n"
     ]
    }
   ],
   "source": [
    "i=np.array([1,2,3,4,6,7],dtype='i2')         #i2 means mentioning the size of bit\n",
    "print(i.dtype)                            \n",
    "print(i)"
   ]
  },
  {
   "cell_type": "code",
   "execution_count": 21,
   "id": "3807cdb9-1e81-4757-b561-787c5d9bfc0e",
   "metadata": {},
   "outputs": [
    {
     "name": "stdout",
     "output_type": "stream",
     "text": [
      "int32\n",
      "[1 2 3 4 6 7]\n"
     ]
    }
   ],
   "source": [
    "i=np.array([1,2,3,4,6,7],dtype='i')         #i8 means mentioning the size of bit\n",
    "print(i.dtype)                            \n",
    "print(i)"
   ]
  },
  {
   "cell_type": "code",
   "execution_count": 25,
   "id": "5c7a833e-92e2-44d3-9a07-8d2d6f6414de",
   "metadata": {},
   "outputs": [
    {
     "name": "stdout",
     "output_type": "stream",
     "text": [
      "[1 2 3]\n",
      "int64\n",
      "<built-in method astype of numpy.ndarray object at 0x0000021A8A973150>\n"
     ]
    }
   ],
   "source": [
    "a = np.array(['1', '2', '3'], dtype='i8')\n",
    "print(a)\n",
    "print(a.dtype)\n",
    "print(a.astype)"
   ]
  },
  {
   "cell_type": "code",
   "execution_count": 35,
   "id": "5e36c70c-e77a-474a-a464-913b24203a97",
   "metadata": {},
   "outputs": [
    {
     "name": "stdout",
     "output_type": "stream",
     "text": [
      "[1 2 3 4]\n",
      "int64\n"
     ]
    }
   ],
   "source": [
    "#CASTING-astype\n",
    "a=np.array(['1','2','3','4'])\n",
    "b=a.astype(int)\n",
    "print(b)\n",
    "print(b.dtype)\n"
   ]
  },
  {
   "cell_type": "code",
   "execution_count": 30,
   "id": "efb6f1ab-a229-420a-a804-30bd02ec0650",
   "metadata": {},
   "outputs": [
    {
     "name": "stdout",
     "output_type": "stream",
     "text": [
      "[b'1' b'2' b'4']\n",
      "|S21\n"
     ]
    }
   ],
   "source": [
    "a=np.array([1,2,4])\n",
    "b=a.astype('S')\n",
    "print(b)\n",
    "print(b.dtype)"
   ]
  },
  {
   "cell_type": "code",
   "execution_count": 34,
   "id": "d7704091-509e-474d-9d3f-740564803df9",
   "metadata": {},
   "outputs": [
    {
     "name": "stdout",
     "output_type": "stream",
     "text": [
      "[1. 2. 3. 4.]\n",
      "float64\n"
     ]
    }
   ],
   "source": [
    "a=np.array([1,2,3,4])\n",
    "b=a.astype(float)\n",
    "print(b)\n",
    "print(b.dtype)"
   ]
  },
  {
   "cell_type": "code",
   "execution_count": 33,
   "id": "4b05bdb9-7785-4944-a2da-f02b4085ad99",
   "metadata": {},
   "outputs": [
    {
     "name": "stdout",
     "output_type": "stream",
     "text": [
      "[ True False  True]\n",
      "bool\n"
     ]
    }
   ],
   "source": [
    "a=np.array([1,0,2])\n",
    "b=a.astype(bool)\n",
    "print(b)\n",
    "print(b.dtype)"
   ]
  },
  {
   "cell_type": "code",
   "execution_count": 37,
   "id": "105598b2-c3f9-49f5-bf15-641869f63195",
   "metadata": {},
   "outputs": [
    {
     "name": "stdout",
     "output_type": "stream",
     "text": [
      "[1 2 3]\n",
      "int32\n"
     ]
    }
   ],
   "source": [
    "a = np.array([\"1\", \"2\", \"3\"])\n",
    "b = a.astype(\"i4\")\n",
    "print(b)\n",
    "print(b.dtype)"
   ]
  },
  {
   "cell_type": "markdown",
   "id": "c7d3eaab-924f-40ad-8454-c46576be1777",
   "metadata": {},
   "source": [
    "# **copy:**\n",
    "* to get a aditional of data like duplicate using copy\n",
    "* its not affect original its only update the copied data\n",
    "\n",
    "  "
   ]
  },
  {
   "cell_type": "code",
   "execution_count": 39,
   "id": "0215a090-e68a-4354-9078-8f286d067468",
   "metadata": {},
   "outputs": [
    {
     "name": "stdout",
     "output_type": "stream",
     "text": [
      "[1 2 3 5 8]\n",
      "[10  2  3  5  8]\n"
     ]
    }
   ],
   "source": [
    "import numpy as np\n",
    "\n",
    "a=np.array([1,2,3,5,8])\n",
    "c=a.copy()\n",
    "c[0]=10\n",
    "print(a)\n",
    "print(c)"
   ]
  },
  {
   "cell_type": "markdown",
   "id": "1a9072aa-aa8e-41e6-834e-23b14a9051e6",
   "metadata": {},
   "source": [
    "# **view:**\n",
    "* its used to if you change the data while programming and the original data also change"
   ]
  },
  {
   "cell_type": "code",
   "execution_count": 41,
   "id": "4eff8139-2be1-46f5-9511-c133a0f28676",
   "metadata": {},
   "outputs": [
    {
     "name": "stdout",
     "output_type": "stream",
     "text": [
      "[1 2 3 5 6]\n",
      "[1 2 3 5 6]\n"
     ]
    }
   ],
   "source": [
    "a=np.array([0,2,3,5,7])\n",
    "v=a.view()\n",
    "v[0]=1\n",
    "v[4]=6\n",
    "print(v)\n",
    "print(a)"
   ]
  },
  {
   "cell_type": "code",
   "execution_count": 42,
   "id": "b966e2ca-aa56-406a-8c0b-754efdaf7186",
   "metadata": {},
   "outputs": [
    {
     "name": "stdout",
     "output_type": "stream",
     "text": [
      "[1, 2, 3, 4, 6, 7]\n"
     ]
    }
   ],
   "source": [
    "a=np.array([[1,2],[3,4],[6,7]])\n",
    "b=[]\n",
    "for i in np.nditer(a):\n",
    "    b.append(int(i))\n",
    "print(b)"
   ]
  },
  {
   "cell_type": "code",
   "execution_count": 46,
   "id": "f1063980-f3fd-447f-a9a5-a33e464c6f8c",
   "metadata": {},
   "outputs": [
    {
     "name": "stdout",
     "output_type": "stream",
     "text": [
      "add [[5 7 9]\n",
      " [2 4 6]]\n",
      "\n",
      "sub [[-3 -3 -3]\n",
      " [ 0  0  0]]\n",
      "\n",
      "mult [[ 4 10 18]\n",
      " [ 1  4  9]]\n",
      "\n",
      "div [[0.25 0.4  0.5 ]\n",
      " [1.   1.   1.  ]]\n"
     ]
    }
   ],
   "source": [
    "#MATH OPERATION\n",
    "a = np.array([[1, 2, 3],[1, 2, 3]])\n",
    "b = np.array([[4, 5, 6],[1, 2, 3]])\n",
    "add=a+b\n",
    "sub=a-b\n",
    "mult=a*b\n",
    "div=a/b\n",
    "print(\"add\",add)\n",
    "print()\n",
    "print(\"sub\",sub)\n",
    "print()\n",
    "print(\"mult\",mult)\n",
    "print()\n",
    "print(\"div\",div)\n",
    "#perform each element with another var each element their perform with pairs of operation"
   ]
  },
  {
   "cell_type": "code",
   "execution_count": 47,
   "id": "99bfb116-51ce-4e30-8f17-9d6d6b5a2d78",
   "metadata": {},
   "outputs": [
    {
     "name": "stdout",
     "output_type": "stream",
     "text": [
      "5\n",
      "7\n",
      "9\n"
     ]
    }
   ],
   "source": [
    "a=np.array([1,2,3])\n",
    "b=np.array([4,5,6])\n",
    "for i in range(len(a)):\n",
    "    print(a[i]+b[i])\n",
    "    "
   ]
  },
  {
   "cell_type": "code",
   "execution_count": 49,
   "id": "eea9b8e1-72aa-4e97-b2eb-c003ababea71",
   "metadata": {},
   "outputs": [
    {
     "name": "stdout",
     "output_type": "stream",
     "text": [
      "[0.25 0.4  0.5 ]\n",
      "[ 4 10 18]\n"
     ]
    }
   ],
   "source": [
    "a=np.array([1,2,3])\n",
    "b=np.array([4,5,6])\n",
    "print(a/b)\n",
    "print(a*b)"
   ]
  },
  {
   "cell_type": "code",
   "execution_count": null,
   "id": "2e889592-503b-443d-b8a8-bc7b27d73d27",
   "metadata": {},
   "outputs": [],
   "source": []
  }
 ],
 "metadata": {
  "kernelspec": {
   "display_name": "Python [conda env:base] *",
   "language": "python",
   "name": "conda-base-py"
  },
  "language_info": {
   "codemirror_mode": {
    "name": "ipython",
    "version": 3
   },
   "file_extension": ".py",
   "mimetype": "text/x-python",
   "name": "python",
   "nbconvert_exporter": "python",
   "pygments_lexer": "ipython3",
   "version": "3.13.5"
  }
 },
 "nbformat": 4,
 "nbformat_minor": 5
}
