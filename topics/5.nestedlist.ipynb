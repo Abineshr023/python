{
 "cells": [
  {
   "cell_type": "code",
   "execution_count": 4,
   "id": "2719dd2b-2a84-45f9-bf56-79b47dcdde31",
   "metadata": {},
   "outputs": [
    {
     "name": "stdout",
     "output_type": "stream",
     "text": [
      "[9, [10, 11, 13], 12]\n",
      "[9, [10, 11, 13], 12]\n",
      "8\n",
      "8\n",
      "[10, 11]\n",
      "[10, 11]\n",
      "12\n",
      "12\n"
     ]
    }
   ],
   "source": [
    "#nested list -it contain list inside another list\n",
    "#each list has different index posistion,the all list starts from new\n",
    "a=[1,2,4,5,6,[7,8],[9,[10,11,13],12]]\n",
    "#to print the 8 index\n",
    "print(a[6])\n",
    "print(a[-1])                  #negative\n",
    "\n",
    "#to print the value 8 \n",
    "print(a[5][1])                 #in nestedlist to mention position in list format \n",
    "print(a[-2][-1])                #negative\n",
    "\n",
    "\n",
    "#to print value 10 and 11\n",
    "print(a[6][1][0:2])\n",
    "print(a[-1][1][0:2])           #negative\n",
    "\n",
    "#to print value 12\n",
    "print(a[6][2])\n",
    "print(a[-1][-1])                  #negative"
   ]
  },
  {
   "cell_type": "code",
   "execution_count": 2,
   "id": "ee5915cc-9e17-4ba3-94c7-170c287b7dde",
   "metadata": {},
   "outputs": [
    {
     "data": {
      "text/plain": [
       "['x', [2, 3, 4], 36, 76, 'welcome', 'hello', 'hi']"
      ]
     },
     "execution_count": 2,
     "metadata": {},
     "output_type": "execute_result"
    }
   ],
   "source": [
    "k=[23,[2,3,4],45,76,'hi']\n",
    "k[2]=36\n",
    "\n",
    "k.insert(4,'welcome')\n",
    "\n",
    "k.pop(0)\n",
    "k.insert(0,'x')\n",
    "\n",
    "k.insert(5,'hello')\n",
    "k"
   ]
  },
  {
   "cell_type": "code",
   "execution_count": 3,
   "id": "47244bf9-e71f-49cc-93c6-a543d85449d7",
   "metadata": {},
   "outputs": [
    {
     "name": "stdout",
     "output_type": "stream",
     "text": [
      "2\n"
     ]
    },
    {
     "data": {
      "text/plain": [
       "3"
      ]
     },
     "execution_count": 3,
     "metadata": {},
     "output_type": "execute_result"
    }
   ],
   "source": [
    "print(k.index(36))\n",
    "i=k.index(76)\n",
    "i"
   ]
  },
  {
   "cell_type": "code",
   "execution_count": null,
   "id": "32018d9a-83b2-4711-9c92-6f7473f10cf6",
   "metadata": {},
   "outputs": [],
   "source": []
  }
 ],
 "metadata": {
  "kernelspec": {
   "display_name": "Python [conda env:base] *",
   "language": "python",
   "name": "conda-base-py"
  },
  "language_info": {
   "codemirror_mode": {
    "name": "ipython",
    "version": 3
   },
   "file_extension": ".py",
   "mimetype": "text/x-python",
   "name": "python",
   "nbconvert_exporter": "python",
   "pygments_lexer": "ipython3",
   "version": "3.13.5"
  }
 },
 "nbformat": 4,
 "nbformat_minor": 5
}
