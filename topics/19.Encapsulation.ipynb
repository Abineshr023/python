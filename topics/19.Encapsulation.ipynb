{
 "cells": [
  {
   "cell_type": "code",
   "execution_count": 8,
   "id": "d2f0179f-b308-4ed4-a59d-ba7ab7c295b0",
   "metadata": {},
   "outputs": [],
   "source": [
    "#public\n",
    "#protect _\n",
    "#private __ it only access by another function in class\n"
   ]
  },
  {
   "cell_type": "code",
   "execution_count": 24,
   "id": "caa1f380-8960-474d-b79a-37712038f16a",
   "metadata": {},
   "outputs": [
    {
     "name": "stdout",
     "output_type": "stream",
     "text": [
      "abi\n",
      "22\n",
      "name:abi,age:22\n"
     ]
    }
   ],
   "source": [
    "#public access modifier\n",
    "#Accessible: From anywhere (inside and outside the class)\n",
    "class clas:\n",
    "    def __init__(self,name,age):\n",
    "        self.a=name\n",
    "        self.b=age\n",
    "        \n",
    "    def __str__(self):\n",
    "        return (f\"name:{self.a},age:{self.b}\")\n",
    "ob=clas(\"abi\",21)\n",
    "print(ob.a)\n",
    "ob.b=22\n",
    "print(ob.b)\n",
    "print(ob)"
   ]
  },
  {
   "cell_type": "code",
   "execution_count": 28,
   "id": "3bfc37ba-baf7-4617-92f5-6b8ba93ef84f",
   "metadata": {},
   "outputs": [
    {
     "name": "stdout",
     "output_type": "stream",
     "text": [
      "abi\n"
     ]
    }
   ],
   "source": [
    "#protect\n",
    "# self._variable (single underscore)\n",
    "# From inside the class and subclass (child class)\n",
    "# Not strictly private — it's a convention to indicate \"for internal use\"\n",
    "class cls:\n",
    "    def __init__(self,name):\n",
    "        self._a=name\n",
    "ob=cls(\"abi\")\n",
    "print(ob._a)  #its possible to access"
   ]
  },
  {
   "cell_type": "code",
   "execution_count": 31,
   "id": "96fe4722-43c1-47de-8285-baaa4e2a1e45",
   "metadata": {},
   "outputs": [
    {
     "name": "stdout",
     "output_type": "stream",
     "text": [
      "abi\n"
     ]
    }
   ],
   "source": [
    "class cls:\n",
    "    def __init__(self,name):\n",
    "        self._a=name\n",
    "    def nam(self):\n",
    "        print(self._a)\n",
    "ob=cls(\"abi\")\n",
    "ob.nam()\n",
    "#print(ob._a)    #its also possible to access "
   ]
  },
  {
   "cell_type": "code",
   "execution_count": 38,
   "id": "0f8d18d8-b4c6-4b2e-8aee-6ef1ba2feb48",
   "metadata": {},
   "outputs": [
    {
     "name": "stdout",
     "output_type": "stream",
     "text": [
      "name:abi,age:22\n",
      "22\n"
     ]
    }
   ],
   "source": [
    "#perform sub class with inherit\n",
    "class clg:\n",
    "    def __init__(self,name,age):\n",
    "        self.a=name\n",
    "        self._b=age\n",
    "class dept(clg):\n",
    "    def dpname(self):\n",
    "        print(f\"name:{self.a},age:{self._b}\")\n",
    "ob=dept(\"abi\",22)\n",
    "ob.dpname()\n",
    "print(ob._b)"
   ]
  },
  {
   "cell_type": "code",
   "execution_count": 53,
   "id": "6941d476-8061-41d3-a5c8-0b4223479c56",
   "metadata": {},
   "outputs": [
    {
     "name": "stdout",
     "output_type": "stream",
     "text": [
      "savings\n",
      "1500\n",
      "1500\n",
      "1000\n"
     ]
    }
   ],
   "source": [
    "#private\n",
    "#self.__variable (double underscore)\n",
    "#Accessible: Only inside the class\n",
    "#Python uses name mangling to prevent external access\n",
    "class bank:\n",
    "    def amo(self,types):\n",
    "        self.__typ=types\n",
    "    def bal(self,amount):\n",
    "        self.a=amount\n",
    "        print(self.__typ)\n",
    "    def fin(self,depo):\n",
    "        self.d=depo\n",
    "        if depo>0:\n",
    "            self.a +=self.d\n",
    "            print(self.a)\n",
    "n=bank()\n",
    "n.amo(\"savings\")\n",
    "n.bal(500)  \n",
    "n.fin(1000)\n",
    "#print(n.__typ)      cant access by outer only with inside the class\n",
    "print(n.a)\n",
    "print(n.d)"
   ]
  },
  {
   "cell_type": "code",
   "execution_count": 72,
   "id": "1e4bb33d-776f-43cb-9888-ef8664c39202",
   "metadata": {},
   "outputs": [
    {
     "name": "stdout",
     "output_type": "stream",
     "text": [
      "15\n"
     ]
    }
   ],
   "source": [
    "#sub class with inherit\n",
    "class arith:\n",
    "    def __init__(self,a,b,c):\n",
    "        self.v1=a\n",
    "        self.__v2=b\n",
    "        self.__v3=c\n",
    "    def val2(self):\n",
    "        return self.__v2\n",
    "    def val3(self):\n",
    "        return self.__v3\n",
    "\n",
    "class prob1(arith):\n",
    "    def add(self):\n",
    "        a1=self.v1+self.val2()+self.val3()\n",
    "        print(a1)\n",
    "s=prob1(10,2,3)\n",
    "s.add()\n",
    "#print(s.__v2)        "
   ]
  },
  {
   "cell_type": "code",
   "execution_count": 74,
   "id": "aafac8ef-e5f8-4fee-b97b-05cdffff7961",
   "metadata": {},
   "outputs": [
    {
     "name": "stdout",
     "output_type": "stream",
     "text": [
      "15\n",
      "2\n"
     ]
    }
   ],
   "source": [
    "class arith:\n",
    "    def __init__(self,a,b,c):\n",
    "        self.v1=a\n",
    "        self.__v2=b\n",
    "        self.__v3=c\n",
    "    def get_v2(self):\n",
    "        return self.__v2\n",
    "    def get_v3(self):\n",
    "        return self.__v3\n",
    "\n",
    "class prob1(arith):\n",
    "    def add(self):\n",
    "        a1 = self.v1 + self.get_v2() + self.get_v3()\n",
    "        print(a1)\n",
    "\n",
    "s = prob1(10,2,3)\n",
    "s.add()    # 15\n",
    "print(s.get_v2())  # to calling the function to get op\n",
    "#print(s.__v2)  # not accessible"
   ]
  },
  {
   "cell_type": "code",
   "execution_count": 4,
   "id": "d92b799f-6f54-4778-80b7-e00fe5861e9e",
   "metadata": {},
   "outputs": [
    {
     "name": "stdout",
     "output_type": "stream",
     "text": [
      "9\n",
      "9\n"
     ]
    }
   ],
   "source": [
    "#update value for private\n",
    "class upd:\n",
    "    def __init__(self,v1,v2,v3):\n",
    "        self.a=v1\n",
    "        self.__b=v2\n",
    "        self.__c=v3\n",
    "    def a1(self):\n",
    "        return self.a\n",
    "    def b1(self):\n",
    "        return self.__b\n",
    "    def c1(self):\n",
    "        return self.__c\n",
    "\n",
    "    def chn(self):\n",
    "        if self.b1()<self.c1():\n",
    "            self.__b +=self.__c\n",
    "            print(self.__b)                  # |\n",
    "        else:                                       \n",
    "            print(\"error\")\n",
    "u=upd(10,4,5)\n",
    "u.chn()\n",
    "print(u.b1())"
   ]
  },
  {
   "cell_type": "code",
   "execution_count": 87,
   "id": "244af591-b294-4392-96b7-c5cdc1ce1260",
   "metadata": {},
   "outputs": [
    {
     "name": "stdout",
     "output_type": "stream",
     "text": [
      "9\n",
      "9\n"
     ]
    }
   ],
   "source": [
    "class upd:\n",
    "    def __init__(self,v1,v2,v3):\n",
    "        self.a=v1\n",
    "        self.__b=v2\n",
    "        self.__c=v3\n",
    "    def a1(self):\n",
    "        return self.a\n",
    "    def b1(self):\n",
    "        return self.__b\n",
    "    def c1(self):\n",
    "        return self.__c\n",
    "\n",
    "    def chn(self):\n",
    "        if self.__b<self.__c:\n",
    "            self.__b +=self.__c           #doubt |\n",
    "            print(self.__b)\n",
    "        else:\n",
    "            print(\"error\")\n",
    "u=upd(10,4,5)\n",
    "u.chn()\n",
    "print(u.b1())"
   ]
  },
  {
   "cell_type": "code",
   "execution_count": 4,
   "id": "5d6a2cb7-f29e-4101-8453-71d58987dee6",
   "metadata": {},
   "outputs": [
    {
     "name": "stdout",
     "output_type": "stream",
     "text": [
      "cse\n"
     ]
    }
   ],
   "source": [
    "#print private function\n",
    "class university:\n",
    "    def college(self):\n",
    "        print(\"kit\")\n",
    "        \n",
    "        \n",
    "    def __department(self):\n",
    "        print(\"cse\")\n",
    "\n",
    "    def depatments(self):\n",
    "        self.__department()\n",
    "        \n",
    "        \n",
    "uni=university()\n",
    "uni.depatments()"
   ]
  },
  {
   "cell_type": "code",
   "execution_count": 2,
   "id": "b5e0b1c1-f437-4bb8-9bed-1b1c88cad838",
   "metadata": {},
   "outputs": [
    {
     "name": "stdout",
     "output_type": "stream",
     "text": [
      "5\n",
      "17\n"
     ]
    }
   ],
   "source": [
    "class arith1:\n",
    "    def __init__(self,a,b,c):\n",
    "        self.a=a    #public\n",
    "        self._b=b   #protect\n",
    "        self.__c=c  #private\n",
    "    def a1(self):\n",
    "        return self.__c\n",
    "    def add(self):\n",
    "        ad=self.a+self._b+self.a1()\n",
    "        return ad\n",
    "       # print(ad)\n",
    "    \n",
    "ob=arith1(10,2,5)\n",
    "ob.add()\n",
    "print(ob.a1())\n",
    "print(ob.add())\n",
    "#print(self.__c)"
   ]
  },
  {
   "cell_type": "code",
   "execution_count": 3,
   "id": "47864ae1-7566-45c1-b000-2626e3c55e4e",
   "metadata": {},
   "outputs": [
    {
     "name": "stdout",
     "output_type": "stream",
     "text": [
      "10\n",
      "2\n"
     ]
    }
   ],
   "source": [
    "#adding element using inherit class\n",
    "class inp:\n",
    "    def __init__(self,a,b,c):\n",
    "        self.a=a\n",
    "        self._b=b\n",
    "        self.__c=c\n",
    "    def c1(self):\n",
    "        return self.__c\n",
    "class arith3(inp):\n",
    "    def add3(self):\n",
    "        ad=self.a+self._b+self.c1()\n",
    "        return ad\n",
    "ari=arith3(5,3,2)\n",
    "print(ari.add3())\n",
    "print(ari.c1())     "
   ]
  },
  {
   "cell_type": "code",
   "execution_count": null,
   "id": "d9d5a299-4363-4587-ab40-e6aab2d42995",
   "metadata": {},
   "outputs": [],
   "source": []
  }
 ],
 "metadata": {
  "kernelspec": {
   "display_name": "Python [conda env:base] *",
   "language": "python",
   "name": "conda-base-py"
  },
  "language_info": {
   "codemirror_mode": {
    "name": "ipython",
    "version": 3
   },
   "file_extension": ".py",
   "mimetype": "text/x-python",
   "name": "python",
   "nbconvert_exporter": "python",
   "pygments_lexer": "ipython3",
   "version": "3.13.5"
  }
 },
 "nbformat": 4,
 "nbformat_minor": 5
}
