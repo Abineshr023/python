{
 "cells": [
  {
   "cell_type": "markdown",
   "id": "57c3e369-9285-44fa-a14b-2436a1ce252b",
   "metadata": {},
   "source": [
    "# **Pandas**"
   ]
  },
  {
   "cell_type": "code",
   "execution_count": 2,
   "id": "e725b25f-d674-43c7-bb8c-987ee0eb6337",
   "metadata": {},
   "outputs": [],
   "source": [
    "import pandas as pd"
   ]
  },
  {
   "cell_type": "code",
   "execution_count": 8,
   "id": "7d7cb41b-5481-4b0c-a78d-51136f8b59ec",
   "metadata": {},
   "outputs": [
    {
     "name": "stdout",
     "output_type": "stream",
     "text": [
      "object\n"
     ]
    }
   ],
   "source": [
    "#its in the form of series pattern to show output\n",
    "a=[1,3,4,5,6]\n",
    "s=pd.Series([a])\n",
    "print(s.dtype)"
   ]
  },
  {
   "cell_type": "code",
   "execution_count": 10,
   "id": "7ec4b7f8-d8ce-4c97-976c-059ac3a5ac8f",
   "metadata": {},
   "outputs": [
    {
     "name": "stdout",
     "output_type": "stream",
     "text": [
      "      name  tamil  english  maths\n",
      "0      abi     95       92     95\n",
      "1  abinesh     90       80     75\n",
      "2     kali     70       45     40\n"
     ]
    }
   ],
   "source": [
    "#DataFrame:its give the op in structured or organized formate\n",
    "a={\"name\":[\"abi\",\"abinesh\",\"kali\"],\n",
    "   \"tamil\":[95,90,70],\n",
    "   \"english\":[92,80,45],\n",
    "   \"maths\":[95,75,40]}\n",
    "b=pd.DataFrame(a)\n",
    "print(b)"
   ]
  },
  {
   "cell_type": "code",
   "execution_count": 12,
   "id": "20c842d4-b39d-4878-ab5e-718329bad44e",
   "metadata": {},
   "outputs": [
    {
     "name": "stdout",
     "output_type": "stream",
     "text": [
      "0        abi\n",
      "1    abinesh\n",
      "2       kali\n",
      "Name: name, dtype: object\n"
     ]
    },
    {
     "data": {
      "text/plain": [
       "['abi', 'abinesh', 'kali']"
      ]
     },
     "execution_count": 12,
     "metadata": {},
     "output_type": "execute_result"
    }
   ],
   "source": [
    "print(b[\"name\"]) #b is converted dataframe formate\n",
    "a[\"name\"] #its gives a formate of original in list formation"
   ]
  },
  {
   "cell_type": "code",
   "execution_count": 23,
   "id": "2c97d5ae-dcb1-4517-97cb-14949251f59b",
   "metadata": {},
   "outputs": [
    {
     "name": "stdout",
     "output_type": "stream",
     "text": [
      "name       abi\n",
      "tamil       95\n",
      "english     92\n",
      "maths       95\n",
      "Name: 0, dtype: object\n"
     ]
    },
    {
     "data": {
      "text/html": [
       "<div>\n",
       "<style scoped>\n",
       "    .dataframe tbody tr th:only-of-type {\n",
       "        vertical-align: middle;\n",
       "    }\n",
       "\n",
       "    .dataframe tbody tr th {\n",
       "        vertical-align: top;\n",
       "    }\n",
       "\n",
       "    .dataframe thead th {\n",
       "        text-align: right;\n",
       "    }\n",
       "</style>\n",
       "<table border=\"1\" class=\"dataframe\">\n",
       "  <thead>\n",
       "    <tr style=\"text-align: right;\">\n",
       "      <th></th>\n",
       "      <th>name</th>\n",
       "      <th>tamil</th>\n",
       "      <th>english</th>\n",
       "      <th>maths</th>\n",
       "    </tr>\n",
       "  </thead>\n",
       "  <tbody>\n",
       "    <tr>\n",
       "      <th>1</th>\n",
       "      <td>abinesh</td>\n",
       "      <td>90</td>\n",
       "      <td>80</td>\n",
       "      <td>75</td>\n",
       "    </tr>\n",
       "  </tbody>\n",
       "</table>\n",
       "</div>"
      ],
      "text/plain": [
       "      name  tamil  english  maths\n",
       "1  abinesh     90       80     75"
      ]
     },
     "execution_count": 23,
     "metadata": {},
     "output_type": "execute_result"
    }
   ],
   "source": [
    "# LOCATE ROW\n",
    "print(b.loc[0])    #its perform based on index of row in formate data set  series form\n",
    "b.loc[[1]]        # its also same but its form of dataframe"
   ]
  },
  {
   "cell_type": "code",
   "execution_count": 25,
   "id": "ed53728c-61c6-4eb7-b73f-cde550064599",
   "metadata": {},
   "outputs": [
    {
     "name": "stdout",
     "output_type": "stream",
     "text": [
      "      name  tamil  english  maths\n",
      "0      abi     95       92     95\n",
      "1  abinesh     90       80     75\n"
     ]
    }
   ],
   "source": [
    "print(b.loc[[0,1]])"
   ]
  },
  {
   "cell_type": "code",
   "execution_count": 31,
   "id": "a984d0c3-580f-49ad-94e6-6faf370c0335",
   "metadata": {},
   "outputs": [
    {
     "name": "stdout",
     "output_type": "stream",
     "text": [
      "      name  tamil  english  maths\n",
      "1      abi     95       92     95\n",
      "2  abinesh     90       80     75\n",
      "3     kali     70       45     40\n"
     ]
    },
    {
     "data": {
      "text/html": [
       "<div>\n",
       "<style scoped>\n",
       "    .dataframe tbody tr th:only-of-type {\n",
       "        vertical-align: middle;\n",
       "    }\n",
       "\n",
       "    .dataframe tbody tr th {\n",
       "        vertical-align: top;\n",
       "    }\n",
       "\n",
       "    .dataframe thead th {\n",
       "        text-align: right;\n",
       "    }\n",
       "</style>\n",
       "<table border=\"1\" class=\"dataframe\">\n",
       "  <thead>\n",
       "    <tr style=\"text-align: right;\">\n",
       "      <th></th>\n",
       "      <th>name</th>\n",
       "      <th>tamil</th>\n",
       "      <th>english</th>\n",
       "      <th>maths</th>\n",
       "    </tr>\n",
       "  </thead>\n",
       "  <tbody>\n",
       "    <tr>\n",
       "      <th>1</th>\n",
       "      <td>abi</td>\n",
       "      <td>95</td>\n",
       "      <td>92</td>\n",
       "      <td>95</td>\n",
       "    </tr>\n",
       "    <tr>\n",
       "      <th>2</th>\n",
       "      <td>abinesh</td>\n",
       "      <td>90</td>\n",
       "      <td>80</td>\n",
       "      <td>75</td>\n",
       "    </tr>\n",
       "  </tbody>\n",
       "</table>\n",
       "</div>"
      ],
      "text/plain": [
       "      name  tamil  english  maths\n",
       "1      abi     95       92     95\n",
       "2  abinesh     90       80     75"
      ]
     },
     "execution_count": 31,
     "metadata": {},
     "output_type": "execute_result"
    }
   ],
   "source": [
    "a={\"name\":[\"abi\",\"abinesh\",\"kali\"],\n",
    "   \"tamil\":[95,90,70],\n",
    "   \"english\":[92,80,45],\n",
    "   \"maths\":[95,75,40]}\n",
    "b=pd.DataFrame(a,index=[1,2,3])\n",
    "print(b)\n",
    "b.loc[[1,2]]"
   ]
  },
  {
   "cell_type": "code",
   "execution_count": 42,
   "id": "99b0ab76-89ef-45dc-8369-3a7126673d7f",
   "metadata": {},
   "outputs": [
    {
     "data": {
      "text/html": [
       "<div>\n",
       "<style scoped>\n",
       "    .dataframe tbody tr th:only-of-type {\n",
       "        vertical-align: middle;\n",
       "    }\n",
       "\n",
       "    .dataframe tbody tr th {\n",
       "        vertical-align: top;\n",
       "    }\n",
       "\n",
       "    .dataframe thead th {\n",
       "        text-align: right;\n",
       "    }\n",
       "</style>\n",
       "<table border=\"1\" class=\"dataframe\">\n",
       "  <thead>\n",
       "    <tr style=\"text-align: right;\">\n",
       "      <th></th>\n",
       "      <th>name</th>\n",
       "      <th>tamil</th>\n",
       "      <th>english</th>\n",
       "      <th>maths</th>\n",
       "    </tr>\n",
       "  </thead>\n",
       "  <tbody>\n",
       "    <tr>\n",
       "      <th>1</th>\n",
       "      <td>abi</td>\n",
       "      <td>95</td>\n",
       "      <td>92</td>\n",
       "      <td>95</td>\n",
       "    </tr>\n",
       "    <tr>\n",
       "      <th>2</th>\n",
       "      <td>abinesh</td>\n",
       "      <td>90</td>\n",
       "      <td>80</td>\n",
       "      <td>75</td>\n",
       "    </tr>\n",
       "  </tbody>\n",
       "</table>\n",
       "</div>"
      ],
      "text/plain": [
       "      name  tamil  english  maths\n",
       "1      abi     95       92     95\n",
       "2  abinesh     90       80     75"
      ]
     },
     "execution_count": 42,
     "metadata": {},
     "output_type": "execute_result"
    }
   ],
   "source": [
    "b.loc[[1,2]] #multiple rows"
   ]
  },
  {
   "cell_type": "code",
   "execution_count": 47,
   "id": "fd3ede80-5ae3-46d5-8453-264e63175494",
   "metadata": {},
   "outputs": [
    {
     "data": {
      "text/html": [
       "<div>\n",
       "<style scoped>\n",
       "    .dataframe tbody tr th:only-of-type {\n",
       "        vertical-align: middle;\n",
       "    }\n",
       "\n",
       "    .dataframe tbody tr th {\n",
       "        vertical-align: top;\n",
       "    }\n",
       "\n",
       "    .dataframe thead th {\n",
       "        text-align: right;\n",
       "    }\n",
       "</style>\n",
       "<table border=\"1\" class=\"dataframe\">\n",
       "  <thead>\n",
       "    <tr style=\"text-align: right;\">\n",
       "      <th></th>\n",
       "      <th>name</th>\n",
       "      <th>tamil</th>\n",
       "      <th>english</th>\n",
       "      <th>maths</th>\n",
       "    </tr>\n",
       "  </thead>\n",
       "  <tbody>\n",
       "    <tr>\n",
       "      <th>2</th>\n",
       "      <td>abinesh</td>\n",
       "      <td>90</td>\n",
       "      <td>80</td>\n",
       "      <td>75</td>\n",
       "    </tr>\n",
       "  </tbody>\n",
       "</table>\n",
       "</div>"
      ],
      "text/plain": [
       "      name  tamil  english  maths\n",
       "2  abinesh     90       80     75"
      ]
     },
     "execution_count": 47,
     "metadata": {},
     "output_type": "execute_result"
    }
   ],
   "source": [
    "b.loc[[1,2]]      #its perform by rows\n",
    "b.iloc[[1]]       #its perform by positon of index"
   ]
  },
  {
   "cell_type": "code",
   "execution_count": null,
   "id": "f1fb7b65-0321-4c91-8f29-da791e8b26ab",
   "metadata": {},
   "outputs": [],
   "source": []
  },
  {
   "cell_type": "code",
   "execution_count": null,
   "id": "41d90813-2d8f-4156-bfcc-890570a9e210",
   "metadata": {},
   "outputs": [],
   "source": []
  },
  {
   "cell_type": "code",
   "execution_count": null,
   "id": "d56ace1c-c4dd-4507-a400-8cd55984368e",
   "metadata": {},
   "outputs": [],
   "source": []
  },
  {
   "cell_type": "code",
   "execution_count": null,
   "id": "f2ea5ad4-1eaa-48a4-a72a-0e43a8ec2dd1",
   "metadata": {},
   "outputs": [],
   "source": [
    "#5 to 10\n",
    "# stu1\n",
    "#"
   ]
  }
 ],
 "metadata": {
  "kernelspec": {
   "display_name": "Python [conda env:base] *",
   "language": "python",
   "name": "conda-base-py"
  },
  "language_info": {
   "codemirror_mode": {
    "name": "ipython",
    "version": 3
   },
   "file_extension": ".py",
   "mimetype": "text/x-python",
   "name": "python",
   "nbconvert_exporter": "python",
   "pygments_lexer": "ipython3",
   "version": "3.13.5"
  }
 },
 "nbformat": 4,
 "nbformat_minor": 5
}
