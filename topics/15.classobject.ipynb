{
 "cells": [
  {
   "cell_type": "code",
   "execution_count": 1,
   "id": "a7ea29bd-78c9-46ee-b6a1-df5c55a069ab",
   "metadata": {},
   "outputs": [
    {
     "name": "stdout",
     "output_type": "stream",
     "text": [
      "22\n"
     ]
    }
   ],
   "source": [
    "#class and object -it is used to execute multiple function at a time\n",
    "# if to execute the class the object is must\n",
    "#self also must for functioning arguments(because in calling class through object it be passing one hidden data so the receiver is name as self\n",
    "#so the function parameter has self)\n",
    "class arith:\n",
    "    def add(self,f,s):\n",
    "        self.a=f\n",
    "        self.b=s\n",
    "        c=self.a+self.b\n",
    "        print(c)\n",
    "#to declaring a object for class\n",
    "a=arith()\n",
    "a.add(10,12)\n",
    "        "
   ]
  },
  {
   "cell_type": "code",
   "execution_count": 2,
   "id": "1a2f2f17-5e99-4610-b736-ada3f9ea0ad0",
   "metadata": {},
   "outputs": [
    {
     "name": "stdout",
     "output_type": "stream",
     "text": [
      "30\n"
     ]
    }
   ],
   "source": [
    "class arith:\n",
    "    def add(self):\n",
    "        a=10\n",
    "        b=20\n",
    "        c=a+b\n",
    "        print(c)\n",
    "#to declaring a object for class\n",
    "a=arith()\n",
    "a.add()"
   ]
  },
  {
   "cell_type": "code",
   "execution_count": 4,
   "id": "fd8b6eaf-1bf6-4ea0-afc5-683a898b4170",
   "metadata": {},
   "outputs": [
    {
     "ename": "TypeError",
     "evalue": "arith.add() takes 0 positional arguments but 1 was given",
     "output_type": "error",
     "traceback": [
      "\u001b[1;31m---------------------------------------------------------------------------\u001b[0m",
      "\u001b[1;31mTypeError\u001b[0m                                 Traceback (most recent call last)",
      "Cell \u001b[1;32mIn[4], line 10\u001b[0m\n\u001b[0;32m      8\u001b[0m \u001b[38;5;66;03m#to declaring a object for class\u001b[39;00m\n\u001b[0;32m      9\u001b[0m a\u001b[38;5;241m=\u001b[39marith()\n\u001b[1;32m---> 10\u001b[0m a\u001b[38;5;241m.\u001b[39madd()\n",
      "\u001b[1;31mTypeError\u001b[0m: arith.add() takes 0 positional arguments but 1 was given"
     ]
    }
   ],
   "source": [
    "#without self error occurence\n",
    "class arith:\n",
    "    def add():\n",
    "        a=10\n",
    "        b=20\n",
    "        c=a+b\n",
    "        print(c)\n",
    "#to declaring a object for class\n",
    "a=arith()\n",
    "a.add()\n",
    "        "
   ]
  },
  {
   "cell_type": "code",
   "execution_count": 3,
   "id": "a65d8195-32c3-4cbd-885a-5db3cfd65781",
   "metadata": {},
   "outputs": [
    {
     "name": "stdout",
     "output_type": "stream",
     "text": [
      "-1\n"
     ]
    },
    {
     "ename": "AttributeError",
     "evalue": "'arith' object has no attribute 'b'",
     "output_type": "error",
     "traceback": [
      "\u001b[1;31m---------------------------------------------------------------------------\u001b[0m",
      "\u001b[1;31mAttributeError\u001b[0m                            Traceback (most recent call last)",
      "Cell \u001b[1;32mIn[3], line 9\u001b[0m\n\u001b[0;32m      7\u001b[0m a\u001b[38;5;241m=\u001b[39marith()\n\u001b[0;32m      8\u001b[0m a\u001b[38;5;241m.\u001b[39msub(\u001b[38;5;241m5\u001b[39m,\u001b[38;5;241m6\u001b[39m)\n\u001b[1;32m----> 9\u001b[0m \u001b[38;5;28mprint\u001b[39m(a\u001b[38;5;241m.\u001b[39mb)\n",
      "\u001b[1;31mAttributeError\u001b[0m: 'arith' object has no attribute 'b'"
     ]
    }
   ],
   "source": [
    "#passing value through object call\n",
    "class arith:\n",
    "    def sub(self,a,b):\n",
    "        c=a-b\n",
    "        print(c)\n",
    "#to declaring a object for class\n",
    "a=arith()\n",
    "a.sub(5,6)\n",
    "print(a.b)\n",
    "#the value through object call is pass value to a and b"
   ]
  },
  {
   "cell_type": "code",
   "execution_count": 6,
   "id": "99d6746c-e9e2-4f08-8719-b1b9f8763a90",
   "metadata": {},
   "outputs": [
    {
     "name": "stdout",
     "output_type": "stream",
     "text": [
      "11\n",
      "10\n"
     ]
    }
   ],
   "source": [
    "#multiple function with single class \n",
    "#passing arguement\n",
    "class arith:\n",
    "    def add(self,a,b):\n",
    "        c=a+b\n",
    "        print(c)\n",
    "    def sub(self,a,b):\n",
    "        c=a-b\n",
    "        print(c)\n",
    "#to declaring a object for class\n",
    "a=arith()\n",
    "a.add(5,6)\n",
    "a.sub(11,1)        "
   ]
  },
  {
   "cell_type": "code",
   "execution_count": 3,
   "id": "de1a2457-b98a-443c-94b1-a8e71e6136c4",
   "metadata": {},
   "outputs": [
    {
     "name": "stdout",
     "output_type": "stream",
     "text": [
      "3\n",
      "5\n"
     ]
    }
   ],
   "source": [
    "#multiple function with multiple class\n",
    "#passing arguement\n",
    "class arith:\n",
    "    def add(self,a,b):\n",
    "        c=a+b\n",
    "        print(c)\n",
    "    def sub(self,a,b):\n",
    "        c=a-b\n",
    "        print(c)\n",
    "class arith1:\n",
    "    def add(self,a,b):\n",
    "        c=a+b\n",
    "        print(c)\n",
    "    def sub(self,a,b):\n",
    "        c=a-b\n",
    "        print(c)\n",
    "a=arith()\n",
    "a1=arith1()\n",
    "a.add(1,2)\n",
    "a1.add(2,3)"
   ]
  },
  {
   "cell_type": "code",
   "execution_count": 15,
   "id": "b379b5af-f3e5-41c0-b6a0-d0d6130b4cbe",
   "metadata": {
    "scrolled": true
   },
   "outputs": [
    {
     "name": "stdout",
     "output_type": "stream",
     "text": [
      "integer division or modulo by zero\n"
     ]
    }
   ],
   "source": [
    "#__INIT__-used to give input at once and use it to all functions\n",
    "try:\n",
    "    class arith:\n",
    "        def __init__(self,num1,num2):\n",
    "            self.a=num1\n",
    "            self.b=num2\n",
    "        def multi(self):\n",
    "            c=self.a*self.b\n",
    "            print(c)\n",
    "        def div(self):\n",
    "            c=self.a//self.b                       #using try/except\n",
    "            print(c)\n",
    "    a=arith(6,0)       # in __init__ to give arguement in object declaration cell\n",
    "    a.div()\n",
    "    a.multi()\n",
    "except Exception as e:\n",
    "    print(e)"
   ]
  },
  {
   "cell_type": "code",
   "execution_count": 18,
   "id": "4aecd687-341f-4e17-8bfc-39095118989e",
   "metadata": {},
   "outputs": [
    {
     "name": "stdout",
     "output_type": "stream",
     "text": [
      "div: 2\n",
      "multi: 18\n"
     ]
    }
   ],
   "source": [
    "    class arith:\n",
    "        def __init__(self,num1,num2):\n",
    "            self.a=num1\n",
    "            self.b=num2\n",
    "        def multi(self):\n",
    "            c=self.a*self.b            #without try/except\n",
    "            print(\"multi:\",c)\n",
    "        def div(self):\n",
    "            c=self.a//self.b                     \n",
    "            print(\"div:\",c)\n",
    "    a=arith(6,3)       # in __init__ to give arguement in object declaration cell\n",
    "    a.div()\n",
    "    a.multi()\n"
   ]
  },
  {
   "cell_type": "code",
   "execution_count": 8,
   "id": "d4a416db-e6c2-4c1b-903d-722c71394db2",
   "metadata": {},
   "outputs": [
    {
     "name": "stdout",
     "output_type": "stream",
     "text": [
      "abinesh,22\n"
     ]
    }
   ],
   "source": [
    "#__STR__FUNCTION-used to passing a string value in required input\n",
    "class string:\n",
    "    def __init__(self,name,age):         \n",
    "        self.a=name\n",
    "        self.b=age\n",
    "    def __str__(self):\n",
    "        return f\"{self.a},{self.b}\"\n",
    "func=string(\"abinesh\",22)\n",
    "print(func) #if u give __str__ u diretctly print fun"
   ]
  },
  {
   "cell_type": "code",
   "execution_count": 13,
   "id": "83994413-a356-43dc-a9ea-ddd3420f3f26",
   "metadata": {},
   "outputs": [
    {
     "name": "stdout",
     "output_type": "stream",
     "text": [
      "abinesh,22\n"
     ]
    }
   ],
   "source": [
    "#without __str__\n",
    "class string:\n",
    "    def __init__(self,name,age):\n",
    "        self.a=name\n",
    "        self.b=age\n",
    "    def detail(self):\n",
    "        return f\"{self.a},{self.b}\"\n",
    "func=string(\"abinesh\",22)\n",
    "a=func.detail()            #if u dont __str__use it be named as variable and call function then u print\n",
    "print(a)\n"
   ]
  },
  {
   "cell_type": "code",
   "execution_count": 14,
   "id": "cab1ccfd-0380-4678-929f-ac4e685208e7",
   "metadata": {},
   "outputs": [
    {
     "ename": "TypeError",
     "evalue": "'str' object is not callable",
     "output_type": "error",
     "traceback": [
      "\u001b[1;31m---------------------------------------------------------------------------\u001b[0m",
      "\u001b[1;31mTypeError\u001b[0m                                 Traceback (most recent call last)",
      "Cell \u001b[1;32mIn[14], line 10\u001b[0m\n\u001b[0;32m      7\u001b[0m     \u001b[38;5;28;01mreturn\u001b[39;00m \u001b[38;5;124mf\u001b[39m\u001b[38;5;124m\"\u001b[39m\u001b[38;5;132;01m{\u001b[39;00m\u001b[38;5;28mself\u001b[39m\u001b[38;5;241m.\u001b[39mname\u001b[38;5;132;01m}\u001b[39;00m\u001b[38;5;124m(\u001b[39m\u001b[38;5;132;01m{\u001b[39;00m\u001b[38;5;28mself\u001b[39m\u001b[38;5;241m.\u001b[39mage\u001b[38;5;132;01m}\u001b[39;00m\u001b[38;5;124m)\u001b[39m\u001b[38;5;124m\"\u001b[39m\n\u001b[0;32m      9\u001b[0m p1 \u001b[38;5;241m=\u001b[39m Person(\u001b[38;5;124m\"\u001b[39m\u001b[38;5;124mJohn\u001b[39m\u001b[38;5;124m\"\u001b[39m, \u001b[38;5;241m36\u001b[39m)\n\u001b[1;32m---> 10\u001b[0m a\u001b[38;5;241m=\u001b[39mp1\u001b[38;5;241m.\u001b[39mname()\n\u001b[0;32m     11\u001b[0m \u001b[38;5;28mprint\u001b[39m(a)\n",
      "\u001b[1;31mTypeError\u001b[0m: 'str' object is not callable"
     ]
    }
   ],
   "source": [
    "class Person:\n",
    "  def __init__(self, name, age):\n",
    "    self.name = name\n",
    "    self.age = age\n",
    "\n",
    "  def name(self):\n",
    "    return f\"{self.name}({self.age})\"\n",
    "\n",
    "p1 = Person(\"John\", 36)\n",
    "a=p1.name()\n",
    "print(a)       #because attribute is same in without __str__"
   ]
  },
  {
   "cell_type": "code",
   "execution_count": 6,
   "id": "8ae9c8d1-4124-4c18-baf4-b0e245f80c17",
   "metadata": {},
   "outputs": [
    {
     "name": "stdout",
     "output_type": "stream",
     "text": [
      "i am completed my college in kit\n",
      "now i am passed out student of kit\n"
     ]
    }
   ],
   "source": [
    "#super().__init__(...)\n",
    "class spr:\n",
    "    def __init__(self,clg):\n",
    "        self.a=clg\n",
    "        print(f\"i am completed my college in {self.a}\")\n",
    "class std(spr):\n",
    "    def __init__(self,name,clg):\n",
    "        super().__init__(clg)\n",
    "        self.b=clg\n",
    "        print(f\"now i am passed out student of {self.b}\")\n",
    "s=std(\"abi\",\"kit\")\n",
    "        "
   ]
  },
  {
   "cell_type": "code",
   "execution_count": null,
   "id": "2dc1c7fa-65f6-4107-92d4-d28de4c648da",
   "metadata": {},
   "outputs": [],
   "source": []
  }
 ],
 "metadata": {
  "kernelspec": {
   "display_name": "Python [conda env:base] *",
   "language": "python",
   "name": "conda-base-py"
  },
  "language_info": {
   "codemirror_mode": {
    "name": "ipython",
    "version": 3
   },
   "file_extension": ".py",
   "mimetype": "text/x-python",
   "name": "python",
   "nbconvert_exporter": "python",
   "pygments_lexer": "ipython3",
   "version": "3.13.5"
  }
 },
 "nbformat": 4,
 "nbformat_minor": 5
}
