{
 "cells": [
  {
   "cell_type": "code",
   "execution_count": null,
   "id": "d72e5907-2a5e-4aae-a1f5-5456f85124a7",
   "metadata": {},
   "outputs": [],
   "source": []
  },
  {
   "cell_type": "code",
   "execution_count": 41,
   "id": "c06c1b5d-d0fc-496e-af20-0b764f00ae90",
   "metadata": {},
   "outputs": [
    {
     "data": {
      "text/plain": [
       "'Python is a high-level, general-purpose programming language. Its design philosophy emphasizes code readability with the use of significant indentation.\\nPython is dynamically type-checked and garbage-collected. It supports multiple programming paradigms, including structured (particularly procedural), object-oriented and functional programming.'"
      ]
     },
     "execution_count": 41,
     "metadata": {},
     "output_type": "execute_result"
    }
   ],
   "source": [
    "f=open(\"abi.txt\",\"r\")\n",
    "f.read()\n",
    "       "
   ]
  },
  {
   "cell_type": "code",
   "execution_count": 1,
   "id": "f95ae3df-50b7-40f1-a48e-0c462b58f19c",
   "metadata": {},
   "outputs": [
    {
     "ename": "TypeError",
     "evalue": "TextIOWrapper.write() takes exactly one argument (0 given)",
     "output_type": "error",
     "traceback": [
      "\u001b[1;31m---------------------------------------------------------------------------\u001b[0m",
      "\u001b[1;31mTypeError\u001b[0m                                 Traceback (most recent call last)",
      "Cell \u001b[1;32mIn[1], line 2\u001b[0m\n\u001b[0;32m      1\u001b[0m f\u001b[38;5;241m=\u001b[39m\u001b[38;5;28mopen\u001b[39m(\u001b[38;5;124m\"\u001b[39m\u001b[38;5;124mabi.txt\u001b[39m\u001b[38;5;124m\"\u001b[39m,\u001b[38;5;124m\"\u001b[39m\u001b[38;5;124mw\u001b[39m\u001b[38;5;124m\"\u001b[39m)\n\u001b[1;32m----> 2\u001b[0m f\u001b[38;5;241m.\u001b[39mwrite()\n",
      "\u001b[1;31mTypeError\u001b[0m: TextIOWrapper.write() takes exactly one argument (0 given)"
     ]
    }
   ],
   "source": [
    "f=open(\"abi.txt\",\"w\")\n",
    "f.write()"
   ]
  },
  {
   "cell_type": "code",
   "execution_count": 43,
   "id": "ba3e5c18-60ce-4eac-830e-9e29013402ba",
   "metadata": {},
   "outputs": [
    {
     "name": "stdout",
     "output_type": "stream",
     "text": [
      "Python is a high-level, general-purpose programming language. Its design philosophy emphasizes code readability with the use of significant indentation.\n",
      "\n"
     ]
    }
   ],
   "source": [
    "f=open(\"abi.txt\",\"r\")\n",
    "print(f.readline())\n",
    "f.close()"
   ]
  },
  {
   "cell_type": "code",
   "execution_count": 24,
   "id": "321b2755-0120-4bdf-b0f3-eb7455c7876f",
   "metadata": {},
   "outputs": [
    {
     "name": "stdout",
     "output_type": "stream",
     "text": [
      "word_count {'Although': 1, 'Data': 1, 'Structures': 1, 'and': 1, 'Algorithms': 1, 'is': 1, 'actually': 1, 'not': 1, 'specific': 1, 'to': 1, 'any': 1, 'programming': 3, 'language,': 1, 'you': 1, 'should': 1, 'have': 1, 'a': 1, 'basic': 1, 'understanding': 1, 'of': 2, 'in': 1, 'one': 1, 'these': 1, 'common': 1, 'languages:': 1}\n",
      "repeated:\n",
      "programming 3\n",
      "of 2\n"
     ]
    }
   ],
   "source": [
    "f=open(\"abi.txt\",\"r\")\n",
    "a=f.read()\n",
    "f.close()\n",
    "#print(\"File content:\\n\", a)            #to saw the content in file\n",
    "b=a.split()\n",
    "c={}\n",
    "for i in b:\n",
    "    if i in c:\n",
    "        c[i]+=1\n",
    "    else:\n",
    "        c[i]=1\n",
    "print(\"word_count\",c)\n",
    "print(\"repeated:\")\n",
    "for i in c:\n",
    "    if c[i]>1:\n",
    "        print(i,c[i])\n",
    "            \n",
    "    \n",
    "    "
   ]
  },
  {
   "cell_type": "code",
   "execution_count": 25,
   "id": "e41f2103-1357-4c8e-adde-3fa00da85ac3",
   "metadata": {},
   "outputs": [
    {
     "name": "stdout",
     "output_type": "stream",
     "text": [
      "word_count: {'Although': 1, 'Data': 1, 'Structures': 1, 'and': 1, 'Algorithms': 1, 'is': 1, 'actually': 1, 'not': 1, 'specific': 1, 'to': 1, 'any': 1, 'programming': 3, 'language,': 1, 'you': 1, 'should': 1, 'have': 1, 'a': 1, 'basic': 1, 'understanding': 1, 'of': 2, 'in': 1, 'one': 1, 'these': 1, 'common': 1, 'languages:': 1}\n",
      "repeated:\n",
      "programming = 3\n",
      "of = 2\n"
     ]
    }
   ],
   "source": [
    "f = open(\"abi.txt\", \"r\")\n",
    "a = f.read()\n",
    "f.close()\n",
    "b = a.split()\n",
    "c ={}\n",
    "\n",
    "for i in b:\n",
    "    if i in c:\n",
    "        c[i] += 1\n",
    "    else:\n",
    "        c[i] = 1\n",
    "\n",
    "print(\"word_count:\", c)\n",
    "\n",
    "print(\"repeated:\")\n",
    "for i in c:\n",
    "    if c[i] > 1:\n",
    "        print(i, \"=\", c[i])\n"
   ]
  },
  {
   "cell_type": "code",
   "execution_count": 13,
   "id": "29431223-2a31-4957-9cc4-fdaa9f071352",
   "metadata": {},
   "outputs": [
    {
     "data": {
      "text/plain": [
       "[7, 9, 11]"
      ]
     },
     "execution_count": 13,
     "metadata": {},
     "output_type": "execute_result"
    }
   ],
   "source": [
    "l1=[2,3,4]\n",
    "l2=[5,6,7]\n",
    "b1=len(l1)\n",
    "b2=len(l2)\n",
    "c=[]\n",
    "for i in range(b1):\n",
    "    d=l1[i]+l2[i]\n",
    "    c.append(d)\n",
    "c\n",
    "    \n",
    "        \n",
    "        "
   ]
  },
  {
   "cell_type": "code",
   "execution_count": null,
   "id": "f8abcd58-1b9b-413c-bfb3-fac0bf80af5d",
   "metadata": {},
   "outputs": [],
   "source": []
  }
 ],
 "metadata": {
  "kernelspec": {
   "display_name": "Python [conda env:base] *",
   "language": "python",
   "name": "conda-base-py"
  },
  "language_info": {
   "codemirror_mode": {
    "name": "ipython",
    "version": 3
   },
   "file_extension": ".py",
   "mimetype": "text/x-python",
   "name": "python",
   "nbconvert_exporter": "python",
   "pygments_lexer": "ipython3",
   "version": "3.13.5"
  }
 },
 "nbformat": 4,
 "nbformat_minor": 5
}
