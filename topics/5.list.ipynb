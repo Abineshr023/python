{
 "cells": [
  {
   "cell_type": "code",
   "execution_count": null,
   "id": "77c4a764-fb8a-4097-93fd-77aac4a1cccc",
   "metadata": {},
   "outputs": [],
   "source": [
    "#LIST -mutable,multiple data type,allow duplicates\n",
    "#Lists are created using square brackets\n"
   ]
  },
  {
   "cell_type": "code",
   "execution_count": 6,
   "id": "1182cfad-ccb8-4250-bc2f-11d9e5153ac4",
   "metadata": {},
   "outputs": [
    {
     "name": "stdout",
     "output_type": "stream",
     "text": [
      "welcome\n"
     ]
    }
   ],
   "source": [
    "mylist = [\"hi\", \"hello\", \"welcome\",\"welcome\"]\n",
    "print(mylist[2])"
   ]
  },
  {
   "cell_type": "code",
   "execution_count": 7,
   "id": "d3a6a087-eefa-4068-a2c6-5349df27fd3d",
   "metadata": {},
   "outputs": [
    {
     "name": "stdout",
     "output_type": "stream",
     "text": [
      "hello\n"
     ]
    }
   ],
   "source": [
    "mylist = [\"hi\", \"hello\", \"welcome\",\"welcome\"]\n",
    "print(mylist[-3])"
   ]
  },
  {
   "cell_type": "code",
   "execution_count": 9,
   "id": "4cee36d1-fcba-4c2e-a1eb-b18a66a503ac",
   "metadata": {},
   "outputs": [
    {
     "name": "stdout",
     "output_type": "stream",
     "text": [
      "['welcome', 'welcome']\n"
     ]
    }
   ],
   "source": [
    "mylist = [\"hi\", \"hello\", \"welcome\",\"welcome\",899]\n",
    "print(mylist[2:4])"
   ]
  },
  {
   "cell_type": "code",
   "execution_count": 2,
   "id": "80f950d8-bfe0-46e3-bf31-6b82b2e081c0",
   "metadata": {},
   "outputs": [
    {
     "name": "stdout",
     "output_type": "stream",
     "text": [
      "[2, 4, 6, 9, 10]\n"
     ]
    }
   ],
   "source": [
    "l=[2,4,6,8,9,10]\n",
    "l.remove(8)\n",
    "print(l)           # it removes the value 8 in list and it has duplicate it remove the 1st element occurs the value"
   ]
  },
  {
   "cell_type": "code",
   "execution_count": 10,
   "id": "cfdc204c-2ab0-422f-aa3f-a795f86b8e15",
   "metadata": {},
   "outputs": [
    {
     "name": "stdout",
     "output_type": "stream",
     "text": [
      "[2, 3, 8, 9, 10]\n",
      "8\n"
     ]
    }
   ],
   "source": [
    "l1=[2,4,6,8,9,10]     \n",
    "l1[1:3]=[3]          #to change the 4,6 to 3\n",
    "print(l1)\n",
    "print(l1[2])"
   ]
  },
  {
   "cell_type": "code",
   "execution_count": 36,
   "id": "d24132cc-ba83-4e08-adcb-23303c688711",
   "metadata": {},
   "outputs": [
    {
     "name": "stdout",
     "output_type": "stream",
     "text": [
      "[2, 4, 6, 8, 9, 10, 11, 12, 13, 14]\n"
     ]
    }
   ],
   "source": [
    "l1=[2,4,6,8,9,10,11,12,12,12,14]\n",
    "l1[8:10]=[13]                     #normal list is to take the index position to change anytype to method from starting to ending\n",
    "print(l1)"
   ]
  },
  {
   "cell_type": "code",
   "execution_count": 51,
   "id": "7c0b5dba-b612-47d1-b163-762c497deb3a",
   "metadata": {},
   "outputs": [
    {
     "name": "stdout",
     "output_type": "stream",
     "text": [
      "[[3], 2, 3, 4, 6, 8, 9, 10, 11, 12, 13, 14]\n",
      "[1, 2, 3, 4, 6, 8, 9, 10, 11, 12, 13, 14]\n"
     ]
    }
   ],
   "source": [
    "l1[0]=[3]\n",
    "print(l1)\n",
    "l1[0:2]=[1,2]\n",
    "print(l1)"
   ]
  },
  {
   "cell_type": "code",
   "execution_count": 47,
   "id": "8f48087b-4735-49da-b711-113b6ae57f15",
   "metadata": {},
   "outputs": [
    {
     "name": "stdout",
     "output_type": "stream",
     "text": [
      "[1, 2, 3, 4, 5, 6, 7, 8, 7]\n"
     ]
    }
   ],
   "source": [
    "l2=[1,2,3,4,7,8,7]\n",
    "l2[4:2]=[5,6]\n",
    "print(l2)"
   ]
  },
  {
   "cell_type": "code",
   "execution_count": 75,
   "id": "588fac06-033f-4b57-a51f-1248a1d934da",
   "metadata": {},
   "outputs": [
    {
     "name": "stdout",
     "output_type": "stream",
     "text": [
      "[1, 2, 3, 4, 5, 6, 7, 8, 9, 10, 11, 12, 13, 14, 15, 16, 17, 18, 19, 20, 21, 22, 23, 24, 25, 26, 27, 28, 29, 30, 31, 32, 33, 34, 35]\n"
     ]
    }
   ],
   "source": [
    "l3=[4,5,9,10,11,12,13,14,17,18,20,23,24,25,26,30]\n",
    "l3[0:0]=[1,2,3]\n",
    "l3[5:5]=[6,7,8]\n",
    "l3[14:14]=[15,16]             \n",
    "l3.insert(18,19)\n",
    "l3[20:20]=[21,22] \n",
    "l3[26:26]=[27,28,29]\n",
    "l3.append(30)\n",
    "l3.extend([31,32])\n",
    "l3.pop()\n",
    "l3.remove(30)\n",
    "l3.extend([31,31,31,32])\n",
    "l3[31:34]=[32,33,34]\n",
    "l3[34]=35\n",
    "print(l3)"
   ]
  },
  {
   "cell_type": "code",
   "execution_count": 82,
   "id": "8f5d89ee-abe1-485e-a722-2ee20f5fe4fb",
   "metadata": {},
   "outputs": [
    {
     "name": "stdout",
     "output_type": "stream",
     "text": [
      "[]\n"
     ]
    }
   ],
   "source": [
    "l4=[1,2,3,4,5,6]\n",
    "l4.clear()\n",
    "print(l4)     # clear the data's in list but contains variable"
   ]
  },
  {
   "cell_type": "code",
   "execution_count": 79,
   "id": "cbf060e0-2a27-49ac-96c4-e95d8fb9c5eb",
   "metadata": {},
   "outputs": [
    {
     "ename": "NameError",
     "evalue": "name 'l4' is not defined",
     "output_type": "error",
     "traceback": [
      "\u001b[1;31m---------------------------------------------------------------------------\u001b[0m",
      "\u001b[1;31mNameError\u001b[0m                                 Traceback (most recent call last)",
      "Cell \u001b[1;32mIn[79], line 2\u001b[0m\n\u001b[0;32m      1\u001b[0m \u001b[38;5;28;01mdel\u001b[39;00m l4\n\u001b[1;32m----> 2\u001b[0m l4\n",
      "\u001b[1;31mNameError\u001b[0m: name 'l4' is not defined"
     ]
    }
   ],
   "source": [
    "del l4\n",
    "l4           #delete total list with variable"
   ]
  },
  {
   "cell_type": "code",
   "execution_count": null,
   "id": "5c8b6ef3-ad42-4382-9209-b477fb62b43d",
   "metadata": {},
   "outputs": [],
   "source": []
  }
 ],
 "metadata": {
  "kernelspec": {
   "display_name": "Python [conda env:base] *",
   "language": "python",
   "name": "conda-base-py"
  },
  "language_info": {
   "codemirror_mode": {
    "name": "ipython",
    "version": 3
   },
   "file_extension": ".py",
   "mimetype": "text/x-python",
   "name": "python",
   "nbconvert_exporter": "python",
   "pygments_lexer": "ipython3",
   "version": "3.13.5"
  }
 },
 "nbformat": 4,
 "nbformat_minor": 5
}
