{
 "cells": [
  {
   "cell_type": "code",
   "execution_count": 1,
   "id": "352c867c-7ad3-4028-bd80-da9276b8756b",
   "metadata": {},
   "outputs": [
    {
     "name": "stdout",
     "output_type": "stream",
     "text": [
      "hello world\n"
     ]
    }
   ],
   "source": [
    "print(\"hello world\")"
   ]
  },
  {
   "cell_type": "code",
   "execution_count": 4,
   "id": "fe89c433-6a01-4e46-86f1-89ba576faeaf",
   "metadata": {},
   "outputs": [
    {
     "name": "stdout",
     "output_type": "stream",
     "text": [
      "5\n"
     ]
    }
   ],
   "source": [
    "k=5\n",
    "__a=print(k)"
   ]
  },
  {
   "cell_type": "code",
   "execution_count": null,
   "id": "d28fe6a3-45f1-40d8-9cf5-907c4d096a77",
   "metadata": {},
   "outputs": [],
   "source": [
    "# single line command\n",
    "''' multiline command'''"
   ]
  },
  {
   "cell_type": "code",
   "execution_count": null,
   "id": "3dcefef9-25d1-4bd1-b620-cce919b14ad8",
   "metadata": {},
   "outputs": [],
   "source": [
    "#values\n",
    "'''static value- assigned value till to end\n",
    "dynamic -input()'''\n",
    "#assign multiple value\n",
    "'''k=l=m=\"orange\"\n",
    "it specifies all values are equal to orange.\n",
    "\n",
    "k,l,m=\"orange\",\"apple\",\"banana\"\n",
    "In this above declaration is specifies each variable has each value like that order \n",
    "ex.k=orange\n",
    "l=apple\n",
    "etc..\n",
    "\n"
   ]
  },
  {
   "cell_type": "code",
   "execution_count": 3,
   "id": "6032d81a-f95a-43f1-92eb-dcae5bb6dc06",
   "metadata": {},
   "outputs": [
    {
     "name": "stdout",
     "output_type": "stream",
     "text": [
      "primitive\n",
      "<class 'str'>\n",
      "1\n",
      "<class 'int'>\n",
      "5.2\n",
      "<class 'float'>\n",
      "(1+2j)\n",
      "<class 'complex'>\n"
     ]
    }
   ],
   "source": [
    "#data types\n",
    "'''primitive-specified data(str,int,float,etc..)\n",
    "non primitive-set of data(list,tuple,dictionary,etc..)'''\n",
    "#primitive\n",
    "#string:\n",
    "a=\"primitive\"\n",
    "print(a)\n",
    "print(type(a))\n",
    "#Numeric:\n",
    "a=1\n",
    "print(a)\n",
    "print(type(a)) # type is define what kind of class is this \n",
    "#float:\n",
    "a=5.2\n",
    "print(a)\n",
    "print(type(a))\n",
    "#complex\n",
    "a=1+2j #1=real value,j=2j=imaginary value\n",
    "print(a)\n",
    "print(type(a))\n",
    "\n",
    "'''they have two type static value and dynamic value\n",
    "static value is fixed range of data like a=10,\n",
    "dynamic is unfixed range of data like a=input()'''\n"
   ]
  },
  {
   "cell_type": "code",
   "execution_count": 1,
   "id": "6b77b537-fc8a-4b94-a06c-7b6f7453a776",
   "metadata": {},
   "outputs": [
    {
     "name": "stdout",
     "output_type": "stream",
     "text": [
      "8\n",
      "8.9\n",
      "(8.9+0j)\n"
     ]
    }
   ],
   "source": [
    "#casting:   -to convert one data type to another data type\n",
    "k1=8.9         \n",
    "k=int(k1) #float to integer\n",
    "k2=str(k1) #float to string\n",
    "k3=complex(k1) #float to complex\n",
    "print(k)\n",
    "print(k2)\n",
    "print(k3)"
   ]
  },
  {
   "cell_type": "code",
   "execution_count": 2,
   "id": "8db2751e-d1f5-491f-8fd7-0602c06a428c",
   "metadata": {},
   "outputs": [
    {
     "name": "stdout",
     "output_type": "stream",
     "text": [
      "7\n",
      "7.0\n",
      "(7+0j)\n"
     ]
    }
   ],
   "source": [
    "n=\"7\"\n",
    "n1=int(n) #string to integer\n",
    "n2=float(n) #string to float\n",
    "n3=complex(n) #string to complex\n",
    "print(n1)\n",
    "print(n2)\n",
    "print(n3)"
   ]
  },
  {
   "cell_type": "code",
   "execution_count": 9,
   "id": "7e4db113-d7c3-4524-a0a9-586ce7d60c5d",
   "metadata": {},
   "outputs": [
    {
     "name": "stdout",
     "output_type": "stream",
     "text": [
      "(1+3j)\n"
     ]
    }
   ],
   "source": [
    "m=1+3j     #complex data type only convert into string type\n",
    "m1=int(m)\n",
    "m2=float(m)\n",
    "m3=str(m)\n",
    "print(m1)\n",
    "print(m2)\n",
    "print(m3)"
   ]
  },
  {
   "cell_type": "code",
   "execution_count": 6,
   "id": "21c0450a-49f1-4a9f-860c-4074a246718f",
   "metadata": {},
   "outputs": [
    {
     "ename": "ValueError",
     "evalue": "invalid literal for int() with base 10: 'hi'",
     "output_type": "error",
     "traceback": [
      "\u001b[1;31m---------------------------------------------------------------------------\u001b[0m",
      "\u001b[1;31mValueError\u001b[0m                                Traceback (most recent call last)",
      "Cell \u001b[1;32mIn[6], line 2\u001b[0m\n\u001b[0;32m      1\u001b[0m p\u001b[38;5;241m=\u001b[39m\u001b[38;5;124m\"\u001b[39m\u001b[38;5;124mhi\u001b[39m\u001b[38;5;124m\"\u001b[39m\n\u001b[1;32m----> 2\u001b[0m p1\u001b[38;5;241m=\u001b[39m\u001b[38;5;28mint\u001b[39m(p)\n\u001b[0;32m      3\u001b[0m \u001b[38;5;28mprint\u001b[39m(p1)\n",
      "\u001b[1;31mValueError\u001b[0m: invalid literal for int() with base 10: 'hi'"
     ]
    }
   ],
   "source": [
    "p=\"hi\"          #the string data type wont able to convert to any other data type\n",
    "p1=int(p)\n",
    "p2=float(p)     '''the string of text data is unable to casting to others'''\n",
    "p3=complex(p)\n",
    "print(p1)\n"
   ]
  },
  {
   "cell_type": "code",
   "execution_count": 10,
   "id": "7b930745-cad6-4d87-8fdf-d40bccdd6809",
   "metadata": {},
   "outputs": [
    {
     "name": "stdout",
     "output_type": "stream",
     "text": [
      "1.0\n",
      "289.0\n"
     ]
    }
   ],
   "source": [
    "#to print a complex data \n",
    "k=1+289j\n",
    "print(k.real) #printing the real value\n",
    "print(k.imag) #printing the imaginary value"
   ]
  },
  {
   "cell_type": "code",
   "execution_count": null,
   "id": "52ab4aaf-8984-4e33-9694-ff5941215b9a",
   "metadata": {},
   "outputs": [],
   "source": []
  }
 ],
 "metadata": {
  "kernelspec": {
   "display_name": "Python [conda env:base] *",
   "language": "python",
   "name": "conda-base-py"
  },
  "language_info": {
   "codemirror_mode": {
    "name": "ipython",
    "version": 3
   },
   "file_extension": ".py",
   "mimetype": "text/x-python",
   "name": "python",
   "nbconvert_exporter": "python",
   "pygments_lexer": "ipython3",
   "version": "3.13.5"
  }
 },
 "nbformat": 4,
 "nbformat_minor": 5
}
