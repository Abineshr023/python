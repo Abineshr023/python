{
 "cells": [
  {
   "cell_type": "code",
   "execution_count": 7,
   "id": "9a0309ef-a961-4e90-b7f2-625315095352",
   "metadata": {},
   "outputs": [
    {
     "name": "stdout",
     "output_type": "stream",
     "text": [
      "5\n"
     ]
    },
    {
     "data": {
      "text/plain": [
       "{1, 2, 3, 4, 5}"
      ]
     },
     "execution_count": 7,
     "metadata": {},
     "output_type": "execute_result"
    }
   ],
   "source": [
    "#SET-{}\n",
    "#unordered,mutable\n",
    "#dont allow dupicates\n",
    "a={1,2,3,4,5,2,3,1}\n",
    "print(len(a))\n",
    "a"
   ]
  },
  {
   "cell_type": "code",
   "execution_count": 17,
   "id": "9f07fc66-d88d-4fd5-bc66-fe63055a9439",
   "metadata": {},
   "outputs": [
    {
     "name": "stdout",
     "output_type": "stream",
     "text": [
      "[1, 2, 3, 4, 5, 5]\n"
     ]
    },
    {
     "data": {
      "text/plain": [
       "{1, 2, 3, 4, 5}"
      ]
     },
     "execution_count": 17,
     "metadata": {},
     "output_type": "execute_result"
    }
   ],
   "source": [
    "list1=[1,2,3,4,5,5]\n",
    "print(list1)\n",
    "b=set(list1)       #convert to set\n",
    "type(b)\n",
    "b"
   ]
  },
  {
   "cell_type": "code",
   "execution_count": 19,
   "id": "79ca83f3-c79d-4d89-a2d3-7269a7d2f1e1",
   "metadata": {},
   "outputs": [
    {
     "name": "stdout",
     "output_type": "stream",
     "text": [
      "<class 'set'>\n"
     ]
    },
    {
     "data": {
      "text/plain": [
       "{1, 2.3, 'abi', 'apple', 'banana', 'cherry'}"
      ]
     },
     "execution_count": 19,
     "metadata": {},
     "output_type": "execute_result"
    }
   ],
   "source": [
    "#ADD\n",
    "c = {\"apple\", \"banana\", \"cherry\"}\n",
    "c.add(1)\n",
    "\n",
    "c.add(\"abi\")\n",
    "c.add(2.3)\n",
    "print(type(c))\n",
    "c"
   ]
  },
  {
   "cell_type": "code",
   "execution_count": 22,
   "id": "a7856c7b-265e-4dcb-ba3f-e164a2f0b0d4",
   "metadata": {},
   "outputs": [
    {
     "name": "stdout",
     "output_type": "stream",
     "text": [
      "{1, 2, 3, 'yellow', 'dred', 'red', 'cherry', 'banana', 'apple'}\n"
     ]
    }
   ],
   "source": [
    "#UPDATE -to add two set(like append) but its unorder\n",
    "c={\"apple\", \"banana\", \"cherry\"}\n",
    "c1={\"red\",\"yellow\",\"dred\"}\n",
    "c2={1,2,3}\n",
    "c.update(c1,c2)\n",
    "\n",
    "print(c)"
   ]
  },
  {
   "cell_type": "code",
   "execution_count": null,
   "id": "367af0fe-5009-4d77-ac16-155f39e393d9",
   "metadata": {},
   "outputs": [],
   "source": []
  },
  {
   "cell_type": "code",
   "execution_count": 31,
   "id": "a30b12d1-9b0c-45ff-a626-72ae352e9636",
   "metadata": {},
   "outputs": [
    {
     "data": {
      "text/plain": [
       "{'python', 'sql'}"
      ]
     },
     "execution_count": 31,
     "metadata": {},
     "output_type": "execute_result"
    }
   ],
   "source": [
    "#REMOVE -to remove the specific value\n",
    "d1={\"python\",\"java\",\"sql\"}\n",
    "d1.remove(\"java\")\n",
    "#d.remove(\"django\")\n",
    "d1"
   ]
  },
  {
   "cell_type": "code",
   "execution_count": 43,
   "id": "f2c68ecb-bd26-45be-b5cb-3246aceb489f",
   "metadata": {},
   "outputs": [
    {
     "data": {
      "text/plain": [
       "{'python', 'sql'}"
      ]
     },
     "execution_count": 43,
     "metadata": {},
     "output_type": "execute_result"
    }
   ],
   "source": [
    "#discard -its also same as remove but in discard its print the set anywhere 'like the discard element not in set'\n",
    "d2={\"python\",\"java\",\"sql\"}\n",
    "d2.discard(\"django\")\n",
    "d2.discard(\"java\")\n",
    "d2"
   ]
  },
  {
   "cell_type": "code",
   "execution_count": 51,
   "id": "21017f60-6e6e-4120-b110-6cceeabe32b4",
   "metadata": {},
   "outputs": [
    {
     "name": "stdout",
     "output_type": "stream",
     "text": [
      "banana\n"
     ]
    },
    {
     "data": {
      "text/plain": [
       "{'apple'}"
      ]
     },
     "execution_count": 51,
     "metadata": {},
     "output_type": "execute_result"
    }
   ],
   "source": [
    "#pop-in set it removes the last element but its unorder.(random element pop)\n",
    "d3=d.pop()\n",
    "\n",
    "print(d3)\n",
    "d"
   ]
  },
  {
   "cell_type": "code",
   "execution_count": 55,
   "id": "e846ec66-a2f9-46a8-8bfe-3bd6556b5bba",
   "metadata": {},
   "outputs": [
    {
     "data": {
      "text/plain": [
       "set()"
      ]
     },
     "execution_count": 55,
     "metadata": {},
     "output_type": "execute_result"
    }
   ],
   "source": [
    "#CLEAR -to clear the values in set\n",
    "c.clear()\n",
    "c"
   ]
  },
  {
   "cell_type": "code",
   "execution_count": 57,
   "id": "14b16fc0-6f77-406e-9834-4799a3d20a45",
   "metadata": {},
   "outputs": [
    {
     "ename": "NameError",
     "evalue": "name 'c' is not defined",
     "output_type": "error",
     "traceback": [
      "\u001b[1;31m---------------------------------------------------------------------------\u001b[0m",
      "\u001b[1;31mNameError\u001b[0m                                 Traceback (most recent call last)",
      "Cell \u001b[1;32mIn[57], line 3\u001b[0m\n\u001b[0;32m      1\u001b[0m \u001b[38;5;66;03m#DEL-to delete entire set include variable\u001b[39;00m\n\u001b[0;32m      2\u001b[0m \u001b[38;5;28;01mdel\u001b[39;00m c\n\u001b[1;32m----> 3\u001b[0m c\n",
      "\u001b[1;31mNameError\u001b[0m: name 'c' is not defined"
     ]
    }
   ],
   "source": [
    "#DEL-to delete entire set include variable\n",
    "del c\n",
    "c"
   ]
  },
  {
   "cell_type": "code",
   "execution_count": null,
   "id": "8fe793c8-f240-455f-9e69-84a924ade5c7",
   "metadata": {},
   "outputs": [],
   "source": []
  },
  {
   "cell_type": "code",
   "execution_count": null,
   "id": "8f430294-d7dc-49b7-8b43-d766dcec71d3",
   "metadata": {},
   "outputs": [],
   "source": []
  }
 ],
 "metadata": {
  "kernelspec": {
   "display_name": "Python [conda env:base] *",
   "language": "python",
   "name": "conda-base-py"
  },
  "language_info": {
   "codemirror_mode": {
    "name": "ipython",
    "version": 3
   },
   "file_extension": ".py",
   "mimetype": "text/x-python",
   "name": "python",
   "nbconvert_exporter": "python",
   "pygments_lexer": "ipython3",
   "version": "3.13.5"
  }
 },
 "nbformat": 4,
 "nbformat_minor": 5
}
