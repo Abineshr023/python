{
 "cells": [
  {
   "cell_type": "code",
   "execution_count": 1,
   "id": "60e4994c-8dd5-4fc8-be4d-c045efda4d7a",
   "metadata": {},
   "outputs": [
    {
     "name": "stdin",
     "output_type": "stream",
     "text": [
      "emter a number 10\n",
      "emter a number 5\n"
     ]
    },
    {
     "name": "stdout",
     "output_type": "stream",
     "text": [
      "15\n",
      "5\n",
      "50\n",
      "0\n",
      "2.0\n",
      "2\n"
     ]
    }
   ],
   "source": [
    "#ARITHMETIC OPERATOR\n",
    "a=int(input(\"emter a number\"))\n",
    "b=int(input(\"emter a number\"))\n",
    "#ADDITION\n",
    "print(a+b)\n",
    "#SUBTRACTION\n",
    "print(a-b)\n",
    "#MULTIPLICATION\n",
    "print(a*b)\n",
    "#MOD\n",
    "print(a%b)\n",
    "#DIVISION\n",
    "print(a/b)\n",
    "#QUOTIENT\n",
    "print(a//b)"
   ]
  },
  {
   "cell_type": "code",
   "execution_count": 2,
   "id": "a05b1963-c281-4ede-8d1e-59ad4f92afa2",
   "metadata": {},
   "outputs": [
    {
     "name": "stdout",
     "output_type": "stream",
     "text": [
      "3\n"
     ]
    }
   ],
   "source": [
    "#ASSIGNMENT OPERATORS-to assign the values\n",
    "a=0\n",
    "a+=3\n",
    "print(a)"
   ]
  },
  {
   "cell_type": "code",
   "execution_count": 4,
   "id": "c3eb2a4b-782f-4eed-88ee-6ef8b4254e47",
   "metadata": {},
   "outputs": [
    {
     "name": "stdout",
     "output_type": "stream",
     "text": [
      "False\n",
      "False\n",
      "True\n",
      "True\n"
     ]
    }
   ],
   "source": [
    "#COMPARISION-to check the two variable\n",
    "a=10\n",
    "b=12\n",
    "print(a==b)  #check is equal\n",
    "print(a>b)   #check greater\n",
    "print(a<b)   #check lesser\n",
    "print(a!=b)  #check not equal\n"
   ]
  },
  {
   "cell_type": "code",
   "execution_count": 4,
   "id": "7f5882b3-0ec7-44be-93c5-1e991ac8f8ff",
   "metadata": {},
   "outputs": [
    {
     "name": "stdout",
     "output_type": "stream",
     "text": [
      "True\n",
      "True\n",
      "False\n",
      "False\n"
     ]
    }
   ],
   "source": [
    "#LOGICAL-to check the multiple condition\n",
    "'''AND(to satisfies both condition),OR(to satisfies either one),NOT(to perform in both)'''\n",
    "a=10\n",
    "b=7\n",
    "#AND-\n",
    "print(a>5 and b<50)\n",
    "#OR-\n",
    "print(a>5 or b<50)\n",
    "#NOT\n",
    "print(not(a>5 and b<50))\n",
    "print(not(a>5 or b>50))\n",
    "\n"
   ]
  },
  {
   "cell_type": "code",
   "execution_count": 11,
   "id": "c632c891-f2fc-49c5-98f1-a3311c7f6957",
   "metadata": {},
   "outputs": [
    {
     "name": "stdout",
     "output_type": "stream",
     "text": [
      "False\n",
      "['abinesh']\n"
     ]
    }
   ],
   "source": [
    "#IDENTIFY OPERATOR -it checking the bits\n",
    "x=[\"abinesh\"]\n",
    "y=[\"abinesh\"]            #the string has different bits\n",
    "z=x\n",
    "print(x is y)\n",
    "print(z)"
   ]
  },
  {
   "cell_type": "code",
   "execution_count": 9,
   "id": "29c0172d-cd80-41d1-af65-9d49fb68d583",
   "metadata": {},
   "outputs": [
    {
     "name": "stdout",
     "output_type": "stream",
     "text": [
      "True\n",
      "False\n"
     ]
    }
   ],
   "source": [
    "#upto 256 has assign the same bit\n",
    "a=256\n",
    "b=256\n",
    "print(a is b)\n",
    "c=257\n",
    "d=257\n",
    "print(c is d)"
   ]
  },
  {
   "cell_type": "code",
   "execution_count": 12,
   "id": "1757e835-b8ea-4e31-ab50-201fbb0d74a1",
   "metadata": {},
   "outputs": [
    {
     "name": "stdout",
     "output_type": "stream",
     "text": [
      "True\n"
     ]
    }
   ],
   "source": [
    "#MEMBERSHIP -to check the character\n",
    "a=\"abinesh\"\n",
    "print(\"a\" in a)"
   ]
  },
  {
   "cell_type": "code",
   "execution_count": 5,
   "id": "c8a84080-035c-42d2-a44f-3ad8ef1c5694",
   "metadata": {},
   "outputs": [
    {
     "name": "stdout",
     "output_type": "stream",
     "text": [
      "0b10101\n"
     ]
    }
   ],
   "source": [
    "#DECIMAL TO BINARY\n",
    "a=21\n",
    "print(bin(a)) "
   ]
  },
  {
   "cell_type": "code",
   "execution_count": 20,
   "id": "cbf6e1b1-1be4-4710-86d0-7e246f3fe2df",
   "metadata": {},
   "outputs": [
    {
     "name": "stdout",
     "output_type": "stream",
     "text": [
      "2\n",
      "7\n",
      "5\n",
      "-3\n",
      "32\n",
      "4\n"
     ]
    }
   ],
   "source": [
    "#BITWISE \n",
    "a=6             # dec to bin=dec\n",
    "b=3\n",
    "print(a&b)    #to perform like (and) if both are same it gives 1\n",
    "print(a|b)    #to perform like (or) if any one is possible it gives 1\n",
    "c=bin(a)\n",
    "d=bin(b)\n",
    "print(a^b)    #XOR\n",
    "#NOT    -(n+1)\n",
    "print(~2)\n",
    "#<< left shift\n",
    "print(8<<2)        '''find binary of digit and shifted required position then count the values''' \n",
    "#>> right shift \n",
    "print(8>>1)"
   ]
  },
  {
   "cell_type": "code",
   "execution_count": null,
   "id": "f88b373a-95ae-4dc3-8b1b-f558893810a0",
   "metadata": {},
   "outputs": [],
   "source": []
  }
 ],
 "metadata": {
  "kernelspec": {
   "display_name": "Python [conda env:base] *",
   "language": "python",
   "name": "conda-base-py"
  },
  "language_info": {
   "codemirror_mode": {
    "name": "ipython",
    "version": 3
   },
   "file_extension": ".py",
   "mimetype": "text/x-python",
   "name": "python",
   "nbconvert_exporter": "python",
   "pygments_lexer": "ipython3",
   "version": "3.13.5"
  }
 },
 "nbformat": 4,
 "nbformat_minor": 5
}
