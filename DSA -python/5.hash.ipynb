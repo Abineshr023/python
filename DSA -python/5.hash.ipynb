{
 "cells": [
  {
   "cell_type": "code",
   "execution_count": null,
   "id": "bf04b6c2-bf5f-4bcd-a144-16976a5bb822",
   "metadata": {},
   "outputs": [],
   "source": [
    "#Create an empty list (it can also be a dictionary or a set).\n",
    "#Create a hash function.\n",
    "#Inserting an element using a hash function.\n",
    "#Looking up an element using a hash function.\n",
    "#Handling collisions"
   ]
  },
  {
   "cell_type": "code",
   "execution_count": 3,
   "id": "4ee32852-10a8-4f92-a973-b8cdc6e01bdc",
   "metadata": {},
   "outputs": [],
   "source": [
    "list=[None,None,None,None,None,None,None,None,None,None]"
   ]
  },
  {
   "cell_type": "code",
   "execution_count": 28,
   "id": "e69f4278-73e4-49a6-87e5-ddb3fc6c8318",
   "metadata": {},
   "outputs": [
    {
     "name": "stdout",
     "output_type": "stream",
     "text": [
      "8\n"
     ]
    }
   ],
   "source": [
    "def hash(value):\n",
    "    sum_char=0\n",
    "    for i in value:\n",
    "        sum_char+=ord(i)\n",
    "    return sum_char%10\n",
    "print(hash('Abi'))"
   ]
  },
  {
   "cell_type": "code",
   "execution_count": 16,
   "id": "aea6c015-e14a-409c-bea6-94ebe98f5f69",
   "metadata": {},
   "outputs": [
    {
     "name": "stdout",
     "output_type": "stream",
     "text": [
      "['abi', None, None, None, 'kalai', None, None, 'kavi', 'Abi', None]\n"
     ]
    }
   ],
   "source": [
    "#insert element\n",
    "def add(name):\n",
    "    index=hash(name)\n",
    "    list[index]=name\n",
    "add('Abi')\n",
    "add(\"abi\")\n",
    "add(\"kalai\")\n",
    "add(\"kavi\")\n",
    "print(list)"
   ]
  },
  {
   "cell_type": "code",
   "execution_count": 22,
   "id": "c430f0eb-0fd1-4b6a-bc43-202083caa49a",
   "metadata": {},
   "outputs": [
    {
     "name": "stdout",
     "output_type": "stream",
     "text": [
      "True\n"
     ]
    }
   ],
   "source": [
    "def find(name):\n",
    "    index=hash(name)\n",
    "    return list[index]==name\n",
    "print(find(\"kalai\"))"
   ]
  },
  {
   "cell_type": "code",
   "execution_count": 32,
   "id": "7c96e9c6-93bc-4169-9ffb-647347b3efd5",
   "metadata": {},
   "outputs": [
    {
     "name": "stdout",
     "output_type": "stream",
     "text": [
      "[['abi'], [], ['Kalai'], [], [], [], [], ['kavi'], ['Abi'], []]\n"
     ]
    }
   ],
   "source": [
    "list=[\n",
    "    [],\n",
    "    [],\n",
    "    [],\n",
    "    [],\n",
    "    [],\n",
    "    [],\n",
    "    [],\n",
    "    [],\n",
    "    [],\n",
    "    []\n",
    "]\n",
    "def add(name):\n",
    "    index=hash(name)\n",
    "    list[index].append(name)\n",
    "\n",
    "add('Abi')\n",
    "add('Kalai')\n",
    "add('abi')\n",
    "add('kavi')\n",
    "print(list)"
   ]
  },
  {
   "cell_type": "code",
   "execution_count": null,
   "id": "b4d3d50a-9d40-452b-9dc9-54589f731dfc",
   "metadata": {},
   "outputs": [],
   "source": []
  }
 ],
 "metadata": {
  "kernelspec": {
   "display_name": "Python [conda env:base] *",
   "language": "python",
   "name": "conda-base-py"
  },
  "language_info": {
   "codemirror_mode": {
    "name": "ipython",
    "version": 3
   },
   "file_extension": ".py",
   "mimetype": "text/x-python",
   "name": "python",
   "nbconvert_exporter": "python",
   "pygments_lexer": "ipython3",
   "version": "3.13.5"
  }
 },
 "nbformat": 4,
 "nbformat_minor": 5
}
