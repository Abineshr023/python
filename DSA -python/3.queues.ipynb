{
 "cells": [
  {
   "cell_type": "markdown",
   "id": "3b2d09e7-a595-42aa-bc36-45a7b17cc7b6",
   "metadata": {},
   "source": [
    "##**QUEUE:FIFO(first in first out)**##\n",
    "**Enqueue**: Adds a new element to the queue.\n",
    "**Dequeue**: Removes and returns the first (front) element from the queue.\n",
    "**Peek**: Returns the first element in the queue.\n",
    "**isEmpty**: Checks if the queue is empty.\n",
    "**Size**: Finds the number of elements in the queue.##"
   ]
  },
  {
   "cell_type": "code",
   "execution_count": 10,
   "id": "ee5d3dd3-5313-491d-879c-2e6e0e315f33",
   "metadata": {},
   "outputs": [
    {
     "name": "stdout",
     "output_type": "stream",
     "text": [
      "a\n",
      "True\n",
      "3\n",
      "['a', 'c', 'd']\n"
     ]
    }
   ],
   "source": [
    "q=[]\n",
    "#enqueue\n",
    "q.append(\"a\")\n",
    "q.append(\"b\")\n",
    "q.append(\"c\")\n",
    "q.append(\"d\")\n",
    "#dequeue\n",
    "q.pop(1)\n",
    "\n",
    "#peek\n",
    "print(q[0])\n",
    "#isempty\n",
    "print(bool(q))\n",
    "#size\n",
    "print(len(q))\n",
    "print(q)"
   ]
  },
  {
   "cell_type": "code",
   "execution_count": 21,
   "id": "b96e4836-b260-43b7-b06b-dad5d5468d5a",
   "metadata": {},
   "outputs": [
    {
     "name": "stdout",
     "output_type": "stream",
     "text": [
      "b\n",
      "False\n",
      "3\n",
      "['b', 'c', 'd']\n"
     ]
    }
   ],
   "source": [
    "#using class\n",
    "class queue:\n",
    "    def __init__(self):\n",
    "        self.a=[]\n",
    "    def enqueue(self,var):\n",
    "        self.a.append(var)\n",
    "    def dequeue(self):\n",
    "        return self.a.pop(0)\n",
    "    def peek(self):\n",
    "        return self.a[0]\n",
    "    def isempty(self):\n",
    "        return len(self.a)==0\n",
    "    def size(self):\n",
    "        return len(self.a)\n",
    "q=queue()\n",
    "q.enqueue(\"a\")\n",
    "q.enqueue(\"b\")\n",
    "q.enqueue(\"c\")\n",
    "q.enqueue(\"d\")\n",
    "q.dequeue()\n",
    "print(q.peek())\n",
    "print(q.isempty())\n",
    "print(q.size())\n",
    "print(q.a)"
   ]
  },
  {
   "cell_type": "code",
   "execution_count": null,
   "id": "afce8be4-4c66-4f0c-81ec-1df4cc8c58d5",
   "metadata": {},
   "outputs": [],
   "source": []
  }
 ],
 "metadata": {
  "kernelspec": {
   "display_name": "Python [conda env:base] *",
   "language": "python",
   "name": "conda-base-py"
  },
  "language_info": {
   "codemirror_mode": {
    "name": "ipython",
    "version": 3
   },
   "file_extension": ".py",
   "mimetype": "text/x-python",
   "name": "python",
   "nbconvert_exporter": "python",
   "pygments_lexer": "ipython3",
   "version": "3.13.5"
  }
 },
 "nbformat": 4,
 "nbformat_minor": 5
}
