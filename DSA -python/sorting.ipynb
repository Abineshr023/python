{
 "cells": [
  {
   "cell_type": "code",
   "execution_count": 8,
   "id": "0b1fcb9f-1684-462a-ace1-4c642eac8be5",
   "metadata": {},
   "outputs": [
    {
     "name": "stdout",
     "output_type": "stream",
     "text": [
      "Bubble sort:\n"
     ]
    },
    {
     "data": {
      "text/plain": [
       "[5, 11, 12, 22, 25, 34, 64, 90]"
      ]
     },
     "execution_count": 8,
     "metadata": {},
     "output_type": "execute_result"
    }
   ],
   "source": [
    "#BUBBLE SORT-it sort and perform one element at a time\n",
    "a= [64, 34, 25, 12, 22, 11, 90, 5]\n",
    "for i in range(len(a)-1):\n",
    "    for j in range(len(a)-1-i):\n",
    "        if a[j]>a[j+1]:\n",
    "            a[j],a[j+1]=a[j+1],a[j]\n",
    "print(\"Bubble sort:\")\n",
    "a\n"
   ]
  },
  {
   "cell_type": "code",
   "execution_count": 18,
   "id": "4a79cac7-e5b4-439f-8c21-acd8f74321e9",
   "metadata": {},
   "outputs": [
    {
     "name": "stdout",
     "output_type": "stream",
     "text": [
      "selection sort:\n"
     ]
    },
    {
     "data": {
      "text/plain": [
       "[5, 11, 12, 22, 25, 34, 64, 90]"
      ]
     },
     "execution_count": 18,
     "metadata": {},
     "output_type": "execute_result"
    }
   ],
   "source": [
    "#Selection Sort:\n",
    "#The Selection Sort algorithm finds the lowest value in an array and moves it to the front of the array.\n",
    "a= [64, 34, 25, 12, 22, 11, 90, 5]\n",
    "n=len(a)\n",
    "for i in range(n-1):\n",
    "    #print(i)\n",
    "\n",
    "    mini=i\n",
    "    for j in range(i+1,n):\n",
    "        #print(j)\n",
    "\n",
    "        if a[j]<a[mini]:\n",
    "            mini=j\n",
    "    a[i],a[mini]=a[mini],a[i]\n",
    "print(\"selection sort:\")\n",
    "a"
   ]
  },
  {
   "cell_type": "code",
   "execution_count": 2,
   "id": "ac50ca41-7e35-4c1b-84f7-50cc9ca31a01",
   "metadata": {},
   "outputs": [
    {
     "name": "stdout",
     "output_type": "stream",
     "text": [
      "Insertion Sort:\n"
     ]
    },
    {
     "data": {
      "text/plain": [
       "[5, 11, 12, 22, 25, 34, 64, 90]"
      ]
     },
     "execution_count": 2,
     "metadata": {},
     "output_type": "execute_result"
    }
   ],
   "source": [
    "#INSERTION SORT:\n",
    "#Take the first value from the unsorted part of the array.\n",
    "#Move the value into the correct place in the sorted part of the array.\n",
    "#Go through the unsorted part of the array again as many times as there are values\n",
    "a= [64, 34, 25, 12, 22, 11, 90, 5]\n",
    "b=len(a)\n",
    "for i in range(1,b):\n",
    "    ind=i\n",
    "    cv=a[i]\n",
    "    for j in range(i-1,-1,-1):\n",
    "        if a[j]>cv:\n",
    "            a[j+1]=a[j]\n",
    "            ind=j\n",
    "        else:\n",
    "            break\n",
    "        a[ind]=cv\n",
    "print(\"Insertion Sort:\")        \n",
    "a"
   ]
  },
  {
   "cell_type": "code",
   "execution_count": 1,
   "id": "03d87802-b6b5-4602-8576-783c5e445c2f",
   "metadata": {},
   "outputs": [
    {
     "name": "stdout",
     "output_type": "stream",
     "text": [
      "[5, 11, 12, 22, 25, 34, 64, 90]\n"
     ]
    }
   ],
   "source": [
    "def quicksort(array):\n",
    "    # Base case: if array has 0 or 1 element, it's already sorted\n",
    "    if len(array) <= 1:\n",
    "        return array\n",
    "\n",
    "    # Choose pivot (middle element is often a good choice)\n",
    "    pivot = array[len(array) // 2]\n",
    "\n",
    "    # Split into 3 parts\n",
    "    left = [x for x in array if x < pivot]\n",
    "    middle = [x for x in array if x == pivot]\n",
    "    right = [x for x in array if x > pivot]\n",
    "\n",
    "    # Recursively sort left and right, then combine\n",
    "    return quicksort(left) + middle + quicksort(right)\n",
    "\n",
    "\n",
    "# Example\n",
    "mylist = [64, 34, 25, 5, 22, 11, 90, 12]\n",
    "sorted_list = quicksort(mylist)\n",
    "print(sorted_list)\n"
   ]
  },
  {
   "cell_type": "code",
   "execution_count": 2,
   "id": "1deda0d6-eff1-45f9-8c32-a0680cd61a7f",
   "metadata": {},
   "outputs": [],
   "source": [
    "#COUNT SORT\n",
    "#An array with values to sort.\n",
    "#A 'countingSort' method that receives an array of integers.\n",
    "#An array inside the method to keep count of the values.\n",
    "#A loop inside the method that counts and removes values, by incrementing elements in the counting array.\n",
    "#A loop inside the method that recreates the array by using the counting array, so that the elements appear in the right order."
   ]
  },
  {
   "cell_type": "code",
   "execution_count": 4,
   "id": "0ba398a3-9fa0-42b2-8d91-9b4cdc1699ce",
   "metadata": {},
   "outputs": [
    {
     "data": {
      "text/plain": [
       "[0, 1, 2, 3, 4, 4, 5, 6, 6, 8]"
      ]
     },
     "execution_count": 4,
     "metadata": {},
     "output_type": "execute_result"
    }
   ],
   "source": [
    "def counts(arr):\n",
    "    maxa=max(arr)\n",
    "    c=[0]*(maxa+1)\n",
    "    while len(arr)>0:\n",
    "        n=arr.pop(0)\n",
    "        c[n]+=1\n",
    "    for i in range(len(c)):\n",
    "        while c[i]>0:\n",
    "            arr.append(i)\n",
    "            c[i]-=1\n",
    "    return arr\n",
    "m=[6,4,5,6,4,3,2,8,1,0]\n",
    "l=counts(m)\n",
    "m"
   ]
  },
  {
   "cell_type": "code",
   "execution_count": 3,
   "id": "bfc885d8-669c-4ecb-a4cb-b5e5d0c401cb",
   "metadata": {},
   "outputs": [
    {
     "data": {
      "text/plain": [
       "2"
      ]
     },
     "execution_count": 3,
     "metadata": {},
     "output_type": "execute_result"
    }
   ],
   "source": [
    "2%10"
   ]
  },
  {
   "cell_type": "code",
   "execution_count": 4,
   "id": "0072e51f-302d-44d1-b40d-136a9dfc8722",
   "metadata": {},
   "outputs": [
    {
     "data": {
      "text/plain": [
       "6"
      ]
     },
     "execution_count": 4,
     "metadata": {},
     "output_type": "execute_result"
    }
   ],
   "source": [
    "6%10"
   ]
  },
  {
   "cell_type": "code",
   "execution_count": 5,
   "id": "fa4cf6a1-a701-44c4-b422-5802f2363758",
   "metadata": {},
   "outputs": [
    {
     "data": {
      "text/plain": [
       "7"
      ]
     },
     "execution_count": 5,
     "metadata": {},
     "output_type": "execute_result"
    }
   ],
   "source": [
    "7%10"
   ]
  },
  {
   "cell_type": "code",
   "execution_count": 6,
   "id": "521d6230-88c9-44f8-ad21-2cba5052037f",
   "metadata": {},
   "outputs": [
    {
     "data": {
      "text/plain": [
       "9"
      ]
     },
     "execution_count": 6,
     "metadata": {},
     "output_type": "execute_result"
    }
   ],
   "source": [
    "9%10"
   ]
  },
  {
   "cell_type": "code",
   "execution_count": 7,
   "id": "26182d47-6c7d-41b4-a6e7-2f5a785d44df",
   "metadata": {},
   "outputs": [
    {
     "data": {
      "text/plain": [
       "0"
      ]
     },
     "execution_count": 7,
     "metadata": {},
     "output_type": "execute_result"
    }
   ],
   "source": [
    "10%10"
   ]
  },
  {
   "cell_type": "code",
   "execution_count": 8,
   "id": "5be696be-ea76-4c71-8a20-d151b11c16ce",
   "metadata": {},
   "outputs": [
    {
     "name": "stdout",
     "output_type": "stream",
     "text": [
      "Original array: [170, 45, 75, 90, 802, 24, 2, 66]\n",
      "[2, 24, 45, 66, 75, 90, 170, 802]\n"
     ]
    }
   ],
   "source": [
    "#radix sort\n",
    "mylist = [170, 45, 75, 90, 802, 24, 2, 66]\n",
    "print(\"Original array:\", mylist)\n",
    "radixArray = [[], [], [], [], [], [], [], [], [], []]\n",
    "maxVal = max(mylist)\n",
    "exp = 1\n",
    "\n",
    "while maxVal // exp > 0:\n",
    "\n",
    "  while len(mylist) > 0:\n",
    "    val = mylist.pop()\n",
    "    radixIndex = (val // exp) % 10\n",
    "    radixArray[radixIndex].append(val)\n",
    "\n",
    "  for bucket in radixArray:\n",
    "    while len(bucket) > 0:\n",
    "      val = bucket.pop()\n",
    "      mylist.append(val)\n",
    "\n",
    "  exp *= 10\n",
    "\n",
    "print(mylist)"
   ]
  },
  {
   "cell_type": "code",
   "execution_count": 24,
   "id": "536f013d-ccbf-4dc1-b62e-c393cefe30e4",
   "metadata": {},
   "outputs": [
    {
     "data": {
      "text/plain": [
       "[1]"
      ]
     },
     "execution_count": 24,
     "metadata": {},
     "output_type": "execute_result"
    }
   ],
   "source": [
    "#Merge sort\n",
    "def merge(arr):\n",
    "    if len(arr)<=1:\n",
    "        return arr\n",
    "    mid=len(arr)//2\n",
    "    left=arr[:mid]\n",
    "    right=arr[mid:]\n",
    "\n",
    "    lefts=merge(left)\n",
    "    rights=merge(right)\n",
    "    return merge(lefts)\n",
    "a=[1,2,3,4,5,6,7,8]\n",
    "merge(a)"
   ]
  },
  {
   "cell_type": "code",
   "execution_count": 20,
   "id": "87296f7b-023d-4fa1-89d2-5ebaa55f888d",
   "metadata": {},
   "outputs": [
    {
     "name": "stdout",
     "output_type": "stream",
     "text": [
      "Sorted array: [-13, -10, 3, 6, 7, 15, 23.5, 55]\n"
     ]
    }
   ],
   "source": [
    "def mergeSort(arr):\n",
    "  if len(arr) <= 1:\n",
    "    return arr\n",
    "\n",
    "  mid = len(arr) // 2\n",
    "  leftHalf = arr[:mid]\n",
    "  rightHalf = arr[mid:]\n",
    "\n",
    "  sortedLeft = mergeSort(leftHalf)\n",
    "  sortedRight = mergeSort(rightHalf)\n",
    "\n",
    "  return merge(sortedLeft, sortedRight)\n",
    "\n",
    "def merge(left, right):\n",
    "  result = []\n",
    "  i = j = 0\n",
    "\n",
    "  while i < len(left) and j < len(right):\n",
    "    if left[i] < right[j]:\n",
    "      result.append(left[i])\n",
    "      i += 1\n",
    "    else:\n",
    "      result.append(right[j])\n",
    "      j += 1\n",
    "\n",
    "  result.extend(left[i:])\n",
    "  result.extend(right[j:])\n",
    "\n",
    "  return result\n",
    "\n",
    "mylist = [3, 7, 6, -10, 15, 23.5, 55, -13]\n",
    "mysortedlist = mergeSort(mylist)\n",
    "print(\"Sorted array:\", mysortedlist)\n"
   ]
  },
  {
   "cell_type": "code",
   "execution_count": 6,
   "id": "3bbb9222-1003-48fd-97b1-1710729a31f5",
   "metadata": {},
   "outputs": [
    {
     "name": "stdout",
     "output_type": "stream",
     "text": [
      "[-13, -10, 3, 6, 7, 15, 23.5, 55]\n"
     ]
    }
   ],
   "source": [
    "def mergesort(arr):\n",
    "    if len(arr)<=1:\n",
    "        return arr\n",
    "    mid=len(arr)//2\n",
    "    lhs=arr[:mid]\n",
    "    rhs=arr[mid:]\n",
    "\n",
    "    slhs=mergesort(lhs)\n",
    "    srhs=mergesort(rhs)\n",
    "\n",
    "    return merge(slhs,srhs)\n",
    "\n",
    "def merge(left,right):\n",
    "    res=[]\n",
    "    i=j=0\n",
    "\n",
    "    while i <len(left) and j<len(right):\n",
    "        if left[i]<right[j]:\n",
    "            res.append(left[i])\n",
    "            i+=1\n",
    "        else:\n",
    "            res.append(right[j])\n",
    "            j+=1\n",
    "\n",
    "    res.extend(left[i:])\n",
    "    res.extend(right[j:])\n",
    "    return res\n",
    "\n",
    "arr=[3, 7, 6, -10, 15, 23.5, 55, -13]\n",
    "sort=mergesort(arr)\n",
    "print(sort)\n"
   ]
  },
  {
   "cell_type": "code",
   "execution_count": null,
   "id": "aec2888e-79a2-478f-af37-d62a2f340657",
   "metadata": {},
   "outputs": [],
   "source": []
  },
  {
   "cell_type": "code",
   "execution_count": null,
   "id": "e115b350-9e45-4027-bf30-0e9df8e29a7f",
   "metadata": {},
   "outputs": [],
   "source": []
  },
  {
   "cell_type": "code",
   "execution_count": 12,
   "id": "dce2a1d9-dc5d-404b-b137-fa9fbd9e2886",
   "metadata": {},
   "outputs": [
    {
     "name": "stdout",
     "output_type": "stream",
     "text": [
      "sortedLeft: [3] sortedRight: [7]\n",
      "sortedLeft: [6] sortedRight: [-10]\n",
      "sortedLeft: [3, 7] sortedRight: [6, -10]\n",
      "sortedLeft: [15] sortedRight: [23.5]\n",
      "sortedLeft: [55] sortedRight: [-13]\n",
      "sortedLeft: [15, 23.5] sortedRight: [55, -13]\n",
      "sortedLeft: [3, 7, 6, -10] sortedRight: [15, 23.5, 55, -13]\n"
     ]
    }
   ],
   "source": [
    "def mergeSort(arr):\n",
    "  if len(arr) <= 1:\n",
    "    return arr\n",
    "\n",
    "  mid = len(arr) // 2\n",
    "  leftHalf = arr[:mid]\n",
    "  rightHalf = arr[mid:]\n",
    "\n",
    "  sortedLeft = mergeSort(leftHalf)\n",
    "  sortedRight = mergeSort(rightHalf)\n",
    "\n",
    "  print(\"sortedLeft:\", sortedLeft, \"sortedRight:\", sortedRight)\n",
    "\n",
    "  # (missing merge step, but for now you’re just exploring)\n",
    "  return sortedLeft + sortedRight\n",
    "mylist = [3, 7, 6, -10, 15, 23.5, 55, -13]\n",
    "mysortedlist = mergeSort(mylist)\n",
    "#print(\"Sorted array:\", mysortedlist)"
   ]
  },
  {
   "cell_type": "code",
   "execution_count": null,
   "id": "c9238cbf-dafd-4a14-b021-35dd5515978c",
   "metadata": {},
   "outputs": [],
   "source": []
  }
 ],
 "metadata": {
  "kernelspec": {
   "display_name": "Python [conda env:base] *",
   "language": "python",
   "name": "conda-base-py"
  },
  "language_info": {
   "codemirror_mode": {
    "name": "ipython",
    "version": 3
   },
   "file_extension": ".py",
   "mimetype": "text/x-python",
   "name": "python",
   "nbconvert_exporter": "python",
   "pygments_lexer": "ipython3",
   "version": "3.13.5"
  }
 },
 "nbformat": 4,
 "nbformat_minor": 5
}
