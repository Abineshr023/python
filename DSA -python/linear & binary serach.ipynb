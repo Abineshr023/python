{
 "cells": [
  {
   "cell_type": "code",
   "execution_count": 19,
   "id": "d15404cd-5e24-4a07-9df7-fb1dd1ccb6bd",
   "metadata": {},
   "outputs": [
    {
     "name": "stdout",
     "output_type": "stream",
     "text": [
      "the value found at index: 2\n"
     ]
    }
   ],
   "source": [
    "def linear(arr,t):\n",
    "    for i in range(len(arr)):\n",
    "        if arr[i]==t:\n",
    "            return i\n",
    "    else:\n",
    "        return -1\n",
    "\n",
    "arr=[1,2,3,4,5,7]\n",
    "t=3\n",
    "ls=linear(arr,t)\n",
    "if ls != -1:\n",
    "    print(\"the value found at index:\",ls)\n",
    "else:\n",
    "    print(\"Value not found\")"
   ]
  },
  {
   "cell_type": "code",
   "execution_count": 29,
   "id": "fa295251-b44d-4cf3-9cb3-f9502b48bb58",
   "metadata": {},
   "outputs": [
    {
     "name": "stdout",
     "output_type": "stream",
     "text": [
      "the value  found at index: 0\n"
     ]
    }
   ],
   "source": [
    "#binary search\n",
    "def binary(arr,tb):\n",
    "    left=0\n",
    "    right=len(arr)-1\n",
    "\n",
    "    while left<=right:\n",
    "        mid=(left+right)//2\n",
    "        #print(mid)\n",
    "\n",
    "        if arr[mid]==tb:\n",
    "            return mid\n",
    "                                    \n",
    "        if arr[mid]<tb:\n",
    "            left=mid +1\n",
    "        else:\n",
    "            right=mid-1\n",
    "    return -1\n",
    "arr=[1,2,3,4,5,7]\n",
    "tb=1\n",
    "bs=binary(arr,tb)\n",
    "bs \n",
    "if bs!=-1:\n",
    "    print(\"the value  found at index:\",bs)\n",
    "else:\n",
    "    print(\"Value not found\")"
   ]
  },
  {
   "cell_type": "code",
   "execution_count": null,
   "id": "87f6573d-5027-4b93-95e0-a46d2e856a21",
   "metadata": {},
   "outputs": [],
   "source": []
  }
 ],
 "metadata": {
  "kernelspec": {
   "display_name": "Python [conda env:base] *",
   "language": "python",
   "name": "conda-base-py"
  },
  "language_info": {
   "codemirror_mode": {
    "name": "ipython",
    "version": 3
   },
   "file_extension": ".py",
   "mimetype": "text/x-python",
   "name": "python",
   "nbconvert_exporter": "python",
   "pygments_lexer": "ipython3",
   "version": "3.13.5"
  }
 },
 "nbformat": 4,
 "nbformat_minor": 5
}
