{
 "cells": [
  {
   "cell_type": "code",
   "execution_count": null,
   "id": "195e9346-0796-4343-b078-a8a126f5fb01",
   "metadata": {},
   "outputs": [],
   "source": []
  }
 ],
 "metadata": {
  "kernelspec": {
   "display_name": "",
   "name": ""
  },
  "language_info": {
   "name": ""
  }
 },
 "nbformat": 4,
 "nbformat_minor": 5
}
