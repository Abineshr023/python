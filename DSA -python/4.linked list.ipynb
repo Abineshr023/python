{
 "cells": [
  {
   "cell_type": "code",
   "execution_count": 27,
   "id": "e50499a3-1ed3-4e74-9536-c1b07fc3b78f",
   "metadata": {},
   "outputs": [
    {
     "name": "stdout",
     "output_type": "stream",
     "text": [
      "1-> 2-> 3-> none\n"
     ]
    }
   ],
   "source": [
    "class node:\n",
    "    def __init__(self,val):\n",
    "        self.x=val\n",
    "        self.next=None\n",
    "p1=node(1)\n",
    "p2=node(2)\n",
    "p3=node(3)\n",
    "p1.next=p2\n",
    "p2.next=p3\n",
    "a=p1\n",
    "while a!=None:\n",
    "    print(a.x,end=\"-> \")\n",
    "    a=a.next\n",
    "print(\"none\")"
   ]
  },
  {
   "cell_type": "code",
   "execution_count": null,
   "id": "29047d00-086d-4f43-86e5-f77afdb6651e",
   "metadata": {},
   "outputs": [],
   "source": [
    "class node:\n",
    "    def __init__(self,val):\n",
    "        self.a=val\n",
    "        self.next=None\n",
    "class singly:\n",
    "    def __init__(self):\n",
    "        self.head=None\n",
    "\n",
    "    def append(self,data):\n",
    "        self.d=data\n",
    "        "
   ]
  },
  {
   "cell_type": "code",
   "execution_count": null,
   "id": "9dd8a9e5-7b64-4a45-b89a-cb6f63bfe5f2",
   "metadata": {},
   "outputs": [],
   "source": [
    "#✅ append(data) → Insert at end\n",
    "#✅ prepend(data) → Insert at beginning\n",
    "#✅ insert_after(prev_node_data, data) → Insert after a specific node\n",
    "#✅ delete_node(key) → Delete a node by value\n",
    "#✅ display() → Print linked list"
   ]
  },
  {
   "cell_type": "code",
   "execution_count": 28,
   "id": "317bef8c-2b87-4dbd-a19f-84219d9e237a",
   "metadata": {},
   "outputs": [
    {
     "name": "stdout",
     "output_type": "stream",
     "text": [
      "5 -> 10 -> 20 -> 25 -> 30 -> None\n",
      "5 -> 20 -> 25 -> 30 -> None\n"
     ]
    }
   ],
   "source": [
    "# Node class\n",
    "class Node:\n",
    "    def __init__(self, data):\n",
    "        self.data = data\n",
    "        self.next = None\n",
    "\n",
    "\n",
    "# Singly Linked List class\n",
    "class SinglyLinkedList:\n",
    "    def __init__(self):\n",
    "        self.head = None\n",
    "\n",
    "    # Insert at the end\n",
    "    def append(self, data):\n",
    "        new_node = Node(data)\n",
    "        if not self.head:     # If list is empty\n",
    "            self.head = new_node\n",
    "            return\n",
    "        temp = self.head\n",
    "        while temp.next:      # Traverse till last node\n",
    "            temp = temp.next\n",
    "        temp.next = new_node\n",
    "\n",
    "    # Insert at the beginning\n",
    "    def prepend(self, data):\n",
    "        new_node = Node(data)\n",
    "        new_node.next = self.head\n",
    "        self.head = new_node\n",
    "\n",
    "    # Insert after a given node\n",
    "    def insert_after(self, prev_node_data, data):\n",
    "        temp = self.head\n",
    "        while temp and temp.data != prev_node_data:\n",
    "            temp = temp.next\n",
    "        if not temp:\n",
    "            print(\"Node not found\")\n",
    "            return\n",
    "        new_node = Node(data)\n",
    "        new_node.next = temp.next\n",
    "        temp.next = new_node\n",
    "\n",
    "    # Delete a node by value\n",
    "    def delete_node(self, key):\n",
    "        temp = self.head\n",
    "\n",
    "        # If head node itself holds the key\n",
    "        if temp and temp.data == key:\n",
    "            self.head = temp.next\n",
    "            temp = None\n",
    "            return\n",
    "\n",
    "        # Search for the key\n",
    "        prev = None\n",
    "        while temp and temp.data != key:\n",
    "            prev = temp\n",
    "            temp = temp.next\n",
    "\n",
    "        if not temp:\n",
    "            print(\"Node not found\")\n",
    "            return\n",
    "\n",
    "        prev.next = temp.next\n",
    "        temp = None\n",
    "\n",
    "    # Print the linked list\n",
    "    def display(self):\n",
    "        temp = self.head\n",
    "        while temp:\n",
    "            print(temp.data, end=\" -> \")\n",
    "            temp = temp.next\n",
    "        print(\"None\")\n",
    "\n",
    "\n",
    "# Example usage\n",
    "ll = SinglyLinkedList()\n",
    "ll.append(10)\n",
    "ll.append(20)\n",
    "ll.append(30)\n",
    "ll.prepend(5)\n",
    "ll.insert_after(20, 25)\n",
    "ll.display()   # Output: 5 -> 10 -> 20 -> 25 -> 30 -> None\n",
    "\n",
    "ll.delete_node(10)\n",
    "ll.display()   # Output: 5 -> 20 -> 25 -> 30 -> None\n"
   ]
  },
  {
   "cell_type": "code",
   "execution_count": null,
   "id": "efe65872-82bb-40b6-a87e-408094f9aa6c",
   "metadata": {},
   "outputs": [],
   "source": []
  }
 ],
 "metadata": {
  "kernelspec": {
   "display_name": "Python [conda env:base] *",
   "language": "python",
   "name": "conda-base-py"
  },
  "language_info": {
   "codemirror_mode": {
    "name": "ipython",
    "version": 3
   },
   "file_extension": ".py",
   "mimetype": "text/x-python",
   "name": "python",
   "nbconvert_exporter": "python",
   "pygments_lexer": "ipython3",
   "version": "3.13.5"
  }
 },
 "nbformat": 4,
 "nbformat_minor": 5
}
