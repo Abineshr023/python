{
 "cells": [
  {
   "cell_type": "code",
   "execution_count": null,
   "id": "2bc0aa64-d422-4926-bdb3-2908742d5ac3",
   "metadata": {},
   "outputs": [],
   "source": [
    "#Data Structures are a way of storing and organizing data in a computer.\n",
    "#Python has built-in support for several data structures, such as lists, dictionaries, and sets.\n",
    "#Other data structures can be implemented using Python classes and objects, such as linked lists, stacks, queues, trees, and graphs."
   ]
  },
  {
   "cell_type": "code",
   "execution_count": null,
   "id": "4dcdc2e6-2a33-4c92-9bcc-1152c485f572",
   "metadata": {},
   "outputs": [],
   "source": [
    "'''Lists and Arrays\n",
    "Stacks\n",
    "Queues\n",
    "Linked Lists\n",
    "Hash Tables\n",
    "Trees\n",
    "Binary Trees\n",
    "Binary Search Trees\n",
    "AVL Trees\n",
    "Graphs'''"
   ]
  },
  {
   "cell_type": "code",
   "execution_count": 1,
   "id": "cfe5081b-a90c-4ae4-a069-5a5512abdc6a",
   "metadata": {},
   "outputs": [
    {
     "name": "stdout",
     "output_type": "stream",
     "text": [
      "[4, 7, 8, 9, 11, 12]\n"
     ]
    }
   ],
   "source": [
    "x = [9, 12, 7, 4, 11]\n",
    "\n",
    "# Add element:\n",
    "x.append(8)\n",
    "\n",
    "# Sort list ascending:\n",
    "x.sort()\n",
    "\n",
    "print(x)\n"
   ]
  },
  {
   "cell_type": "code",
   "execution_count": 2,
   "id": "8a08c7e8-db23-4948-a9f1-532469820942",
   "metadata": {},
   "outputs": [
    {
     "name": "stdout",
     "output_type": "stream",
     "text": [
      "4\n"
     ]
    }
   ],
   "source": [
    "x = [9, 12, 7, 4, 11]\n",
    "mini=x[0]\n",
    "for i in x:\n",
    "    if i<mini:\n",
    "        mini=i\n",
    "print(mini)"
   ]
  },
  {
   "cell_type": "code",
   "execution_count": null,
   "id": "be75ba5a-9765-4fbc-875a-d7311f5bc656",
   "metadata": {},
   "outputs": [],
   "source": []
  }
 ],
 "metadata": {
  "kernelspec": {
   "display_name": "Python [conda env:base] *",
   "language": "python",
   "name": "conda-base-py"
  },
  "language_info": {
   "codemirror_mode": {
    "name": "ipython",
    "version": 3
   },
   "file_extension": ".py",
   "mimetype": "text/x-python",
   "name": "python",
   "nbconvert_exporter": "python",
   "pygments_lexer": "ipython3",
   "version": "3.13.5"
  }
 },
 "nbformat": 4,
 "nbformat_minor": 5
}
