{
 "cells": [
  {
   "cell_type": "markdown",
   "id": "dd8f128c-4a78-4049-85c9-f72a46eaa825",
   "metadata": {},
   "source": [
    "**stack:**\n",
    "**This way of organizing elements is called LIFO: Last In First Out**\n"
   ]
  },
  {
   "cell_type": "markdown",
   "id": "173850be-de8a-44bf-8a8f-57e3e510df29",
   "metadata": {},
   "source": [
    "Push:# Adds a new element on the stack.\n",
    "Pop:# Removes and returns the top element from the stack.\n",
    "Peek: #Returns the top (last) element on the stack.\n",
    "isEmpty:# Checks if the stack is empty.\n",
    "Size: #Finds the number of elements in the stack(len)"
   ]
  },
  {
   "cell_type": "code",
   "execution_count": 1,
   "id": "922c66c8-3204-4f3b-9ad1-b7849b3b7ce8",
   "metadata": {},
   "outputs": [
    {
     "data": {
      "text/plain": [
       "['A', 'B', 'C', 'D']"
      ]
     },
     "execution_count": 1,
     "metadata": {},
     "output_type": "execute_result"
    }
   ],
   "source": [
    "#push\n",
    "a=[]\n",
    "a.append(\"A\")\n",
    "a.append(\"B\")\n",
    "a.append(\"C\")\n",
    "a.append(\"D\")\n",
    "a"
   ]
  },
  {
   "cell_type": "code",
   "execution_count": 2,
   "id": "dce3cb24-78d9-41c2-8169-c33e6c0c8a3e",
   "metadata": {},
   "outputs": [
    {
     "data": {
      "text/plain": [
       "'D'"
      ]
     },
     "execution_count": 2,
     "metadata": {},
     "output_type": "execute_result"
    }
   ],
   "source": [
    "#peek -remove\n",
    "b=a[-1]\n",
    "b"
   ]
  },
  {
   "cell_type": "code",
   "execution_count": 5,
   "id": "04cd374d-2a7a-46df-8b71-880488dc7329",
   "metadata": {},
   "outputs": [
    {
     "name": "stdout",
     "output_type": "stream",
     "text": [
      "['A']\n"
     ]
    }
   ],
   "source": [
    "#pop\n",
    "b=a.pop()\n",
    "b\n"
   ]
  },
  {
   "cell_type": "code",
   "execution_count": 9,
   "id": "879c915c-ec19-4b98-ba21-6c16fed4acd6",
   "metadata": {},
   "outputs": [
    {
     "name": "stdout",
     "output_type": "stream",
     "text": [
      "isEmpty:  False\n"
     ]
    }
   ],
   "source": [
    "# isEmpty\n",
    "isEmpty =not bool(a)\n",
    "print(\"isEmpty: \", isEmpty)"
   ]
  },
  {
   "cell_type": "code",
   "execution_count": 10,
   "id": "8c00c63c-d180-4a20-a323-773619813073",
   "metadata": {},
   "outputs": [
    {
     "name": "stdout",
     "output_type": "stream",
     "text": [
      "1\n"
     ]
    }
   ],
   "source": [
    "#size\n",
    "print(len(a))"
   ]
  },
  {
   "cell_type": "code",
   "execution_count": 22,
   "id": "c7c5e94b-7bbb-411a-8e58-d726a4561ef1",
   "metadata": {},
   "outputs": [
    {
     "name": "stdout",
     "output_type": "stream",
     "text": [
      "[1]\n",
      "[1, 2]\n",
      "[1, 2, 3]\n",
      "[1, 2, 3, 4]\n",
      "4\n",
      "False\n",
      "[1, 2, 3, 4]\n"
     ]
    }
   ],
   "source": [
    "#Creating a stack using class\n",
    "class stack:\n",
    "    def __init__(self):\n",
    "        self.a=[]\n",
    "    def pushh(self,b):\n",
    "        self.a.append(b)\n",
    "        print(self.a)\n",
    "\n",
    "    def peekk(self):\n",
    "        print(self.a[-1])\n",
    "    \n",
    "    def popp(self):\n",
    "        self.a.pop()\n",
    "        print(self.a)\n",
    "    def isemptyy(self):\n",
    "        return len(self.a)==0\n",
    "    def size(self):\n",
    "        print(len(self.a))\n",
    "s=stack()\n",
    "s.pushh(1)\n",
    "s.pushh(2)\n",
    "s.pushh(3)\n",
    "s.pushh(4)\n",
    "s.size()\n",
    "print(s.isemptyy())\n",
    "print(s.a)"
   ]
  },
  {
   "cell_type": "code",
   "execution_count": null,
   "id": "36815efb-9a0f-4eff-9556-f46e5ff67d19",
   "metadata": {},
   "outputs": [],
   "source": []
  },
  {
   "cell_type": "code",
   "execution_count": null,
   "id": "2c0a0526-114b-4d77-94e8-6534d767d252",
   "metadata": {},
   "outputs": [],
   "source": []
  }
 ],
 "metadata": {
  "kernelspec": {
   "display_name": "Python [conda env:base] *",
   "language": "python",
   "name": "conda-base-py"
  },
  "language_info": {
   "codemirror_mode": {
    "name": "ipython",
    "version": 3
   },
   "file_extension": ".py",
   "mimetype": "text/x-python",
   "name": "python",
   "nbconvert_exporter": "python",
   "pygments_lexer": "ipython3",
   "version": "3.13.5"
  }
 },
 "nbformat": 4,
 "nbformat_minor": 5
}
