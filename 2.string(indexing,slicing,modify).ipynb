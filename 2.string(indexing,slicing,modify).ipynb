{
 "cells": [
  {
   "cell_type": "code",
   "execution_count": null,
   "id": "ae073d35-91fd-4d4c-80fa-a06149503216",
   "metadata": {},
   "outputs": [],
   "source": [
    "#multi line string\n",
    "a=\"\"\"multi\"\"\"             #it represents a multiline string formate\n",
    "print(a)"
   ]
  },
  {
   "cell_type": "code",
   "execution_count": 17,
   "id": "1365699a-2d77-4d64-b7ab-6aa444fbc719",
   "metadata": {},
   "outputs": [
    {
     "name": "stdout",
     "output_type": "stream",
     "text": [
      "h\n",
      "w\n"
     ]
    }
   ],
   "source": [
    "#indexing -position of value\n",
    "n='hello world'\n",
    "print(n[0])\n",
    "print(n[6])\n"
   ]
  },
  {
   "cell_type": "code",
   "execution_count": 24,
   "id": "b0a249cf-5775-4cb7-9e77-e6de9f12875a",
   "metadata": {},
   "outputs": [
    {
     "name": "stdout",
     "output_type": "stream",
     "text": [
      "o w\n"
     ]
    }
   ],
   "source": [
    "#slicing     to find the range of values in data\n",
    "#it perform based on index posistion \n",
    "#the index posistion first element is starts from 0(in the string element the 0 index position is 'h'\n",
    "b='hello world'\n",
    "print(b[4:7])  #slicing to 4 to 7->the 7 refers a 6th position value \n",
    "#if i mention the 7th index it prints the 6th index position(to give the  parameter +1 for getting exact position value)\n"
   ]
  },
  {
   "cell_type": "code",
   "execution_count": 19,
   "id": "7340744f-bd4c-4dd0-aef1-937cd242d1e7",
   "metadata": {},
   "outputs": [
    {
     "name": "stdout",
     "output_type": "stream",
     "text": [
      "ell\n"
     ]
    }
   ],
   "source": [
    "print(b[1:4])         #it be find the range of value between index position of 1 to 4"
   ]
  },
  {
   "cell_type": "code",
   "execution_count": 20,
   "id": "55a40942-9391-4380-a541-938bf2700dbf",
   "metadata": {},
   "outputs": [
    {
     "name": "stdout",
     "output_type": "stream",
     "text": [
      "worl\n"
     ]
    }
   ],
   "source": [
    "print(b[6:10])"
   ]
  },
  {
   "cell_type": "code",
   "execution_count": 22,
   "id": "2748b846-cb63-4045-b9ee-3c0d66e91932",
   "metadata": {},
   "outputs": [
    {
     "name": "stdout",
     "output_type": "stream",
     "text": [
      "world\n"
     ]
    }
   ],
   "source": [
    "print(b[6:])           #if you want to end of value to do not mention any values in slicing"
   ]
  },
  {
   "cell_type": "code",
   "execution_count": null,
   "id": "43f154f5-d426-4b39-8a11-b43ac7a21a68",
   "metadata": {},
   "outputs": [],
   "source": [
    "#negative              # this is also same as positive but in negative to decrease the value from first like(-10 to 0)\n",
    "b='hello world'        #to consider 1st element as last value in negative slicing(h->-10)\n",
    "print(b[-10:-2])"
   ]
  },
  {
   "cell_type": "code",
   "execution_count": 28,
   "id": "8f990fa2-bc43-4dda-814b-e7c2f282c186",
   "metadata": {},
   "outputs": [
    {
     "name": "stdout",
     "output_type": "stream",
     "text": [
      "o w\n"
     ]
    }
   ],
   "source": [
    "print(b[-7:-4])"
   ]
  },
  {
   "cell_type": "code",
   "execution_count": 29,
   "id": "4788c49e-a9f8-48bd-8c90-e744853f723d",
   "metadata": {},
   "outputs": [
    {
     "name": "stdout",
     "output_type": "stream",
     "text": [
      "world\n"
     ]
    }
   ],
   "source": [
    "print(b[-5:])"
   ]
  },
  {
   "cell_type": "code",
   "execution_count": null,
   "id": "82023f0e-d948-41e2-85fa-75adbbe53b06",
   "metadata": {},
   "outputs": [],
   "source": [
    "#string modify\n",
    "'''upper -changing total value in upper\n",
    "capitalize-changing first letter in upper\n",
    "lower-to change in lower format\n",
    "strip remove white space'''"
   ]
  },
  {
   "cell_type": "code",
   "execution_count": null,
   "id": "e1349910-40de-4785-b832-e357e6b6fd30",
   "metadata": {},
   "outputs": [],
   "source": [
    "a='abinesh'\n",
    "print(a.upper())"
   ]
  },
  {
   "cell_type": "code",
   "execution_count": null,
   "id": "0f142431-0107-4c60-94b4-0b498e9cce01",
   "metadata": {},
   "outputs": [],
   "source": [
    "print(a.capitalize())"
   ]
  },
  {
   "cell_type": "code",
   "execution_count": null,
   "id": "a5181f25-0eb4-4878-880f-4e3f330e66d9",
   "metadata": {},
   "outputs": [],
   "source": [
    "a='ABINESH'\n",
    "print(a.lower())"
   ]
  },
  {
   "cell_type": "code",
   "execution_count": 38,
   "id": "a204660c-8078-447f-ae02-70531cefb2e5",
   "metadata": {},
   "outputs": [
    {
     "name": "stdout",
     "output_type": "stream",
     "text": [
      "# abinesh\n"
     ]
    }
   ],
   "source": [
    "#strip()->used to remove the empty spaces and remove both left and right space\n",
    "#the strip is 2type =lstrip(remove left space),rstrip(to remove right space)\n",
    "a='            # abinesh                       '\n",
    "print(a.strip())"
   ]
  },
  {
   "cell_type": "code",
   "execution_count": 39,
   "id": "cd7f4ae4-b366-47ac-b970-a5666c13532e",
   "metadata": {},
   "outputs": [
    {
     "name": "stdout",
     "output_type": "stream",
     "text": [
      " i am name abinesh from pvk\n"
     ]
    }
   ],
   "source": [
    "#format\n",
    "#if you open f\" \"the format is enable it and to give the parameters in paranthesis{}to assign value while formate is enabling\n",
    "name='abinesh'\n",
    "native='pvk'\n",
    "\n",
    "a=f\" i am{name} from {native}\"\n",
    "print(a)"
   ]
  },
  {
   "cell_type": "code",
   "execution_count": 44,
   "id": "319020a0-ae8a-4ffd-838e-418d3aa91bc7",
   "metadata": {},
   "outputs": [
    {
     "name": "stdin",
     "output_type": "stream",
     "text": [
      "enter the name ABINESH\n",
      "enter the age 21\n"
     ]
    },
    {
     "name": "stdout",
     "output_type": "stream",
     "text": [
      " i am ABINESH and i passed the age 21 last month\n"
     ]
    }
   ],
   "source": [
    "name=input('enter the name')\n",
    "age=int(input('enter the age'))\n",
    "\n",
    "a=f\" i am {name} and i passed the age {age} last month\"\n",
    "print(a)"
   ]
  },
  {
   "cell_type": "code",
   "execution_count": 1,
   "id": "a06458d9-c1e8-4ca9-be32-69c1a66ea854",
   "metadata": {},
   "outputs": [
    {
     "name": "stdout",
     "output_type": "stream",
     "text": [
      "ABI\n",
      "ESH 1\n",
      "abinesh\n",
      "abinesh\n",
      "Abi\n",
      "esh\n",
      "---------ABINESH---------\n",
      "2\n",
      "1\n",
      "b'my name is \\xc3\\xa2binesh'\n",
      "b'my name is binesh'\n",
      "b'my name is \\\\xe2binesh'\n",
      "b'my name is ?binesh'\n",
      "b'my name is \\\\N{LATIN SMALL LETTER A WITH CIRCUMFLEX}binesh'\n",
      "b'my name is &#226;binesh'\n",
      "True\n",
      "False\n",
      "True\n",
      "h e l l o\n",
      "2\n",
      "-1\n",
      "3\n",
      "My name is John, I'm 36\n",
      "Happy Birthday Jane You Are Now On Level 36!\n",
      "1\n",
      "13\n",
      "True\n",
      "True\n",
      "False\n",
      "True\n",
      "True\n",
      "True\n",
      "False\n",
      "True\n",
      "True\n",
      "True\n",
      "False\n",
      "True\n",
      "False\n",
      "True\n",
      "True\n",
      "name*abinesh\n",
      "abinesh from thanjavur\n",
      "   abinesh from thanjavur\n",
      "# abinesh\n",
      "of all fruits Happy Birthday {Name} You Are Now On Level {Age}! is my favorite\n",
      "('my ', 'name', ' is âbinesh')\n",
      "('my name is âb', 'i', 'nesh')\n",
      "abinesh\n",
      " my name is my name that is my name\n",
      "['Happy', 'Birthday', '{Name}', 'You', 'Are', 'Now', 'On', 'Level', '{Age}!']\n",
      "['Happy', 'Birthday', '{Name}', 'You', 'Are', 'Now', 'On', 'Level', '{Age}!']\n",
      "['abi', 'esh']\n",
      "True\n",
      "I AM abinesh\n",
      "I Am Abinesh\n",
      "00000000i am ABINESH\n"
     ]
    }
   ],
   "source": [
    "'''string methods'''\n",
    "#UPPER-used to convert the string lower into upper formate\n",
    "a='abi\\nesh'\n",
    "print(a.upper(),1)\n",
    "\n",
    "#LOWER-used to convert the string upper into lower formate\n",
    "a1=\"ABINESH\"\n",
    "print(a1.lower())\n",
    "\n",
    "#CASEFOLD -similair as lower but its effective compare to lower\n",
    "print(a1.casefold())\n",
    "\n",
    "#CAPITALIZE-to convert the first letter of string in capital\n",
    "print(a.capitalize())\n",
    "\n",
    "#CENTER-used to center the string \n",
    "'''center(length,character),length-it refers the space of string and character refers as what char should be assign for empty spaces(mention in string format'''\n",
    "print(a1.center(25,'-'))\n",
    "\n",
    "#COUNT-Return the number of times the value appears in the string\n",
    "'''other type of format is to mentioning (substr,start,end)-it means to return values from in this range of index position '''\n",
    "a2=\"i am python student and i attending a python class everyday\"\n",
    "print(a2.count(\"python\"))\n",
    "print(a2.count(\"i\",0,20)) #in the range the i occurs one time between 0-20\n",
    "\n",
    "#ENCODE -used to convert into bytes for machine understanding\n",
    "a3=\"my name is âbinesh\"\n",
    "print(a3.encode()) #encode to normal\n",
    "print(a3.encode(encoding='ascii',errors='ignore')) #encode and ignore the non ascii\n",
    "print(a3.encode(encoding='ascii',errors='backslashreplace')) #encode and replace the backslash in errors\n",
    "print(a3.encode(encoding='ascii',errors='replace')) #encode and replace the eroors\n",
    "print(a3.encode(encoding='ascii',errors='namereplace'))#encode and replace the error in name of specified character \n",
    "print(a3.encode(encoding='ascii',errors='xmlcharrefreplace'))#replace the error in xmlchar\n",
    "\n",
    "#ENDSWITH-to check the values is endwith that parameter is it correct them true otherwise false\n",
    "print(a.endswith(\"h\"))\n",
    "print(a.endswith(\"a\"))\n",
    "print(a.endswith(\"h\",0,8))\n",
    "\n",
    "#EXPANDTABS -expand the string based on parameter \n",
    "a5=\"h\\te\\tl\\tl\\to\"\n",
    "print(a5.expandtabs(2))\n",
    "\n",
    "#FIND-find the position of character in string if its not it gives -1\n",
    "print(a.find(\"i\"))\n",
    "print(a.find(\"i\",0,2))\n",
    "\n",
    "#RFIND-method finds the last occurrence of the specified value.\n",
    "a6=\"indian\"\n",
    "print(a6.rfind(\"i\"))\n",
    "\n",
    "#FORMAT-The format() method formats the specified value(s) and insert them inside the string's placeholder.\n",
    "'''name=input()\n",
    "native=input()\n",
    "\n",
    "a=f\"i am {name} and i am from {native}\"\n",
    "print(a)'''\n",
    "txt2 = \"My name is {0}, I'm {1}\".format(\"John\",36)\n",
    "print(txt2)\n",
    "\n",
    "#FORMAT_MAP- method formats the specified values of a dictionary and insert them inside the string's placeholders.\n",
    "myvar = {\"Name\" : \"Jane\", \"Age\" : 36}\n",
    "txt = \"Happy Birthday {Name} You Are Now On Level {Age}!\"\n",
    "print(txt.format_map(myvar))\n",
    "\n",
    "#INDEX-find the position of str is start\n",
    "a7=\"name\",\"abinesh\"\n",
    "print(a7.index(\"abinesh\"))\n",
    "\n",
    "#RINDEX-method finds the last occurrence of the specified value.\n",
    "print(txt.rindex(\"y\",0,17))\n",
    "\n",
    "#ISALNUM-method returns True if all the characters are alphanumeric\n",
    "b=\"abinesh123\"\n",
    "print(b.isalnum())\n",
    "b1=\"abinesh\"\n",
    "print(b.isalnum())\n",
    "\n",
    "#ISALPHA-Check if all the characters in the text is alphabetic:\n",
    "print(b.isalpha())\n",
    "\n",
    "#ISASCII-Returns True if all characters in the string are ascii characters\n",
    "print(b.isascii())\n",
    "\n",
    "#ISDECIMAL-Returns True if all characters in the string are decimals\n",
    "b2=\"1234\"\n",
    "print(b2.isdecimal())\n",
    "\n",
    "#ISDIGIT-Returns True if all characters in the string are digits\n",
    "print(b2.isdigit())\n",
    "\n",
    "#ISIDENTIFIER-is used to validate the identifier(alphanumeric and underscore)\n",
    "print(b2.isidentifier())\n",
    "b3=\"my_name\"\n",
    "print(b3.isidentifier())\n",
    "\n",
    "#ISLOWER-validate the string is lower,its lower gives true\n",
    "print(b3.islower())\n",
    "\n",
    "#ISNUMERIC-check the value is numeric or not\n",
    "print(b2.isnumeric())\n",
    "print(b3.isnumeric())\n",
    "\n",
    "#ISPRINTABLE-check the value is printable or not(if it contain control statement(\\) gives false\n",
    "print(b3.isprintable())\n",
    "print(a.isprintable())\n",
    "\n",
    "#ISSPACE-check if the value is space or not\n",
    "c=\" \"\n",
    "c1=\"\\n\"\n",
    "print(c1.isspace())\n",
    "\n",
    "#ISTITLE- method returns True if all words in a text start with a upper case letter, AND the rest of the word are lower case letters, otherwise False.\n",
    "print(txt.istitle())\n",
    "\n",
    "#JOIN -join the one or more element in string\n",
    "print(\"*\".join(a7))\n",
    "\n",
    "#LJUST-The ljust() method will left align the string, using a specified character (space is default) as the fill character.\n",
    "c2=\"abinesh\"\n",
    "c3=c2.ljust(5)\n",
    "print(c3,\"from thanjavur\")\n",
    "\n",
    "#RJUST- method will right align the string, using a specified character (space is default) as the fill character.\n",
    "c3=c2.rjust(10)\n",
    "print(c3,\"from thanjavur\")\n",
    "\n",
    "#STRIP->used to remove the empty spaces and remove both left and right space\n",
    "#the strip is 2type =lstrip(remove left space),rstrip(to remove right space)\n",
    "a9='            # abinesh                       '\n",
    "print(a9.strip())\n",
    "\n",
    "#RSTRIP\n",
    "txt3 = \"     banana     \"\n",
    "x = txt.rstrip()\n",
    "print(\"of all fruits\", x, \"is my favorite\")\n",
    "\n",
    "\n",
    "#PARTITION() method searches for a specified string, and splits the string into a tuple containing three elements.\n",
    "print(a3.partition(\"name\"))\n",
    "\n",
    "#RPARTITION-method searches for the last occurrence of a specified string, and splits the string into a tuple containing three elements.\n",
    "print(a3.rpartition(\"i\"))\n",
    "\n",
    "#REPLACE-method replaces a specified phrase with another specified phrase. count refers for how many word you want to change\n",
    "print(a.replace(\"abi\\nesh\",\"abinesh\"))\n",
    "r=\" my things is my things that is my things\"\n",
    "print(r.replace(\"things\",\"name\",3))\n",
    "\n",
    "#RSPLIT-method splits a string into a list, starting from the right.\n",
    "print(txt.rsplit())\n",
    "\n",
    "#SPLIT\n",
    "print(txt.split())\n",
    "\n",
    "#SPLITLINES-method splits a string into a list. The splitting is done at line breaks.\n",
    "print(a.split())\n",
    "\n",
    "#STARTSWITH-check the string start with this statement\n",
    "print(txt2.startswith(\"My\"))\n",
    "\n",
    "#SWAPCASE-return all upper to lower,lower to upper by each case\n",
    "s=\"i am ABINESH\"\n",
    "print(s.swapcase())\n",
    "\n",
    "#TITLE- method returns a string where the first character in every word is upper case. Like a header, or a title.\n",
    "print(s.title())\n",
    "\n",
    "#ZFILL-The zfill() method adds zeros (0) at the beginning of the string, until it reaches the specified length.\n",
    "print(s.zfill(20))\n",
    "\n"
   ]
  },
  {
   "cell_type": "code",
   "execution_count": null,
   "id": "67c4c9c9-0af2-4699-9a12-ec3bd90545d2",
   "metadata": {},
   "outputs": [],
   "source": []
  }
 ],
 "metadata": {
  "kernelspec": {
   "display_name": "Python [conda env:base] *",
   "language": "python",
   "name": "conda-base-py"
  },
  "language_info": {
   "codemirror_mode": {
    "name": "ipython",
    "version": 3
   },
   "file_extension": ".py",
   "mimetype": "text/x-python",
   "name": "python",
   "nbconvert_exporter": "python",
   "pygments_lexer": "ipython3",
   "version": "3.13.5"
  }
 },
 "nbformat": 4,
 "nbformat_minor": 5
}
