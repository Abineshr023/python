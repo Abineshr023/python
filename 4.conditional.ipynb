{
 "cells": [
  {
   "cell_type": "code",
   "execution_count": 5,
   "id": "c7ff8c41-df9c-4728-ad4f-9f0bee11f28c",
   "metadata": {},
   "outputs": [
    {
     "name": "stdout",
     "output_type": "stream",
     "text": [
      "b: 10\n"
     ]
    }
   ],
   "source": [
    "#CONDITIONAL                - basics -\n",
    "a=5\n",
    "b=10\n",
    "c=6\n",
    "if a>b and a>c:            #if the condition satisfies it prints \n",
    "    print(\"a:\",a)\n",
    "elif b>a and b>c:         #the above condition did not satisfies then print the elif\n",
    "    print(\"b:\",b)\n",
    "else:\n",
    "    print(\"c:\",c)         #the both above condition not satisfies then it comes to else part\n",
    "    \n",
    "    "
   ]
  },
  {
   "cell_type": "code",
   "execution_count": 6,
   "id": "22ecf06d-d65d-4b77-83ee-2b31188c93bf",
   "metadata": {},
   "outputs": [
    {
     "name": "stdout",
     "output_type": "stream",
     "text": [
      "defined\n"
     ]
    }
   ],
   "source": [
    "a=\"apple\"\n",
    "if \"a\" in a:\n",
    "    print(\"defined\")\n",
    "else:\n",
    "    print(\"not defined\")"
   ]
  },
  {
   "cell_type": "code",
   "execution_count": 1,
   "id": "94e2ea92-c1d4-43c3-acf1-d6de94767955",
   "metadata": {},
   "outputs": [
    {
     "name": "stdout",
     "output_type": "stream",
     "text": [
      "false\n"
     ]
    }
   ],
   "source": [
    "a=['apple']             '''the program returns false because of searching a specified character in list is cant acceptable but in string it can be access''' \n",
    "if 'a' in a:\n",
    "    print('True')\n",
    "else:                        \n",
    "    print('false')          "
   ]
  },
  {
   "cell_type": "code",
   "execution_count": null,
   "id": "f0565a0c-25e5-47c3-995a-8f67e46231ed",
   "metadata": {},
   "outputs": [],
   "source": []
  }
 ],
 "metadata": {
  "kernelspec": {
   "display_name": "Python [conda env:base] *",
   "language": "python",
   "name": "conda-base-py"
  },
  "language_info": {
   "codemirror_mode": {
    "name": "ipython",
    "version": 3
   },
   "file_extension": ".py",
   "mimetype": "text/x-python",
   "name": "python",
   "nbconvert_exporter": "python",
   "pygments_lexer": "ipython3",
   "version": "3.13.5"
  }
 },
 "nbformat": 4,
 "nbformat_minor": 5
}
