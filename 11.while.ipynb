{
 "cells": [
  {
   "cell_type": "code",
   "execution_count": 2,
   "id": "56b70a2e-6f66-4f38-a4e8-420acea29c03",
   "metadata": {},
   "outputs": [
    {
     "name": "stdout",
     "output_type": "stream",
     "text": [
      "5\n"
     ]
    }
   ],
   "source": [
    "#while=\n"
   ]
  },
  {
   "cell_type": "code",
   "execution_count": 3,
   "id": "73edec88-fdef-4e73-ab46-52b144ccb6d2",
   "metadata": {},
   "outputs": [
    {
     "name": "stdout",
     "output_type": "stream",
     "text": [
      "5\n"
     ]
    }
   ],
   "source": [
    "k=[1,2,3,4,5]\n",
    "n=0\n",
    "for i in k:\n",
    "    n+=1\n",
    "print(n)"
   ]
  },
  {
   "cell_type": "code",
   "execution_count": 4,
   "id": "15ce8d30-732c-403b-addc-346fdd0f320a",
   "metadata": {},
   "outputs": [
    {
     "name": "stdout",
     "output_type": "stream",
     "text": [
      "5\n"
     ]
    }
   ],
   "source": [
    "k=[1,2,3,4,5]\n",
    "n=0\n",
    "while i>n:\n",
    "    n+=1\n",
    "print(n)    "
   ]
  },
  {
   "cell_type": "code",
   "execution_count": 7,
   "id": "ad519af8-109e-48cc-84ac-9c173aa64b67",
   "metadata": {},
   "outputs": [
    {
     "name": "stdout",
     "output_type": "stream",
     "text": [
      "[1, 2, 3, 4, 5]\n"
     ]
    }
   ],
   "source": [
    "k=[1,2,3,4,5]\n",
    "for i in range(6):\n",
    "    \n",
    "print(i)"
   ]
  },
  {
   "cell_type": "code",
   "execution_count": 10,
   "id": "65ccf4b3-9f77-45b2-a9ed-2352e651346d",
   "metadata": {},
   "outputs": [
    {
     "name": "stdout",
     "output_type": "stream",
     "text": [
      "3\n"
     ]
    }
   ],
   "source": [
    "k=\"hi hello how\"\n",
    "n=0\n",
    "for i in k:\n",
    "    if 'h' in i:\n",
    "        n+=1\n",
    "print(n)        \n",
    "    "
   ]
  },
  {
   "cell_type": "code",
   "execution_count": 11,
   "id": "ac16ebdc-7153-445d-a3f2-e759bc9e2aee",
   "metadata": {},
   "outputs": [
    {
     "name": "stdout",
     "output_type": "stream",
     "text": [
      "3\n"
     ]
    }
   ],
   "source": [
    "k=\"hi hello how\"\n",
    "n=0\n",
    "for i in k:\n",
    "    if i=='h':\n",
    "        n+=1\n",
    "print(n)"
   ]
  },
  {
   "cell_type": "code",
   "execution_count": null,
   "id": "b83156f0-7d07-4726-839f-e593c7ba178c",
   "metadata": {},
   "outputs": [],
   "source": []
  }
 ],
 "metadata": {
  "kernelspec": {
   "display_name": "Python [conda env:base] *",
   "language": "python",
   "name": "conda-base-py"
  },
  "language_info": {
   "codemirror_mode": {
    "name": "ipython",
    "version": 3
   },
   "file_extension": ".py",
   "mimetype": "text/x-python",
   "name": "python",
   "nbconvert_exporter": "python",
   "pygments_lexer": "ipython3",
   "version": "3.13.5"
  }
 },
 "nbformat": 4,
 "nbformat_minor": 5
}
