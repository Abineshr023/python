{
 "cells": [
  {
   "cell_type": "code",
   "execution_count": 1,
   "id": "4258045d-5e15-41cc-9113-637016d69a55",
   "metadata": {},
   "outputs": [
    {
     "name": "stdout",
     "output_type": "stream",
     "text": [
      "name error\n"
     ]
    }
   ],
   "source": [
    "#try and except\n",
    "#exception as\n",
    "try:\n",
    "    a=10\n",
    "    b=20\n",
    "    print(a/c)\n",
    "except NameError:\n",
    "    print(\"name error\")\n",
    "except TypeError:\n",
    "    print(\"type error\")\n",
    "    "
   ]
  },
  {
   "cell_type": "code",
   "execution_count": 5,
   "id": "58df2de5-8ed7-4e31-8122-8db2c9e29372",
   "metadata": {},
   "outputs": [
    {
     "name": "stdout",
     "output_type": "stream",
     "text": [
      "type error\n"
     ]
    }
   ],
   "source": [
    "try:\n",
    "    a=\"hi\"\n",
    "    b=\"hi\"\n",
    "    print(a*b)\n",
    "except NameError:\n",
    "    print(\"name error\")\n",
    "except TypeError:\n",
    "    print(\"type error\")\n",
    "except ZeroDivisionError:\n",
    "    print(\"zero type error\")\n",
    "except IndentationError:\n",
    "    print(\"indenterror\")\n",
    "except ValueError:\n",
    "    print(\"valueerror\")"
   ]
  },
  {
   "cell_type": "code",
   "execution_count": 6,
   "id": "0a653ea1-ce13-42b7-a4da-35956b089875",
   "metadata": {},
   "outputs": [
    {
     "name": "stdout",
     "output_type": "stream",
     "text": [
      "unsupported operand type(s) for /: 'int' and 'str'\n",
      "enter domain correctly\n"
     ]
    }
   ],
   "source": [
    "try:\n",
    "    a=10\n",
    "    b=\"\"\n",
    "    print(a/b)\n",
    "except Exception as e:\n",
    "    print(e)\n",
    "finally:\n",
    "    print(\"enter domain correctly\")"
   ]
  },
  {
   "cell_type": "code",
   "execution_count": 7,
   "id": "7b1ab934-6868-43ce-97fb-accb382b50c6",
   "metadata": {},
   "outputs": [
    {
     "name": "stdin",
     "output_type": "stream",
     "text": [
      "Enter first number:  6\n",
      "Enter second number:  0\n",
      "Enter an operation (+, -, *, /):  /\n"
     ]
    },
    {
     "name": "stdout",
     "output_type": "stream",
     "text": [
      "Error: division by zero\n"
     ]
    }
   ],
   "source": [
    "def calci():\n",
    "    try:\n",
    "        a = int(input(\"Enter first number: \"))\n",
    "        b = int(input(\"Enter second number: \"))\n",
    "\n",
    "        def add(a, b):\n",
    "            return a + b\n",
    "\n",
    "        def sub(a, b):\n",
    "            return a - b\n",
    "\n",
    "        def mult(a, b):\n",
    "            return a * b\n",
    "\n",
    "        def div(a, b):\n",
    "            return a / b\n",
    "\n",
    "        typ = input(\"Enter an operation (+, -, *, /): \")\n",
    "\n",
    "        if typ == \"+\":\n",
    "            print(add(a, b))\n",
    "        elif typ == \"-\":\n",
    "            print(sub(a, b))\n",
    "        elif typ == \"*\":\n",
    "            print( mult(a, b))\n",
    "        elif typ == \"/\":\n",
    "            print(\"Result:\", div(a, b))\n",
    "        else:\n",
    "            print(\"Invalid operation\")\n",
    "\n",
    "    except Exception as e:\n",
    "        print(\"Error:\", e)\n",
    "\n",
    "\n",
    "calci()\n"
   ]
  },
  {
   "cell_type": "code",
   "execution_count": null,
   "id": "43a1346c-fe69-4edf-9b3a-7eb8ff1bffc3",
   "metadata": {},
   "outputs": [],
   "source": []
  }
 ],
 "metadata": {
  "kernelspec": {
   "display_name": "Python [conda env:base] *",
   "language": "python",
   "name": "conda-base-py"
  },
  "language_info": {
   "codemirror_mode": {
    "name": "ipython",
    "version": 3
   },
   "file_extension": ".py",
   "mimetype": "text/x-python",
   "name": "python",
   "nbconvert_exporter": "python",
   "pygments_lexer": "ipython3",
   "version": "3.13.5"
  }
 },
 "nbformat": 4,
 "nbformat_minor": 5
}
