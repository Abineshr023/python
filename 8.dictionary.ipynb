{
 "cells": [
  {
   "cell_type": "code",
   "execution_count": 9,
   "id": "0415295b-847c-464c-87cc-a2473a952179",
   "metadata": {},
   "outputs": [
    {
     "name": "stdout",
     "output_type": "stream",
     "text": [
      "{'b': 'name', 'c': 'cls', 'd': 'domain'}\n",
      "dict_keys(['b', 'c', 'd'])\n",
      "dict_values(['name', 'cls', 'domain'])\n",
      "dict_items([('b', 'name'), ('c', 'cls'), ('d', 'domain')])\n"
     ]
    }
   ],
   "source": [
    "#DICTIONARY\n",
    "#its with key and value pair\n",
    "#mutable and unordered\n",
    "#key wont allow duplicates but value allow\n",
    "\n",
    "a={\"b\":'name',\"c\":'cls',\"d\":'domain'}\n",
    "print(a)                      #print-dictionary\n",
    "print(a.keys())               #print the key (variable)\n",
    "print(a.values())             #print the values\n",
    "print(a.items())              #print the item in dictionary"
   ]
  },
  {
   "cell_type": "code",
   "execution_count": 12,
   "id": "aec2c40a-7162-4a88-9961-3104bb3c6e2c",
   "metadata": {},
   "outputs": [
    {
     "name": "stdout",
     "output_type": "stream",
     "text": [
      "{'b': 'name', 'c': 'cls', 'd': 'domain', 'no': 1}\n"
     ]
    }
   ],
   "source": [
    "a[\"no\"]=1\n",
    "print(a)"
   ]
  },
  {
   "cell_type": "code",
   "execution_count": 14,
   "id": "065db3d8-1f75-499b-a70d-f0bfb4ab1d33",
   "metadata": {},
   "outputs": [
    {
     "data": {
      "text/plain": [
       "{'b': 'name', 'c': 'cls', 'd': 'domain', 'no': 1, 'yr': 2025}"
      ]
     },
     "execution_count": 14,
     "metadata": {},
     "output_type": "execute_result"
    }
   ],
   "source": [
    "b={\"yr\":2025}\n",
    "a.update(b)\n",
    "a"
   ]
  },
  {
   "cell_type": "code",
   "execution_count": 11,
   "id": "c5e591cd-aba7-4968-89ba-d75a098e3902",
   "metadata": {},
   "outputs": [
    {
     "name": "stdout",
     "output_type": "stream",
     "text": [
      "4\n"
     ]
    },
    {
     "data": {
      "text/plain": [
       "{'b': 'name', 'c': 'cls', 'd': 'domain', 's': 'score'}"
      ]
     },
     "execution_count": 11,
     "metadata": {},
     "output_type": "execute_result"
    }
   ],
   "source": [
    "a={\"b\":'name',\"c\":'cls',\"d\":'domain'}\n",
    "a[\"d\"]\n",
    "a[\"s\"]=\"score\"\n",
    "\n",
    "print(len(a))\n",
    "a"
   ]
  },
  {
   "cell_type": "code",
   "execution_count": 14,
   "id": "1683c812-048c-4c17-8c80-e6cd29295cb4",
   "metadata": {},
   "outputs": [
    {
     "data": {
      "text/plain": [
       "dict"
      ]
     },
     "execution_count": 14,
     "metadata": {},
     "output_type": "execute_result"
    }
   ],
   "source": [
    "n=a[\"s\"]\n",
    "n\n",
    "type(a)"
   ]
  },
  {
   "cell_type": "code",
   "execution_count": 8,
   "id": "81178155-bade-477a-9992-9314cd0112e8",
   "metadata": {},
   "outputs": [
    {
     "name": "stdout",
     "output_type": "stream",
     "text": [
      "cls\n"
     ]
    }
   ],
   "source": [
    "a={\"b\":'name',\"c\":'cls',\"d\":'domain'}\n",
    "m=a.get(\"c\")\n",
    "print(m)"
   ]
  },
  {
   "cell_type": "code",
   "execution_count": 9,
   "id": "b526708a-e776-4303-81ef-13ffb4a8fa47",
   "metadata": {},
   "outputs": [
    {
     "data": {
      "text/plain": [
       "{'b': 'name', 'c': 'cls', 'd': 'domain', 'b1': 'names', 'model': 2021}"
      ]
     },
     "execution_count": 9,
     "metadata": {},
     "output_type": "execute_result"
    }
   ],
   "source": [
    "a={\"b\":'name',\"c\":'cls',\"d\":'domain'}\n",
    "b={\"b1\":'names',\"model\":2021}\n",
    "a.update(b)\n",
    "a"
   ]
  },
  {
   "cell_type": "code",
   "execution_count": 11,
   "id": "77eae2b8-e46c-4f83-8209-bc152622eff3",
   "metadata": {},
   "outputs": [
    {
     "data": {
      "text/plain": [
       "{'b': 'name', 'c': 'cls', 'd': 'domain', 'model': 2021}"
      ]
     },
     "execution_count": 11,
     "metadata": {},
     "output_type": "execute_result"
    }
   ],
   "source": [
    "a.pop('b1')\n",
    "a"
   ]
  },
  {
   "cell_type": "code",
   "execution_count": 12,
   "id": "2c049b6c-8101-404b-9960-719f9e085bd7",
   "metadata": {},
   "outputs": [
    {
     "data": {
      "text/plain": [
       "{'b': 'name', 'c': 'cls', 'd': 'domain'}"
      ]
     },
     "execution_count": 12,
     "metadata": {},
     "output_type": "execute_result"
    }
   ],
   "source": [
    "a.popitem()\n",
    "a"
   ]
  },
  {
   "cell_type": "code",
   "execution_count": 13,
   "id": "e4326eea-b4b2-4701-955a-c45bd1c4570e",
   "metadata": {},
   "outputs": [
    {
     "data": {
      "text/plain": [
       "{'b': 'name', 'd': 'domain'}"
      ]
     },
     "execution_count": 13,
     "metadata": {},
     "output_type": "execute_result"
    }
   ],
   "source": [
    "del a['c']\n",
    "a"
   ]
  },
  {
   "cell_type": "code",
   "execution_count": 14,
   "id": "ff74ea22-8061-40bd-ba7b-0fd82e2a4978",
   "metadata": {},
   "outputs": [
    {
     "data": {
      "text/plain": [
       "{}"
      ]
     },
     "execution_count": 14,
     "metadata": {},
     "output_type": "execute_result"
    }
   ],
   "source": [
    "a={\"b\":'name',\"c\":'cls',\"d\":'domain'}\n",
    "\n",
    "a.clear()\n",
    "a"
   ]
  },
  {
   "cell_type": "code",
   "execution_count": 17,
   "id": "a2f1b900-08a1-4203-8ef0-3c04dcd86519",
   "metadata": {},
   "outputs": [
    {
     "data": {
      "text/plain": [
       "{'name': 'abinesh', 'course': 'sql'}"
      ]
     },
     "execution_count": 17,
     "metadata": {},
     "output_type": "execute_result"
    }
   ],
   "source": [
    "d={\"t\":{\"name\":\"abi\",\"course\":\"python\"},\n",
    "   \"t1\":{\"name\":\"abinesh\",\"course\":\"sql\"},\n",
    "   \"t2\":{\"name\":\"andro\",\"course\":\"java\"}\n",
    "  }\n",
    "d[\"t\"][\"name\"]\n",
    "d[\"t1\"]"
   ]
  },
  {
   "cell_type": "code",
   "execution_count": 22,
   "id": "d0974692-35a2-4d97-8f7b-12f597af5a04",
   "metadata": {},
   "outputs": [
    {
     "data": {
      "text/plain": [
       "dict_items([('t', {'name': 'abi', 'course': 'python'}), ('t1', {'name': 'abinesh', 'course': 'sql'}), ('t2', {'name': 'andro', 'course': 'java'})])"
      ]
     },
     "execution_count": 22,
     "metadata": {},
     "output_type": "execute_result"
    }
   ],
   "source": [
    "d.keys()\n",
    "d.values()\n",
    "d.items()"
   ]
  },
  {
   "cell_type": "code",
   "execution_count": null,
   "id": "5f4057f8-eb2d-446a-b2cb-f4b56830d326",
   "metadata": {},
   "outputs": [],
   "source": []
  }
 ],
 "metadata": {
  "kernelspec": {
   "display_name": "Python [conda env:base] *",
   "language": "python",
   "name": "conda-base-py"
  },
  "language_info": {
   "codemirror_mode": {
    "name": "ipython",
    "version": 3
   },
   "file_extension": ".py",
   "mimetype": "text/x-python",
   "name": "python",
   "nbconvert_exporter": "python",
   "pygments_lexer": "ipython3",
   "version": "3.13.5"
  }
 },
 "nbformat": 4,
 "nbformat_minor": 5
}
