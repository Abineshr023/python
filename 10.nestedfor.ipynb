{
 "cells": [
  {
   "cell_type": "code",
   "execution_count": 40,
   "id": "8436f802-26fa-4164-8bb6-979681657a56",
   "metadata": {},
   "outputs": [
    {
     "name": "stdout",
     "output_type": "stream",
     "text": [
      "when i = 1\n",
      "1 * 7\n",
      "when i = 2\n",
      "2 * 7\n",
      "when i = 3\n",
      "3 * 7\n",
      "when i = 4\n",
      "4 * 7\n",
      "when i = 5\n",
      "5 * 7\n",
      "when i = 6\n",
      "6 * 7\n",
      "when i = 7\n",
      "7 * 1\n",
      "7 * 2\n",
      "7 * 3\n",
      "7 * 4\n",
      "7 * 5\n",
      "7 * 6\n",
      "7 * 7\n",
      "7 * 8\n",
      "7 * 9\n",
      "7 * 10\n",
      "when i = 8\n",
      "8 * 7\n",
      "when i = 9\n",
      "9 * 7\n",
      "when i = 10\n",
      "10 * 7\n",
      "19 possible\n"
     ]
    }
   ],
   "source": [
    "#nestedfor is similair of nestedif \n",
    "#in this nestedfor the var in data its perform another for to perform action with combination\n",
    "a=10\n",
    "count=0\n",
    "for i in range(1,a+1):                                 #get the possible of value is divisible by 2 in a given range\n",
    "    print(\"when i =\",i)\n",
    "    for j in range(1,a+1):\n",
    "        if i*j %7==0:\n",
    "            count=count+1\n",
    "            print(i,'*',j)\n",
    "\n",
    "print(count,\"possible\")            "
   ]
  },
  {
   "cell_type": "code",
   "execution_count": 27,
   "id": "ecd0b2fe-6eb4-48bc-bcae-67f939cc7d5a",
   "metadata": {},
   "outputs": [
    {
     "name": "stdout",
     "output_type": "stream",
     "text": [
      "1\n",
      "2\n",
      "3\n",
      "4\n",
      "5\n",
      "6\n",
      "7\n",
      "8\n",
      "9\n",
      "10\n"
     ]
    }
   ],
   "source": [
    "for i in range(1,a+1):\n",
    "    print(i)"
   ]
  },
  {
   "cell_type": "code",
   "execution_count": 74,
   "id": "e9e195dc-bd2c-4feb-8767-ab722edb3c5d",
   "metadata": {},
   "outputs": [
    {
     "name": "stdout",
     "output_type": "stream",
     "text": [
      "\n",
      "*\n",
      "**\n",
      "***\n",
      "****\n",
      "*****\n",
      "******"
     ]
    }
   ],
   "source": [
    "n=6\n",
    "for i in range(1,n+1):\n",
    "    \n",
    "    print()                            #pattern\n",
    "    for j in range(i):\n",
    "        print(\"*\",end=\"\")\n",
    "        "
   ]
  },
  {
   "cell_type": "code",
   "execution_count": 79,
   "id": "35e81c66-82f3-47f7-98c9-d914dfc01036",
   "metadata": {},
   "outputs": [
    {
     "name": "stdout",
     "output_type": "stream",
     "text": [
      "\n",
      "      * \n",
      "     * * \n",
      "    * * * \n",
      "   * * * * \n",
      "  * * * * * \n",
      " * * * * * * \n",
      "* * * * * * * "
     ]
    }
   ],
   "source": [
    "n=7\n",
    "for i in range(1,n+1):\n",
    "    print()\n",
    "    for j in range(n-i):\n",
    "        print(\" \",end=\"\")\n",
    "    for k in range(i):\n",
    "        print(\"*\",end=\" \")\n",
    "   "
   ]
  },
  {
   "cell_type": "code",
   "execution_count": 95,
   "id": "a93f58dc-6ee7-40ea-a3db-1e80392cd129",
   "metadata": {},
   "outputs": [
    {
     "name": "stdout",
     "output_type": "stream",
     "text": [
      "\n",
      "   1    2    3    4    5    6    7    8    9   10 \n",
      "   2    4    6    8   10   12   14   16   18   20 \n",
      "   3    6    9   12   15   18   21   24   27   30 \n",
      "   4    8   12   16   20   24   28   32   36   40 \n",
      "   5   10   15   20   25   30   35   40   45   50 \n",
      "   6   12   18   24   30   36   42   48   54   60 \n",
      "   7   14   21   28   35   42   49   56   63   70 \n",
      "   8   16   24   32   40   48   56   64   72   80 \n",
      "   9   18   27   36   45   54   63   72   81   90 \n",
      "  10   20   30   40   50   60   70   80   90  100 \n"
     ]
    }
   ],
   "source": [
    "n=10\n",
    "for i in range(1,n+1):\n",
    "    print()\n",
    "    for j in range(1,n+1):\n",
    "        print(f\"{i*j:4}\",end=\" \")              #used to format the order\n",
    "print()"
   ]
  },
  {
   "cell_type": "code",
   "execution_count": 98,
   "id": "6fcb0b85-cd2e-46f9-b540-3639f3ff0d8a",
   "metadata": {},
   "outputs": [
    {
     "name": "stdout",
     "output_type": "stream",
     "text": [
      "0\n",
      "1\n"
     ]
    }
   ],
   "source": [
    "n=2\n",
    "for i in range(n):\n",
    "    print(i)"
   ]
  },
  {
   "cell_type": "code",
   "execution_count": null,
   "id": "7cf43287-2146-4d33-8506-be2f2d5cf2ef",
   "metadata": {},
   "outputs": [],
   "source": []
  }
 ],
 "metadata": {
  "kernelspec": {
   "display_name": "Python [conda env:base] *",
   "language": "python",
   "name": "conda-base-py"
  },
  "language_info": {
   "codemirror_mode": {
    "name": "ipython",
    "version": 3
   },
   "file_extension": ".py",
   "mimetype": "text/x-python",
   "name": "python",
   "nbconvert_exporter": "python",
   "pygments_lexer": "ipython3",
   "version": "3.13.5"
  }
 },
 "nbformat": 4,
 "nbformat_minor": 5
}
