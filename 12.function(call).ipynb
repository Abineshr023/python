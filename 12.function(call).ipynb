{
 "cells": [
  {
   "cell_type": "code",
   "execution_count": 1,
   "id": "004a752a-8fe1-4768-827f-edd0b17c900c",
   "metadata": {},
   "outputs": [
    {
     "name": "stdout",
     "output_type": "stream",
     "text": [
      "15\n"
     ]
    }
   ],
   "source": [
    "#function \n",
    "#def is one type of function used to call the process\n",
    "#its helps to process a lot of code in sheet then using of def it be call specif or wanted code for execution\n",
    "a=10\n",
    "b=5\n",
    "def add():\n",
    "    c=a+b\n",
    "    print(c)\n",
    "add()    "
   ]
  },
  {
   "cell_type": "code",
   "execution_count": 2,
   "id": "01bee347-dbec-4b5f-916a-f152c73f6df3",
   "metadata": {},
   "outputs": [
    {
     "name": "stdout",
     "output_type": "stream",
     "text": [
      "2\n"
     ]
    }
   ],
   "source": [
    "def sub():\n",
    "    a=5\n",
    "    b=3\n",
    "    c=a-b\n",
    "    print(c)\n",
    "sub()    "
   ]
  },
  {
   "cell_type": "code",
   "execution_count": 5,
   "id": "d3108d19-2fbd-421c-a3ff-6d14443f6ab3",
   "metadata": {},
   "outputs": [
    {
     "name": "stdin",
     "output_type": "stream",
     "text": [
      " 5\n",
      " 7\n"
     ]
    },
    {
     "name": "stdout",
     "output_type": "stream",
     "text": [
      "35\n"
     ]
    }
   ],
   "source": [
    "#passing with arguements\n",
    "def multi(a,b):\n",
    "    c=a*b\n",
    "    print(c)\n",
    "a=int(input())\n",
    "b=int(input())\n",
    "multi(a,b)"
   ]
  },
  {
   "cell_type": "code",
   "execution_count": 4,
   "id": "09668080-833f-4c45-84c2-28fdbe4387dd",
   "metadata": {},
   "outputs": [
    {
     "name": "stdout",
     "output_type": "stream",
     "text": [
      "5 2\n"
     ]
    }
   ],
   "source": [
    "def arg(a,b):\n",
    "    print(a,b)\n",
    "arg(a=5,b=2)"
   ]
  },
  {
   "cell_type": "code",
   "execution_count": 5,
   "id": "b34963b4-2302-4dab-8b13-2cdad1742e52",
   "metadata": {},
   "outputs": [
    {
     "name": "stdout",
     "output_type": "stream",
     "text": [
      "10 5\n"
     ]
    }
   ],
   "source": [
    "def arg(a,b):\n",
    "    print(a,b)\n",
    "arg(b=5,a=10)"
   ]
  },
  {
   "cell_type": "code",
   "execution_count": 4,
   "id": "feb9c1ef-fb65-423d-93c6-b7fafb97bd2e",
   "metadata": {},
   "outputs": [
    {
     "name": "stdout",
     "output_type": "stream",
     "text": [
      "add- 3\n",
      "sub- 2\n",
      "multi- 6\n"
     ]
    }
   ],
   "source": [
    "#return-used to get the value in outer function \n",
    "#declaring function to name like declaring the def process as variable\n",
    "def add(a,b):\n",
    "    c=a+b\n",
    "    return c\n",
    "k=add(1,2)\n",
    "print(\"add-\",k)\n",
    "\n",
    "def sub(a,b):\n",
    "    d=a-b\n",
    "    return d\n",
    "s=sub(3,1)\n",
    "print(\"sub-\",s)\n",
    "print(\"multi-\",k*s)"
   ]
  },
  {
   "cell_type": "code",
   "execution_count": 3,
   "id": "c1661d29-e815-4cbe-a774-c307f52d2116",
   "metadata": {},
   "outputs": [
    {
     "name": "stdout",
     "output_type": "stream",
     "text": [
      "15\n",
      "-75\n"
     ]
    }
   ],
   "source": [
    "#global-its used to get the value of input or variable in any other function\n",
    "a=5\n",
    "b=10\n",
    "def add():\n",
    "    global c,d\n",
    "    c=a+b\n",
    "    d=a-b\n",
    "    print(c)\n",
    "add()\n",
    "def gl():\n",
    "    n=c*d\n",
    "    print(n)\n",
    "gl()"
   ]
  },
  {
   "cell_type": "code",
   "execution_count": 9,
   "id": "f829332e-db4b-4b25-aa45-ce22a4476c12",
   "metadata": {},
   "outputs": [
    {
     "name": "stdout",
     "output_type": "stream",
     "text": [
      "12\n",
      "60\n"
     ]
    }
   ],
   "source": [
    "#declaring calling as variable\n",
    "def sum(n1,n2):\n",
    "    a=n1+n2\n",
    "    return a\n",
    "l=sum(n1=10,n2=2)  #l is declaring variable for function process and the answer is output of function \n",
    "print(l)\n",
    "              \n",
    "b=5\n",
    "print(b*l)"
   ]
  },
  {
   "cell_type": "code",
   "execution_count": 15,
   "id": "fee10a63-a225-4792-81e7-0ce8042e16b9",
   "metadata": {},
   "outputs": [
    {
     "name": "stdout",
     "output_type": "stream",
     "text": [
      "2\n"
     ]
    }
   ],
   "source": [
    "#get all arguments and get the value\n",
    "def sum(**k):\n",
    "    \n",
    "    print(k[\"a\"])\n",
    "sum(a=2,b=3,c=4)"
   ]
  },
  {
   "cell_type": "code",
   "execution_count": null,
   "id": "12dbbe7d-ae33-44d5-884e-e5c0eb58c1fa",
   "metadata": {},
   "outputs": [],
   "source": []
  },
  {
   "cell_type": "code",
   "execution_count": null,
   "id": "ddac1ed2-c3e6-40a4-9264-1b92b5121f00",
   "metadata": {},
   "outputs": [],
   "source": []
  },
  {
   "cell_type": "code",
   "execution_count": null,
   "id": "a2643897-1766-4f26-955a-51e0af0a1a98",
   "metadata": {},
   "outputs": [],
   "source": []
  },
  {
   "cell_type": "code",
   "execution_count": 1,
   "id": "ce3350f0-4a8d-45ce-b41e-9ae6799acec7",
   "metadata": {},
   "outputs": [
    {
     "name": "stdin",
     "output_type": "stream",
     "text": [
      "enter 1st value: 1\n",
      "enter 2nd value: 2\n",
      "enter operation: 1\n"
     ]
    },
    {
     "name": "stdout",
     "output_type": "stream",
     "text": [
      "3\n"
     ]
    }
   ],
   "source": [
    "def arith():\n",
    "    a=int(input(\"enter 1st value:\"))\n",
    "    b=int(input(\"enter 2nd value:\"))\n",
    "    c=int(input(\"enter operation:\"))\n",
    "    if c== 1:\n",
    "        def add():\n",
    "            c=a+b\n",
    "            print(c) \n",
    "        add()    \n",
    "    elif c== 2:\n",
    "        def sub():\n",
    "            c=a-b\n",
    "            print(c) \n",
    "        sub()\n",
    "    elif c==3:\n",
    "        def multi():\n",
    "            c=a*b\n",
    "            print(c) \n",
    "        multi()\n",
    "    elif c==4:\n",
    "        def divi():\n",
    "            c=a/b\n",
    "            print(c) \n",
    "        divi()\n",
    "arith()\n",
    "\n",
    "    "
   ]
  },
  {
   "cell_type": "code",
   "execution_count": null,
   "id": "84fedb0e-89d7-448a-9fb5-480428053f79",
   "metadata": {},
   "outputs": [],
   "source": []
  },
  {
   "cell_type": "code",
   "execution_count": 1,
   "id": "e038bc66-f241-4855-a5b1-46ad941082f8",
   "metadata": {},
   "outputs": [
    {
     "name": "stdin",
     "output_type": "stream",
     "text": [
      "Enter first number:  45\n",
      "Enter second number:  0\n",
      "Enter an operation (+, -, *, /):  /\n"
     ]
    },
    {
     "name": "stdout",
     "output_type": "stream",
     "text": [
      "Error: division by zero\n"
     ]
    }
   ],
   "source": [
    "def calci():\n",
    "    try:\n",
    "        a = int(input(\"Enter first number: \"))\n",
    "        b = int(input(\"Enter second number: \"))\n",
    "\n",
    "        def add(a, b):\n",
    "            return a + b\n",
    "\n",
    "        def sub(a, b):\n",
    "            return a - b\n",
    "\n",
    "        def mult(a, b):\n",
    "            return a * b\n",
    "\n",
    "        def div(a, b):\n",
    "            return a / b\n",
    "\n",
    "        typ = input(\"Enter an operation (+, -, *, /): \")\n",
    "\n",
    "        if typ == \"+\":\n",
    "            print(add(a, b))\n",
    "        elif typ == \"-\":\n",
    "            print(sub(a, b))\n",
    "        elif typ == \"*\":\n",
    "            print( mult(a, b))\n",
    "        elif typ == \"/\":\n",
    "            print(\"Result:\", div(a, b))\n",
    "        else:\n",
    "            print(\"Invalid operation\")\n",
    "\n",
    "    except Exception as e:\n",
    "        print(\"Error:\", e)\n",
    "\n",
    "\n",
    "calci()\n"
   ]
  },
  {
   "cell_type": "code",
   "execution_count": null,
   "id": "cfd5c506-dfb1-48b7-be9a-8533afd9907f",
   "metadata": {},
   "outputs": [],
   "source": [
    "#random"
   ]
  }
 ],
 "metadata": {
  "kernelspec": {
   "display_name": "Python [conda env:base] *",
   "language": "python",
   "name": "conda-base-py"
  },
  "language_info": {
   "codemirror_mode": {
    "name": "ipython",
    "version": 3
   },
   "file_extension": ".py",
   "mimetype": "text/x-python",
   "name": "python",
   "nbconvert_exporter": "python",
   "pygments_lexer": "ipython3",
   "version": "3.13.5"
  }
 },
 "nbformat": 4,
 "nbformat_minor": 5
}
