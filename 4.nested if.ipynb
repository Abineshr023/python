{
 "cells": [
  {
   "cell_type": "code",
   "execution_count": 22,
   "id": "ae8abb1d-d57b-40e0-b4d1-0c99db998601",
   "metadata": {},
   "outputs": [
    {
     "name": "stdin",
     "output_type": "stream",
     "text": [
      "skill: sql\n",
      "exp: 1\n",
      "native: cbe\n"
     ]
    },
    {
     "name": "stdout",
     "output_type": "stream",
     "text": [
      "data not matching\n"
     ]
    }
   ],
   "source": [
    "#conditional\n",
    "skill=input(\"skill:\")\n",
    "exp=int(input(\"exp:\"))\n",
    "native=input(\"native:\")\n",
    "if skill==\"python\":\n",
    "    if native==\"chennai\":\n",
    "        if exp==1:\n",
    "            print(\"TCS\")\n",
    "        elif exp==2:\n",
    "            print(\"wipro\")\n",
    "        else:\n",
    "            print(\"not matching\")\n",
    "            \n",
    "elif skill==\"java\":\n",
    "    if native==\"cbe\":\n",
    "        if exp==1:\n",
    "            print(\"cognizant\")\n",
    "        elif exp==2:\n",
    "            print(\"accenture\")\n",
    "        else:\n",
    "            print(\"not matching\")\n",
    "elif skill==\"java\":\n",
    "    if native==\"chennai\":\n",
    "        if exp==1:\n",
    "            print(\"hcl\")\n",
    "        elif exp==2:\n",
    "            print(\"google\")\n",
    "        else:\n",
    "            print(\"not matching\")\n",
    "else:\n",
    "    print(\"data not matching\")\n",
    "            \n"
   ]
  },
  {
   "cell_type": "code",
   "execution_count": null,
   "id": "0d5042d9-56d0-4d01-b1ca-9fc4ddc8e0ae",
   "metadata": {},
   "outputs": [],
   "source": []
  }
 ],
 "metadata": {
  "kernelspec": {
   "display_name": "Python [conda env:base] *",
   "language": "python",
   "name": "conda-base-py"
  },
  "language_info": {
   "codemirror_mode": {
    "name": "ipython",
    "version": 3
   },
   "file_extension": ".py",
   "mimetype": "text/x-python",
   "name": "python",
   "nbconvert_exporter": "python",
   "pygments_lexer": "ipython3",
   "version": "3.13.5"
  }
 },
 "nbformat": 4,
 "nbformat_minor": 5
}
